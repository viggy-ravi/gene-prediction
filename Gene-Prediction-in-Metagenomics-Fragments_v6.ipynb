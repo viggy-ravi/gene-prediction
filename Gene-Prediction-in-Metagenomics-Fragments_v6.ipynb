{
 "cells": [
  {
   "cell_type": "markdown",
   "metadata": {},
   "source": [
    "# Gene-Prediction-in-Metagenomics-Fragments_v6\n",
    "Written by: Vignesh Ravindranath, Shawn Huang\n",
    "\n",
    "    This project was based on the 2008 paper 'Gene prediction in metagenomic fragments: A large scale machine learning approach' by Hoff et at (see link below). The purpose of the project is to gain a deeper understanding of machine learning approaches and bioinformatics concepts.\n",
    "    The project consists of three main steps:\n",
    "    1) Feature engineering/extraction\n",
    "    2) Linear Discriminant training on high-dimentional features\n",
    "    3) Binary classification neural network for coding/noncoding gene prediction\n",
    "    \n",
    "    In the first step, features such as monocodon (tricodon) usage, dicodon (hexcodon) usage, translation initiation sites (TIS), and GC content must be extracted from prokaryotic genomes. Monocodon and dicodon usage refer to the frequence of codons and dicodons (6 base pairs) in coding and noncoding regions. Coding proteins often have a TIS upstream of the start codon. These TIS patterns are extracted by comparing up and downstream regions for positive TIS candidates (true start codons in coding sequences) to negative TIS candidates (in-frame start codons within coding sequences). Lastly, it is well known that the GC content between coding and noncoding regions vary. \n",
    "    In the second step, linear discriminants are derived to reduce the dimensionality of the extracted features. The individual features (excluding GC content) are taken as multivariate linear regression problems and the Normal Equation is utilized to compute the weights (coefficient) matrix for each feature. \n",
    "    In the last step, a neural network is trained on fragmented data.\n",
    "    \n",
    "    \n",
    "    Summary of features:\n",
    "    x1 - tricodon       - (n,64) table --reduced to a weights matrix of (64,1)\n",
    "    x2 - hexcodon       - (n,4096) table --reduced to a weights matrix of (4096,1)\n",
    "    x3 - positive TIS   - (n,58,64 == n,3712) table --reduced to a weights matrix of (3712,1)\n",
    "    x4 - negative TIS   - (m,58,64 == m,3712) table --reduced to a weights matrix of (3712,1)\n",
    "    x5 - complete seq   - 1 if fragment contains a complete gene, else 0\n",
    "    x6 - incomplete seq - 0 if fragment contains a complete gene, else 1\n",
    "    x7 - GC content     - (n,1) column"
   ]
  },
  {
   "cell_type": "markdown",
   "metadata": {},
   "source": [
    "Reference Gene Prediciton Paper (Hoff et al.):\n",
    "- https://bmcbioinformatics.biomedcentral.com/articles/10.1186/1471-2105-9-217\n",
    "\n",
    "Genbank link (A fulgidus - test prokaryotic genome): \n",
    "- https://www.ncbi.nlm.nih.gov/nuccore/NC_000917\n",
    "\n",
    "Biopython references\n",
    "- http://biopython.org/DIST/docs/tutorial/Tutorial.html\n",
    "- https://biopython.org/wiki/Intergenic_regions\n",
    "- https://biopython.org/docs/dev/api/Bio.SeqFeature.html"
   ]
  },
  {
   "cell_type": "code",
   "execution_count": 1,
   "metadata": {},
   "outputs": [],
   "source": [
    "import re\n",
    "import numpy as np\n",
    "import pandas as pd\n",
    "import textwrap\n",
    "import itertools\n",
    "\n",
    "import sys\n",
    "import Bio\n",
    "from Bio import SeqIO\n",
    "from Bio.SeqRecord import SeqRecord\n",
    "from Bio.SeqFeature import SeqFeature, FeatureLocation\n",
    "\n",
    "import pickle"
   ]
  },
  {
   "cell_type": "markdown",
   "metadata": {},
   "source": [
    "### SEQ_RECORDS FORMAT - Genbank format\n",
    "    ~~type: CDS~~\n",
    "    location: [254:758](+)\n",
    "    qualifiers:\n",
    "        ~~Key: codon_start, Value: ['1']~~\n",
    "        ~~Key: db_xref, Value: ['GeneID:1485667']~~\n",
    "        ~~Key: gene, Value: ['cas4']~~\n",
    "        ~~Key: inference, Value: ['value]~~\n",
    "        Key: locus_tag, Value: ['AF_RS12285']\n",
    "        ~~Key: note, Value: ['note']~~\n",
    "        ~~Key: old_locus_tag, Value: ['AF2436', 'AF_2436']~~\n",
    "        ~~Key: product, Value: ['CRISPR-associated protein Cas4']~~\n",
    "        ~~Key: protein_id, Value: ['WP_010879923.1']~~\n",
    "        ~~Key: transl_table, Value: ['11']~~\n",
    "        Key: translation, Value: ['SEQ']\n",
    "\n",
    "### INTERGENIC/CODING/NONCODING RECORDS FORMAT - SeqRecord object\n",
    "    ID: NC_000000                        | ID (coding=AF_RS#####; noncoding=NC_0#####)\n",
    "    ~~Name: <unknown name>~~             | NA\n",
    "    Description: NC_000917 759-765 1     | Name start-end +1/-1 strand\n",
    "    ~~Number of features: 0~~            | NA\n",
    "    Seq('TCGGGCC', IUPACAmbiguousDNA())  | Sequence"
   ]
  },
  {
   "cell_type": "code",
   "execution_count": 2,
   "metadata": {},
   "outputs": [],
   "source": [
    "class ProkaryoteData:\n",
    "    \n",
    "    def __init__(self, genbank_path, fasta_path):        \n",
    "        # Consts\n",
    "        self.__GENBANK_PATH = genbank_path\n",
    "        self.__FASTA_PATH = fasta_path\n",
    "        \n",
    "        self.__START_CODONS = ['ATG','CTG','GTG','TTG']\n",
    "        self.__STOP_CODONS = ['TAG','TGA','TAA']\n",
    "        self.__TRICODON_IDX_DICT = self.__populate_codon_idx_dict(nbases=3)\n",
    "        self.__HEXCODON_IDX_DICT = self.__populate_codon_idx_dict(nbases=6)\n",
    "        \n",
    "        self.coding_dna = self.__get_sequence(self.__FASTA_PATH)\n",
    "        self.template_dna = self.coding_dna.reverse_complement()\n",
    "        \n",
    "        # Records - SeqRecord with all information about coding, noncoding, intergenic regions\n",
    "        self.__coding_records = []     # ORF (start-stop) protein coding sequences\n",
    "        self.__noncoding_records = []  # ORF (start-stop) noncoding sequences\n",
    "        self.__intergenic_records = [] # full noncoding sequences\n",
    "        self.l_min = sys.maxsize       # smallest coding sequence length\n",
    "        \n",
    "        self.TisCand = []\n",
    "        \n",
    "        # Features\n",
    "        self.__info = []   # -> df (y (1,-1), gene tag, start, end, length)\n",
    "        self.__tri = []    # monocodon usage (list of codon dictionaries nx64)            -> df\n",
    "        self.__hex = []    # dicodon usage (list of codon dictionaries nx4096)            -> df\n",
    "        self.__TisPos = [] # TIS positive (list of position-codon dictionaries (n,3712))  -> np.array\n",
    "        self.__TisNeg = [] # TIS negative (list of position-codon dictionaries (m,3712))  -> np.array\n",
    "        self.__GC = []     # GC content (list (n,1))                                      -> df\n",
    "\n",
    "        \n",
    "    # GETTERS\n",
    "    def get_records(self):\n",
    "        return self.__coding_records, self.__noncoding_records, self.__intergenic_records        \n",
    "    \n",
    "    def get_codon_features(self):\n",
    "        # convert to df\n",
    "        columns = ['y','label','start','end','len'] \n",
    "        info_df = pd.DataFrame(self.__info, columns=columns).reset_index(drop=True)\n",
    "        x1_df = pd.DataFrame(self.__tri).reset_index(drop=True)\n",
    "        x2_df = pd.DataFrame(self.__hex).reset_index(drop=True)\n",
    "        x7_df = pd.DataFrame(self.__GC).reset_index(drop=True)\n",
    "        \n",
    "        return info_df, x1_df, x2_df, x7_df\n",
    "    \n",
    "    def get_tis_features(self):\n",
    "        TisPos_reshaped = np.array(self.__TisPos).reshape(len(self.__TisPos), -1)\n",
    "        TisNeg_reshaped = np.array(self.__TisNeg).reshape(len(self.__TisNeg), -1)\n",
    "        \n",
    "        return TisPos_reshaped, TisNeg_reshaped\n",
    "\n",
    "    # PUBLIC METHODS\n",
    "    def extract_codon_features(self):\n",
    "        # populate info, tri, hex, and GC variables (df)\n",
    "        self.__positive_codons(self.__GENBANK_PATH)\n",
    "        self.__negative_codons(self.__GENBANK_PATH)\n",
    "        \n",
    "        # convert to df\n",
    "        columns = ['y','label','start','end','len'] \n",
    "        info_df = pd.DataFrame(self.__info, columns=columns).reset_index(drop=True)\n",
    "        x1_df = pd.DataFrame(self.__tri).reset_index(drop=True)\n",
    "        x2_df = pd.DataFrame(self.__hex).reset_index(drop=True)\n",
    "        x7_df = pd.DataFrame(self.__GC).reset_index(drop=True)\n",
    "        \n",
    "        return info_df, x1_df, x2_df, x7_df\n",
    "\n",
    "    def extract_tis_features(self):\n",
    "        # populate TisPos, TisNeg variables (np.array)\n",
    "        self.__tis_features(self.__GENBANK_PATH)\n",
    "        \n",
    "        TisPos_reshaped = np.array(self.__TisPos).reshape(len(self.__TisPos), -1)\n",
    "        TisNeg_reshaped = np.array(self.__TisNeg).reshape(len(self.__TisNeg), -1)\n",
    "        \n",
    "        return TisPos_reshaped, TisNeg_reshaped\n",
    "\n",
    "\n",
    "    # PRIVATE METHODS\n",
    "    '''\n",
    "    __permutations_with_replacement(n)\n",
    "    Helper function for __populate_codon_idx_dict. Produces all codon permutations (AAA, AAC,...,TTT)\n",
    "    Input: n --number of bases = 3\n",
    "    Output: all 64 codons (String)\n",
    "    '''\n",
    "    def __permutations_with_replacement(self, n):\n",
    "        for i in itertools.product((\"A\", \"C\", \"G\", \"T\"), repeat=n):\n",
    "            yield i\n",
    "    \n",
    "    '''\n",
    "    __populate_codon_idx_dict(nbases=3)\n",
    "    Function to create codon:idx dictionary. Converts codons to integers.\n",
    "    Input: nbases (default=3 for tricodon dictionary); set nbases=6 for hexcodon dictionary\n",
    "    Output: returns codon index dictionary\n",
    "    '''\n",
    "    def __populate_codon_idx_dict(self, nbases=3):\n",
    "        codon_idx_dict = {}\n",
    "        count = 0\n",
    "        for i in self.__permutations_with_replacement(nbases):\n",
    "            key = \"\".join(i) #codon or dicodon sequence\n",
    "            codon_idx_dict[key] = count\n",
    "            count += 1\n",
    "        return codon_idx_dict\n",
    "\n",
    "    '''\n",
    "    __get_sequence(fasta_path)\n",
    "    Input: fasta file (format .fasta)\n",
    "    Output: returns the coding (sense) dna strand from an in put fasta file\n",
    "    '''\n",
    "    def __get_sequence(self, fasta_path):\n",
    "        coding_dna = ''\n",
    "        for seq_record in SeqIO.parse(fasta_path, 'fasta'):\n",
    "            coding_dna = seq_record.seq\n",
    "        return coding_dna\n",
    "    \n",
    "    \n",
    "    '''\n",
    "    __codon_parser(seq, nbases)\n",
    "    Parses dna sequence into a list of codons separated by nbases\n",
    "    Inputs: seq    --sequence\n",
    "            nbases --number of bases (set =3 for tricodons or =6 for hexcodons)\n",
    "    Output: list of tricodons/hexcodons\n",
    "    \n",
    "    Ex. Input  - AAATTTGGG\n",
    "        Output - ['AAA','TTT','GGG'] if nbases=3\n",
    "               = ['AAATTT']          if nbases=6\n",
    "    '''\n",
    "    def __codon_parser(self, seq, nbases):\n",
    "        codon_seq = [seq[i:i+nbases] for i in range(0,len(seq),3) if (i+nbases)<len(seq)]\n",
    "        return codon_seq\n",
    "    \n",
    "    '''\n",
    "    __GC_content(seq)\n",
    "    Input: seq --Bio.Seq.Seq object\n",
    "    Output: returns GC content of sequence\n",
    "    '''\n",
    "    def __GC_content(self, seq):\n",
    "        # seq = Bio.Seq.Seq object\n",
    "        return round(float(seq.count(\"G\") + seq.count(\"C\")) / len(seq), 4)\n",
    "        \n",
    "        \n",
    "    ## FOR TRI (x1), HEX (x2), and GC (x7) FEATURES\n",
    "    '''\n",
    "    __positive_codons(genbank_file)\n",
    "    Extracts coding sequences from genbank file (CDS) and stores information in coding_records as SeqRecords.\n",
    "    Also, extracts positive tricodon, hexcodon, and GC content features from each coding sequences\n",
    "    '''\n",
    "    def __positive_codons(self, genbank_path):\n",
    "        seq_record = next(SeqIO.parse(open(genbank_path), 'genbank'))\n",
    "\n",
    "        for feature in seq_record.features:\n",
    "            if feature.type == 'CDS':\n",
    "                # get relevant sequence information\n",
    "                mytag = feature.qualifiers['locus_tag'][0]\n",
    "                mystart = feature.location.start.position\n",
    "                myend = feature.location.end.position\n",
    "                mystrand = feature.strand \n",
    "                myseq = self.template_dna[mystart:myend] if mystrand==1 else self.coding_dna[::-1][mystart:myend][::-1]\n",
    "                \n",
    "                # update min\n",
    "                if len(myseq) < self.l_min:\n",
    "                    self.l_min = len(myseq)\n",
    "                    \n",
    "                # save information in coding_records\n",
    "                feature = [SeqFeature(FeatureLocation(mystart,myend,mystrand), type=\"CDS\")]\n",
    "                record = SeqRecord(myseq, id=mytag, features=feature)\n",
    "                self.__coding_records.append(record)\n",
    "                \n",
    "                # save information into feature variables\n",
    "                self.__info.append([1, mytag, mystart, myend, len(myseq)])\n",
    "                \n",
    "                tricodons = self.__codon_parser(str(myseq),3)\n",
    "                tframe = [0]*len(self.__TRICODON_IDX_DICT)\n",
    "                for codon in tricodons:\n",
    "                    tframe[self.__TRICODON_IDX_DICT[codon]] += 1\n",
    "                tframe[self.__TRICODON_IDX_DICT[tricodons[-1]]] += 1 # add last codon\n",
    "                self.__tri.append(tframe)\n",
    "                \n",
    "                hexcodons = self.__codon_parser(str(myseq),6)\n",
    "                hframe = [0]*len(self.__HEXCODON_IDX_DICT)\n",
    "                for codon in hexcodons:\n",
    "                    hframe[self.__HEXCODON_IDX_DICT[codon]] += 1\n",
    "                hframe[self.__HEXCODON_IDX_DICT[hexcodons[-1]]] += 1 # add last codon\n",
    "                self.__hex.append(hframe)\n",
    "                \n",
    "                self.__GC.append(self.__GC_content(myseq))\n",
    "    \n",
    "    '''\n",
    "    __negative_codons(genbank_path)\n",
    "    Retrieves intergenic regions (sequences between coding sequences) via __get_interregions helper function. \n",
    "    Also, extracts negative tricodon, hexcodon, and GC content features from noncoding sequences\n",
    "    '''\n",
    "    def __negative_codons(self, genbank_path):\n",
    "        _, _, self.__intergenic_records = self.__get_interregions(genbank_path)\n",
    "        \n",
    "        for seq_record in self.__intergenic_records:\n",
    "            # get relevant intergenic information\n",
    "            itr_seq = seq_record.seq\n",
    "            exact_start = seq_record.features[0].location.start.position\n",
    "            exact_end = seq_record.features[0].location.end.position\n",
    "            mytag = seq_record.id            \n",
    "            mystrand = seq_record.features[0].strand\n",
    "            \n",
    "            if len(itr_seq) >= self.l_min:\n",
    "                # find all start and stop codons in interregion sequence\n",
    "                all_starts = []\n",
    "                for s in self.__START_CODONS:\n",
    "                    matches = re.finditer(s, str(itr_seq))\n",
    "                    matches_positions = [match.start()+exact_start for match in matches]\n",
    "                    all_starts.extend(matches_positions)\n",
    "                all_starts = sorted(all_starts)\n",
    "\n",
    "                all_stops = []                                      \n",
    "                for e in self.__STOP_CODONS:\n",
    "                    matches = re.finditer(e, str(itr_seq))\n",
    "                    matches_positions = [match.start()+exact_start for match in matches]\n",
    "                    all_stops.extend(matches_positions)\n",
    "                all_stops = sorted(all_stops)\n",
    "\n",
    "                # find largest ORF\n",
    "                found = False; mystart = None; myend = None;            \n",
    "                for s in all_starts:\n",
    "                    for e in all_stops[::-1]:\n",
    "                        if (e >= s) and ((e-s)%3 == 0):\n",
    "                            found = True; mystart = s; myend = e;\n",
    "                            break\n",
    "                    if found: break\n",
    "\n",
    "                if mystart==None or myend==None: continue\n",
    "\n",
    "                myseq = self.template_dna[mystart:myend] if mystrand==1 else self.coding_dna[::-1][mystart:myend][::-1]\n",
    "                \n",
    "                # check to see if noncoding ORF is larger than l_min (smallest coding sequence length) \n",
    "                if len(myseq) < self.l_min: continue\n",
    "                \n",
    "                # save information to in noncoding_records\n",
    "                feature = [SeqFeature(FeatureLocation(mystart,myend,mystrand), type='interregion')]\n",
    "                record = SeqRecord(myseq, id=mytag, features=feature)\n",
    "                self.__noncoding_records.append(record)  \n",
    "\n",
    "                # save information to feature variables\n",
    "                self.__info.append([-1, mytag, mystart, myend, len(myseq)])\n",
    "\n",
    "                tricodons = self.__codon_parser(str(myseq),3)\n",
    "                tframe = [0]*len(self.__TRICODON_IDX_DICT)\n",
    "                for codon in tricodons:\n",
    "                    tframe[self.__TRICODON_IDX_DICT[codon]] += 1\n",
    "                self.__tri.append(tframe)\n",
    "\n",
    "                hexcodons = self.__codon_parser(str(myseq),6)\n",
    "                hframe = [0]*len(self.__HEXCODON_IDX_DICT)\n",
    "                for codon in hexcodons:\n",
    "                    hframe[self.__HEXCODON_IDX_DICT[codon]] += 1\n",
    "                self.__hex.append(hframe)\n",
    "\n",
    "                # GC content of whole interregion fragment -- bc paper say so\n",
    "                self.__GC.append(self.__GC_content(itr_seq))\n",
    "\n",
    "    # Copyright(C) 2009 Iddo Friedberg & Ian MC Fleming\n",
    "    # Released under Biopython license. http://www.biopython.org/DIST/LICENSE\n",
    "    # Do not remove this comment\n",
    "    def __get_interregions(self, genbank_path, intergene_length=1):\n",
    "        seq_record = next(SeqIO.parse(open(genbank_path), \"genbank\"))\n",
    "        cds_list_plus = []\n",
    "        cds_list_minus = []\n",
    "        intergenic_records = []\n",
    "\n",
    "        # Loop over the genome file, get the CDS features on each of the strands\n",
    "        for feature in seq_record.features:\n",
    "            if feature.type == 'CDS':\n",
    "                mystart = feature.location.start.position\n",
    "                myend = feature.location.end.position\n",
    "                if feature.strand == -1:\n",
    "                    cds_list_minus.append((mystart,myend,-1))\n",
    "                elif feature.strand == 1:\n",
    "                    cds_list_plus.append((mystart,myend,1))\n",
    "                else:\n",
    "                    sys.stderr.write(\"No strand indicated %d-%d. Assuming +\\n\" %(mystart, myend))\n",
    "                    cds_list_plus.append((mystart,myend,1))\n",
    "        for i,pospair in enumerate(cds_list_plus[1:]):\n",
    "            # Compare current start position to previous end position\n",
    "            last_end = cds_list_plus[i][1]\n",
    "            this_start = pospair[0]\n",
    "            if this_start - last_end >= 1:\n",
    "                intergene_seq = seq_record.seq[last_end:this_start]\n",
    "                strand_string = +1\n",
    "                name = 'NC_' + str(i).zfill(6)\n",
    "                feature = [SeqFeature(FeatureLocation(last_end+1,this_start,strand_string), type='interregion')]\n",
    "                intergenic_records.append(SeqRecord(intergene_seq, id=name, features=feature))\n",
    "        buffer = i\n",
    "        for i,pospair in enumerate(cds_list_minus[1:]):\n",
    "            last_end = cds_list_minus[i][1]\n",
    "            this_start = pospair[0]\n",
    "            if this_start - last_end >= 1:\n",
    "                intergene_seq = seq_record.seq[last_end:this_start]\n",
    "                strand_string = -1\n",
    "                name = 'NC_' + str(i+buffer).zfill(6)\n",
    "                feature = [SeqFeature(FeatureLocation(last_end+1,this_start,strand_string), type='interregion')]\n",
    "                intergenic_records.append(SeqRecord(intergene_seq, id=name, features=feature))\n",
    "        return cds_list_plus, cds_list_minus, intergenic_records\n",
    "    \n",
    "    \n",
    "    ## FOR TISPOS (x3) and TISNEG (x4) FEATUERS\n",
    "    '''\n",
    "    __tis_features(genbank_path)\n",
    "    Extracts translation initiation sites (TIS) or 'start codons' from coding sequences. The true start codon for each\n",
    "    sequence is a positive TIS candidate; the remaining in-frame start codons within the coding sequences are negative\n",
    "    TIS candidates. \n",
    "    A 58x64 (58 positions x 64 codons) table is generated for each TIS candidate (positive and negative).\n",
    "    '''\n",
    "    def __tis_features(self, genbank_path):\n",
    "        seq_record = next(SeqIO.parse(open(genbank_path), 'genbank'))\n",
    "        for feature in seq_record.features:\n",
    "            if feature.type == 'CDS':\n",
    "                # get relevant gene information\n",
    "                mytag = feature.qualifiers['locus_tag'][0]\n",
    "                mystart = feature.location.start.position\n",
    "                myend = feature.location.end.position\n",
    "                mystrand = feature.strand \n",
    "                myseq = self.template_dna[mystart:myend] if mystrand==1 else self.coding_dna[::-1][mystart:myend][::-1]\n",
    "                \n",
    "                dna = self.template_dna if int(mystrand)==1 else self.coding_dna     \n",
    "                \n",
    "                # find all negative TIS candidates\n",
    "                TIS_candidates = {'tag':mytag, 'pos':[mystart], 'neg':[]}\n",
    "                codon_seq = textwrap.wrap(str(myseq), 3)\n",
    "                for i,codon in enumerate(codon_seq[1:]):\n",
    "                    if codon in self.__START_CODONS:\n",
    "                        TIS_candidates['neg'].append((i+1)*3 + mystart)\n",
    "                self.TisCand.append(TIS_candidates)\n",
    "                \n",
    "                # create frame (58x64) for TIS pos\n",
    "                seq60 = dna[mystart-30:mystart+30]\n",
    "                frame = [self.__TRICODON_IDX_DICT[seq60[i:i+3]] for i in range(0,len(seq60)-2)]\n",
    "                '''TIME CONSUMING STEP'''\n",
    "                self.__TisPos.append(np.eye(64)[np.array(frame)].astype(int))\n",
    "\n",
    "                # create frames mx(58x64) for TIS neg\n",
    "                for i,candidate in enumerate(TIS_candidates['neg']):\n",
    "                    seq60 = dna[candidate-30:candidate+30]\n",
    "                    frame = [self.__TRICODON_IDX_DICT[seq60[i:i+3]] for i in range(0,len(seq60)-2)]\n",
    "                    '''TIME CONSUMING STEP'''\n",
    "                    self.__TisNeg.append(np.eye(64)[np.array(frame)].astype(int))"
   ]
  },
  {
   "cell_type": "code",
   "execution_count": 3,
   "metadata": {},
   "outputs": [
    {
     "name": "stdout",
     "output_type": "stream",
     "text": [
      "Loaded prokaryote object file.\n"
     ]
    }
   ],
   "source": [
    "# extract features or load saved prokaryotic model\n",
    "import time\n",
    "BASE_PATH = '/mnt/c/Jupyter/datasets/gene_prediction/'\n",
    "GENBANK = 'A_fulgidus.gb'\n",
    "FASTA = 'A_fulgidus.fasta'\n",
    "\n",
    "save_filename = 'A_fulgidus.prok'\n",
    "from_saved = True\n",
    "\n",
    "if not from_saved:\n",
    "    start_time = time.time()\n",
    "    prok = ProkaryoteData(BASE_PATH + GENBANK, BASE_PATH + FASTA)\n",
    "    info_df, x1_df, x2_df, x7_df = prok.extract_codon_features()\n",
    "    x3_np, x4_np = prok.extract_tis_features()\n",
    "    print(\"---- %s seconds\" % (round(time.time() - start_time, 4)))\n",
    "    \n",
    "    pickle.dump(prok, open(BASE_PATH+save_filename,'wb'))\n",
    "    print('Saved prokaryote object to file.')\n",
    "else:\n",
    "    prok = pickle.load(open(BASE_PATH+save_filename,'rb'))\n",
    "    \n",
    "    info_df, x1_df, x2_df, x7_df = prok.get_codon_features()\n",
    "    x3_np, x4_np = prok.get_tis_features()\n",
    "    print('Loaded prokaryote object file.')"
   ]
  },
  {
   "cell_type": "code",
   "execution_count": 35,
   "metadata": {},
   "outputs": [
    {
     "name": "stdout",
     "output_type": "stream",
     "text": [
      "2473\n"
     ]
    }
   ],
   "source": [
    "TisCands = prok.TisCand\n",
    "counts = []\n",
    "c = 0\n",
    "for TisCand in TisCands:\n",
    "    counts.append(len(TisCand['neg']))\n",
    "    c += 1   \n",
    "print(c)"
   ]
  },
  {
   "cell_type": "code",
   "execution_count": 27,
   "metadata": {},
   "outputs": [
    {
     "name": "stdout",
     "output_type": "stream",
     "text": [
      "21.773554387383744\n",
      "137\n",
      "0\n"
     ]
    }
   ],
   "source": [
    "print(st.mean(counts))\n",
    "print(max(counts))\n",
    "print(min(counts))"
   ]
  },
  {
   "cell_type": "code",
   "execution_count": 30,
   "metadata": {},
   "outputs": [
    {
     "data": {
      "image/png": "[encoded data removed]",
      "text/plain": [
       "<Figure size 432x288 with 1 Axes>"
      ]
     },
     "metadata": {
      "needs_background": "light"
     },
     "output_type": "display_data"
    }
   ],
   "source": [
    "# visualize number of negative TIS candidates per coding sequence\n",
    "import matplotlib.pyplot as plt\n",
    "\n",
    "plt.hist(counts, 300)\n",
    "plt.show()"
   ]
  },
  {
   "cell_type": "code",
   "execution_count": 33,
   "metadata": {},
   "outputs": [
    {
     "data": {
      "text/plain": [
       "count     3360.000000\n",
       "mean      1250.357440\n",
       "std       1821.880973\n",
       "min         81.000000\n",
       "25%        423.000000\n",
       "50%        786.000000\n",
       "75%       1311.000000\n",
       "max      38778.000000\n",
       "Name: len, dtype: float64"
      ]
     },
     "execution_count": 33,
     "metadata": {},
     "output_type": "execute_result"
    }
   ],
   "source": [
    "info_df['len'].describe()"
   ]
  },
  {
   "cell_type": "code",
   "execution_count": 32,
   "metadata": {},
   "outputs": [
    {
     "data": {
      "image/png": "[encoded data removed]",
      "text/plain": [
       "<Figure size 432x288 with 1 Axes>"
      ]
     },
     "metadata": {
      "needs_background": "light"
     },
     "output_type": "display_data"
    }
   ],
   "source": [
    "plt.hist(info_df['len'], 300)\n",
    "plt.show()"
   ]
  },
  {
   "cell_type": "code",
   "execution_count": 4,
   "metadata": {},
   "outputs": [
    {
     "name": "stdout",
     "output_type": "stream",
     "text": [
      "Loaded weights from file\n"
     ]
    }
   ],
   "source": [
    "# save weights\n",
    "weights_filename = \"weights.txt\"\n",
    "load_weights = True\n",
    "\n",
    "if not load_weights:\n",
    "    pickle.dump([wM,wD,wT], open(BASE_PATH+weights_filename,'wb'))\n",
    "    print('Saved weights to file')\n",
    "else:\n",
    "    weights = pickle.load(open(BASE_PATH+weights_filename, 'rb'))\n",
    "    print('Loaded weights from file')"
   ]
  },
  {
   "cell_type": "code",
   "execution_count": 5,
   "metadata": {},
   "outputs": [
    {
     "name": "stdout",
     "output_type": "stream",
     "text": [
      "0     0.072372\n",
      "1    -0.237594\n",
      "2     0.127736\n",
      "3    -0.741152\n",
      "4    -0.054718\n",
      "        ...   \n",
      "59   -0.219222\n",
      "60    0.103461\n",
      "61    0.319058\n",
      "62    0.569568\n",
      "63   -0.532635\n",
      "Length: 64, dtype: float64\n"
     ]
    }
   ],
   "source": [
    "print(weights[0])"
   ]
  },
  {
   "cell_type": "code",
   "execution_count": 5,
   "metadata": {},
   "outputs": [
    {
     "name": "stdout",
     "output_type": "stream",
     "text": [
      "(3360, 64)\n",
      "(2473, 3712)\n",
      "(53846, 3712)\n"
     ]
    }
   ],
   "source": [
    "print(x1_df.shape)\n",
    "print(x3_np.shape)\n",
    "print(x4_np.shape)"
   ]
  },
  {
   "cell_type": "code",
   "execution_count": 6,
   "metadata": {},
   "outputs": [
    {
     "name": "stdout",
     "output_type": "stream",
     "text": [
      "NaNs present in monocodon data: False\n",
      "NaNs present in dicodon data: False\n"
     ]
    }
   ],
   "source": [
    "# Codon Linear Discriminant -- Normalize (Euclidean norm)\n",
    "\n",
    "'''\n",
    "norm = X / X.norm\n",
    "\n",
    "A = (nx64)\n",
    "b = (64xn)\n",
    "x1_norm = (nx64)\n",
    "'''\n",
    "\n",
    "# https://stackoverflow.com/questions/18524112/norm-along-row-in-pandas\n",
    "A = x1_df\n",
    "b = pd.DataFrame(np.linalg.norm(A.values,axis=1)).transpose()\n",
    "x1_norm = (A.transpose().div(b.iloc[0])).transpose().round(4)\n",
    "check_nan = x1_norm.isnull().values.any()\n",
    "print(f\"NaNs present in monocodon data: {check_nan}\")\n",
    "\n",
    "A = x2_df \n",
    "b = pd.DataFrame(np.linalg.norm(A.values,axis=1)).transpose()\n",
    "x2_norm = (A.transpose().div(b.iloc[0])).transpose().round(4)\n",
    "check_nan = x2_norm.isnull().values.any()\n",
    "print(f\"NaNs present in dicodon data: {check_nan}\")\n",
    "\n",
    "y = info_df['y']"
   ]
  },
  {
   "cell_type": "code",
   "execution_count": 7,
   "metadata": {},
   "outputs": [
    {
     "name": "stdout",
     "output_type": "stream",
     "text": [
      "56319 56319\n"
     ]
    }
   ],
   "source": [
    "# TIS Linear Discriminant \n",
    "\n",
    "# convert to float32 to reduce matrix multiplication calculation time\n",
    "# https://www.benjaminjohnston.com.au/matmul\n",
    "X_TIS = np.concatenate((x3_np,x4_np), axis=0).astype(np.float32)\n",
    "\n",
    "pos_y = [1]*len(x3_np)\n",
    "neg_y = [-1]*len(x4_np)\n",
    "\n",
    "y_TIS = pos_y + neg_y\n",
    "\n",
    "print(len(X_TIS), len(y_TIS))"
   ]
  },
  {
   "cell_type": "code",
   "execution_count": 12,
   "metadata": {},
   "outputs": [],
   "source": [
    "# Find weights\n",
    "if not load_weights:\n",
    "    lM = 1\n",
    "    XM = x1_norm.transpose()\n",
    "    IM = np.identity(XM.shape[0])\n",
    "    wM = np.linalg.inv(XM@XM.transpose() + lM*IM) @ XM@y\n",
    "\n",
    "    lD = 1\n",
    "    XD = x2_norm.transpose()\n",
    "    ID = np.identity(XD.shape[0])\n",
    "    wD = np.linalg.inv(XD@XD.transpose() + lD*ID) @ XD@y\n",
    "\n",
    "    lT = 1\n",
    "    XT = X_TIS.transpose()\n",
    "    IT = np.identity(XT.shape[0])\n",
    "    wT = np.linalg.inv(XT@XT.transpose() + lT*IT) @ XT@y_TIS\n",
    "else:\n",
    "    XM = x1_norm.transpose()\n",
    "    wM = weights[0]\n",
    "    XD = x2_norm.transpose()    \n",
    "    wD = weights[1]\n",
    "    XT = X_TIS.transpose()\n",
    "    wT = weights[2]"
   ]
  },
  {
   "cell_type": "code",
   "execution_count": 60,
   "metadata": {},
   "outputs": [
    {
     "data": {
      "text/plain": [
       "<matplotlib.axes._subplots.AxesSubplot at 0x7f7366446cf8>"
      ]
     },
     "execution_count": 60,
     "metadata": {},
     "output_type": "execute_result"
    },
    {
     "data": {
      "image/png": "[encoded data removed]",
      "text/plain": [
       "<Figure size 842.4x595.44 with 2 Axes>"
      ]
     },
     "metadata": {
      "needs_background": "light"
     },
     "output_type": "display_data"
    }
   ],
   "source": [
    "# visualize TIS patterns (up and downstream regions)\n",
    "import seaborn as sns\n",
    "import matplotlib.pyplot as plt\n",
    "\n",
    "def __permutations_with_replacement(n):\n",
    "    for i in itertools.product((\"A\", \"C\", \"G\", \"T\"), repeat=n):\n",
    "        yield i\n",
    "\n",
    "def __populate_codon_idx_dict(nbases=3):\n",
    "    codon_idx_dict = {}\n",
    "    for i in __permutations_with_replacement(nbases):\n",
    "        codon_idx_dict[\"\".join(i)] = 0\n",
    "    return codon_idx_dict\n",
    "\n",
    "w = wT.reshape(58,64).transpose()\n",
    "\n",
    "y_axis_labels = __populate_codon_idx_dict().keys() \n",
    "x_axis_labels = [i for i in range(-30,28)]\n",
    "df = pd.DataFrame(w, columns=x_axis_labels, index=y_axis_labels)\n",
    "\n",
    "a4_dims = (11.7, 8.27)\n",
    "fig, ax = plt.subplots(figsize=a4_dims)\n",
    "sns.heatmap(ax=ax, data=df, cmap=\"YlGnBu\")"
   ]
  },
  {
   "cell_type": "code",
   "execution_count": 9,
   "metadata": {},
   "outputs": [
    {
     "name": "stdout",
     "output_type": "stream",
     "text": [
      "(53846,) (2473,)\n",
      "[0.9561, 0.0439]\n",
      "[-0.9288, -0.5509]\n",
      "[0.1483, 0.327]\n",
      "(53846,) (2473,)\n",
      "100023.08962271205\n"
     ]
    }
   ],
   "source": [
    "# TIS Gaussian Distribution\n",
    "import statistics as st\n",
    "\n",
    "s = [x4_np@wT, x3_np@wT]\n",
    "print(s[0].shape, s[1].shape)\n",
    "\n",
    "label = [-1, 1]\n",
    "pi = [round(len(neg_y)/(len(y_TIS)),4), round(len(pos_y)/(len(y_TIS)),4)]\n",
    "mu = [round(st.mean(s[0]),4) , round(st.mean(s[1]),4)]\n",
    "si = [round(st.stdev(s[0]),4), round(st.stdev(s[1]),4)]\n",
    "\n",
    "print(pi)\n",
    "print(mu)\n",
    "print(si)\n",
    "\n",
    "# likelihood - p(s|mu,si)\n",
    "CONST = 1/np.sqrt(2*np.pi)\n",
    "p_like = [(CONST/si[0])*np.exp(-(s[0] - mu[0])**2/(2*si[0]**2)),\n",
    "         (CONST/si[1])*np.exp(-(s[1] - mu[1])**2/(2*si[1]**2))]\n",
    "\n",
    "print(p_like[0].shape, p_like[1].shape)\n",
    "\n",
    "# marginal density - p(s)\n",
    "p_marg = sum(pi[0]*p_like[0]) + sum(pi[1]*p_like[1])\n",
    "print(p_marg)"
   ]
  },
  {
   "cell_type": "code",
   "execution_count": 67,
   "metadata": {
    "collapsed": true
   },
   "outputs": [
    {
     "data": {
      "image/png": "[encoded data removed]",
      "text/plain": [
       "<Figure size 432x288 with 1 Axes>"
      ]
     },
     "metadata": {
      "needs_background": "light"
     },
     "output_type": "display_data"
    }
   ],
   "source": [
    "import matplotlib.pyplot as plt\n",
    "\n",
    "plt.hist(p_s_minus, 500)\n",
    "plt.axis([0.0, 1.2, 0, 80])\n",
    "plt.show()"
   ]
  },
  {
   "cell_type": "code",
   "execution_count": 66,
   "metadata": {
    "collapsed": true
   },
   "outputs": [
    {
     "data": {
      "image/png": "[encoded data removed]",
      "text/plain": [
       "<Figure size 432x288 with 1 Axes>"
      ]
     },
     "metadata": {
      "needs_background": "light"
     },
     "output_type": "display_data"
    }
   ],
   "source": [
    "plt.hist(p_s_plus, 500)\n",
    "plt.show()"
   ]
  },
  {
   "cell_type": "code",
   "execution_count": 13,
   "metadata": {},
   "outputs": [],
   "source": [
    "l_max = 700\n",
    "\n",
    "'''\n",
    "x1 = monocodon wM * XM\n",
    "x2 = dicodon wD * XD\n",
    "x3 = positive TIS\n",
    "x4 = negative TIS\n",
    "x5 = complete\n",
    "x6 = incomplete\n",
    "x7 = GC content\n",
    "'''\n",
    "\n",
    "x1 = wM@XM # 3360 x 64\n",
    "x2 = wD@XD # 3360 x 4096\n",
    "x3 = (pi[1]*p_like[1])/p_marg #2473  x 3712\n",
    "x4 = (pi[0]*p_like[0])/p_marg #53846 x 3712\n",
    "x5 = None\n",
    "x6 = None\n",
    "x7 = x7_df # 3360x1"
   ]
  }
 ],
 "metadata": {
  "kernelspec": {
   "display_name": "Python 3",
   "language": "python",
   "name": "python3"
  },
  "language_info": {
   "codemirror_mode": {
    "name": "ipython",
    "version": 3
   },
   "file_extension": ".py",
   "mimetype": "text/x-python",
   "name": "python",
   "nbconvert_exporter": "python",
   "pygments_lexer": "ipython3",
   "version": "3.6.10"
  }
 },
 "nbformat": 4,
 "nbformat_minor": 4
}
