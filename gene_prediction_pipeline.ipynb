{
 "cells": [
  {
   "cell_type": "markdown",
   "id": "8fb5f467-9654-40a8-a27a-8e4de5b464a1",
   "metadata": {},
   "source": [
    "# Gene Prediction Pipeline"
   ]
  },
  {
   "cell_type": "markdown",
   "id": "e9b627ce-841e-46ee-9033-a59e90510ee0",
   "metadata": {},
   "source": [
    "## Introduction\n",
    "\n",
    "This project was based on the 2008 paper ['Gene prediction in metagenomic fragments: A large scale machine learning approach'](https://bmcbioinformatics.biomedcentral.com/articles/10.1186/1471-2105-9-217) by Hoff et at. The goal of this notebook is to train the gene prediction algorithm using a 2-stage approach - linear discriminant and neural network. The linear discriminant model reduces high dimensional features and the neural network predicts if a given sequence is a gene or not. My intentions for starting this project were to gain a deeper understanding of machine learning approaches behind the `Orphelia gene prediction algorithm` and sharpen my programming skills. \n",
    "\n",
    "Useful notebooks/files:\n",
    "* `Sampling True NCS Dataset.ipynb` to see how NCS are sampled,\n",
    "* `./modules` folder to see documentation on all methods,\n",
    "* `./examples` folder for example code."
   ]
  },
  {
   "cell_type": "markdown",
   "id": "af2af0bc-40e0-4273-8bc8-de902574e8a5",
   "metadata": {},
   "source": [
    "## Google Colab Setup\n",
    "\n",
    "First clone the `gene-prediction` repository to Google Colab (see setup in `README.md`). Then install dependencies (see code below)."
   ]
  },
  {
   "cell_type": "code",
   "execution_count": null,
   "id": "f1efc264-e80d-412a-ae76-c7701c9c4ea0",
   "metadata": {},
   "outputs": [],
   "source": [
    "# # Mount Google Drive\n",
    "# from google.colab import drive\n",
    "# drive.mount('/content/gdrive')\n",
    "# %cd gdrive/My Drive/\n",
    "\n",
    "# # Clone github repo\n",
    "# !git clone https://github.com/viggy-ravi/gene-prediction.git\n",
    "\n",
    "# # Change to project directory\n",
    "# %cd gdrive/My Drive/gene-prediction\n",
    "\n",
    "# # Install dependencies\n",
    "# !pip install -r requirements.txt\n",
    "\n",
    "# # Install biopython library manually\n",
    "# !pip3 install biopython\n",
    "\n",
    "# # Pull latest code\n",
    "# !git pull"
   ]
  },
  {
   "cell_type": "markdown",
   "id": "62aba4cd-c9a5-4982-b948-c02c35c6760d",
   "metadata": {},
   "source": [
    "# Training Binary Classification Model"
   ]
  },
  {
   "cell_type": "code",
   "execution_count": 19,
   "id": "6d935160-409f-4fb7-a73b-0091632f1d92",
   "metadata": {},
   "outputs": [
    {
     "name": "stdout",
     "output_type": "stream",
     "text": [
      "The autoreload extension is already loaded. To reload it, use:\n",
      "  %reload_ext autoreload\n"
     ]
    }
   ],
   "source": [
    "# Enter your email for the Entrez API \n",
    "email = \"vignesh.ravindranath@gmail.com\"\n",
    "\n",
    "import sys\n",
    "import random\n",
    "import numpy as np\n",
    "import pandas as pd\n",
    "import seaborn as sns\n",
    "import matplotlib.pyplot as plt\n",
    "from Bio import Entrez\n",
    "Entrez.email = email\n",
    "\n",
    "# will inform your notebook to actively reload all \n",
    "# imported modules and packages as they are modified\n",
    "%load_ext autoreload\n",
    "%autoreload 2\n",
    "\n",
    "# self defined modules\n",
    "from modules import preprocess, extract, train, genepred, predict"
   ]
  },
  {
   "cell_type": "markdown",
   "id": "b067f3de-fdca-439c-a2f1-7e52c7188094",
   "metadata": {
    "tags": []
   },
   "source": [
    "## Preprocess Genome\n",
    "\n",
    "Preprocessing a genome consists of finding all valid open reading frames (ORFs). ORFs start with a start codon (ATG, CTG, GTG, or TGT) and end with an in-frame stop codon (TAG, TGA, or TAA). To train our neural network, we need to find positive ORFs - sequencies that code for a protein (i.e. genes) -  and negative ORFs - sequencies in the genome that start with a start codon and end with an in-frame stop codon, but don't code for a protein. The negative ORFs can be found in the intergenic regions (interregions) of a genome or spaces between genes. For this project, positive ORFs will be referred to as CDS or **C**o**D**ing **S**equences, and negative ORFs will be referred to as NCS or **N**on **C**oding **S**equences."
   ]
  },
  {
   "cell_type": "markdown",
   "id": "be8d0b81-494c-41cf-89ea-c813939d6206",
   "metadata": {},
   "source": [
    "Input arguments for `preprocess.genome`\n",
    "* **filename** - `txt` file containing list of accession numbers (gb genomes) (see `./input` folder for examples)\n",
    "* **n_genomes** - number of genomes from input file to use for training (`=None` to train on all genomes in file)\n",
    "* **seq** - `all` (default), `cds`, or `ncs` to extract either all orfs from genome, only cds, or only ncs respectively\n",
    "* **e** - parameter [0,1] to limit length of NCS (default `=0.005`). Larger value allows fewer NCS\n",
    "* **tol** - parameter [0,1] for stochastic sampling of NCS (default `=0.2`). Larger value allows fewer NCS\n",
    "* **OFFSET** - number of basepairs before and after sequence (default is `30` for tis feature)\n",
    "* **LMIN** - minimin length of ORFs (CDS or NCS) used for training (default is `60` bp ORFs - ref: Hoff et al.)\n",
    "* **random_state** - random seed (default `=None`)"
   ]
  },
  {
   "cell_type": "code",
   "execution_count": 2,
   "id": "71c004d5-2276-441f-a223-c49c0f17ac24",
   "metadata": {
    "tags": []
   },
   "outputs": [
    {
     "name": "stdout",
     "output_type": "stream",
     "text": [
      "Successfully fetched NC_000917\n",
      "\t2478 CDS Records, 27846 NCS Records\n",
      "Successfully fetched NC_005966\n",
      "\t3241 CDS Records, 55230 NCS Records\n",
      "Successfully fetched NC_003305\n",
      "\t1876 CDS Records, 25427 NCS Records\n",
      "Successfully fetched NC_004842\n",
      "\t955 CDS Records, 20355 NCS Records\n",
      "Successfully fetched NC_000918\n",
      "\t1681 CDS Records, 14475 NCS Records\n",
      "Successfully fetched NC_007413\n",
      "\t5185 CDS Records, 104846 NCS Records\n",
      "Successfully fetched NC_006513\n",
      "\t4026 CDS Records, 45703 NCS Records\n",
      "Successfully fetched NC_003228\n",
      "\t4152 CDS Records, 61656 NCS Records\n",
      "23594 Total CDS Records\n",
      "355538 Total NCS Records\n",
      "CPU times: user 54min 33s, sys: 14.9 s, total: 54min 48s\n",
      "Wall time: 58min 39s\n"
     ]
    }
   ],
   "source": [
    "infile = './input/train.txt'\n",
    "n_gen = 8\n",
    "tol   = 0.9  # lets in 10% of NCS data\n",
    "SEED  = 8    # set to a number or None\n",
    "\n",
    "%time _cds, _ncs = preprocess.genome(filename=infile, \\\n",
    "                                     n_genomes=n_gen, \\\n",
    "                                     tol=tol, \\\n",
    "                                     random_state=SEED)"
   ]
  },
  {
   "cell_type": "code",
   "execution_count": 3,
   "id": "4ab0c8ab-4258-4063-9622-6c12be27f417",
   "metadata": {},
   "outputs": [
    {
     "name": "stdout",
     "output_type": "stream",
     "text": [
      "212.448 kB\n",
      "3199.944 kB\n"
     ]
    }
   ],
   "source": [
    "print(f'{sys.getsizeof(_cds) / 1000} kB')\n",
    "print(f'{sys.getsizeof(_ncs) / 1000} kB')"
   ]
  },
  {
   "cell_type": "markdown",
   "id": "9ca3d880-3bfd-4a7b-80a3-5a41a7c98f5d",
   "metadata": {},
   "source": [
    "### Plot Distribution of Data"
   ]
  },
  {
   "cell_type": "code",
   "execution_count": 4,
   "id": "9e820d7e-c6eb-46cd-bf0f-f0ecd44b3cb2",
   "metadata": {},
   "outputs": [
    {
     "data": {
      "image/png": "[encoded data removed]",
      "text/plain": [
       "<Figure size 432x288 with 1 Axes>"
      ]
     },
     "metadata": {
      "needs_background": "light"
     },
     "output_type": "display_data"
    }
   ],
   "source": [
    "preprocess.plot_data_distributions(_cds, _ncs, x='length')"
   ]
  },
  {
   "cell_type": "code",
   "execution_count": 5,
   "id": "1a6d5bec-4ee7-48f7-a086-9e7fe56c60ce",
   "metadata": {},
   "outputs": [
    {
     "data": {
      "image/png": "[encoded data removed]",
      "text/plain": [
       "<Figure size 432x288 with 1 Axes>"
      ]
     },
     "metadata": {
      "needs_background": "light"
     },
     "output_type": "display_data"
    }
   ],
   "source": [
    "preprocess.plot_data_distributions(_cds, _ncs, x='log_length')"
   ]
  },
  {
   "cell_type": "code",
   "execution_count": 6,
   "id": "6751a55b-af6f-423f-b8a3-86d8beaf4392",
   "metadata": {},
   "outputs": [
    {
     "data": {
      "image/png": "[encoded data removed]",
      "text/plain": [
       "<Figure size 432x288 with 1 Axes>"
      ]
     },
     "metadata": {
      "needs_background": "light"
     },
     "output_type": "display_data"
    }
   ],
   "source": [
    "preprocess.plot_data_distributions(_cds, _ncs, x='gc')"
   ]
  },
  {
   "cell_type": "markdown",
   "id": "94d5eaac-b059-45b3-871b-2bccc01a357f",
   "metadata": {},
   "source": [
    "### SeqRecord Structure\n",
    "\n",
    "The CDS and NCS data are lists of Biopython **SeqRecord** that contain information about each sequence, such as `ID`, `Name`, `Description`, `Number of features`, and `Seq`.\n",
    "\n",
    "* `ID` is the GenBank accession number for the prokaryotic genome the sequence was extracted from. \n",
    "* `Name` is a auto-generated identifier that the program creates for each sequence. \n",
    "* `Description` is blank. \n",
    "* `Number of features` includes another Biopython data structure called **SeqFeature** that contains information about the type (CDS or NCS), start location on the genome, the stop location on the genome, and what strand the gene originated from - (+) if it came from the template strand and (-) if it came from the coding strand. \n",
    "* `Seq` is another Biopython object that contains the sequence of the gene. \n",
    "\n",
    "**NOTE**: the sequence contains a buffer of *30 basepairs upstream of the start codon* and *30 basepairs downstream of the stop codon*. The additional information is necessary to extract the TIS feature."
   ]
  },
  {
   "cell_type": "code",
   "execution_count": 7,
   "id": "19fc0ac1-4241-4859-991c-592329d010bc",
   "metadata": {},
   "outputs": [
    {
     "name": "stdout",
     "output_type": "stream",
     "text": [
      "NC_000917\n",
      "AF_RS00005\n",
      "<unknown description>\n",
      "type: CDS\n",
      "location: [4289:4784](+)\n",
      "qualifiers:\n",
      "\n",
      "ATGAAAGAGACGATTCAGCTTGCTATAGGGGTGATGCTGTTGGCCATGCTCGGTTGCTACATCTACATTACTGAGTTCTATCACTACGAATCAACTGAAGAGAGCTCAAAAGCTGCGATTGAATATTTGAATCAGCTTAGAGCTCAGAATGGCCTGCCTCCTGTAAAGTGGAATAAAACTCTTTACGAGTTTGCGCTGGAAAGGCTTGAAGATATGCATGAAAGAGGCTATTACAGTCATTATGACCCTGTTACGCATGAGACGCTGATTTACAGATATGTTGAGGGGTATGTTGGAGAGTGTATCTTGAATGGTGTAAGAGGTACAAATCTTCTCTCCAATGGGCTTCAGTCATTATTTGGCTATGAAGAAGAAGCTATAGATATCTGGTCTAAAAGCACCATGCACAAACTCATTCTCACTGATAAACGCTTCACAGATGCCGCTGTAGCCTGCAAGTACGACATGTGTGTTTTGATTATGACGGGTGGTTGA\n"
     ]
    }
   ],
   "source": [
    "# example of cds SeqRecord\n",
    "example_record = _cds[0]\n",
    "\n",
    "print(example_record.id)\n",
    "print(example_record.name)\n",
    "print(example_record.description)\n",
    "print(example_record.features[0])\n",
    "print(example_record.seq[30:-30])"
   ]
  },
  {
   "cell_type": "markdown",
   "id": "c691a89c-4ffd-4137-963c-36ada6119e0f",
   "metadata": {},
   "source": [
    "### Shuffle and Split Training Data\n",
    "\n",
    "Training data is split into two datasets - one to train the linear discriminant weight vectors and one to train the neural network."
   ]
  },
  {
   "cell_type": "code",
   "execution_count": 8,
   "id": "96ac6dfc-c892-47ee-aaee-2cad7f598cd5",
   "metadata": {},
   "outputs": [],
   "source": [
    "# merge CDS and NCS data\n",
    "_seq = _cds + _ncs\n",
    "\n",
    "# shuffle and split data\n",
    "LD_Data, NN_Data = genepred.split_training_records(_seq, size=0.5, \\\n",
    "                                                   random_state=SEED, \\\n",
    "                                                   shuffle=True)"
   ]
  },
  {
   "cell_type": "code",
   "execution_count": 9,
   "id": "12226fa4-8274-46a4-8959-a850883ae834",
   "metadata": {},
   "outputs": [
    {
     "name": "stdout",
     "output_type": "stream",
     "text": [
      "LD Dataset: 189566\n",
      "NN Dataset: 189566\n"
     ]
    }
   ],
   "source": [
    "print(f'LD Dataset: {len(LD_Data)}')\n",
    "print(f'NN Dataset: {len(NN_Data)}')"
   ]
  },
  {
   "cell_type": "code",
   "execution_count": 10,
   "id": "9a2dbe9e-fc94-44cb-852f-3f1db8d8049c",
   "metadata": {},
   "outputs": [
    {
     "name": "stdout",
     "output_type": "stream",
     "text": [
      "Saved genome fragments to ./input/train_8g.fna.\n"
     ]
    }
   ],
   "source": [
    "# save records as FASTA file\n",
    "predict.seqrecord2fasta(filename='./input/train_8g.fna', seq_records=_seq)"
   ]
  },
  {
   "cell_type": "markdown",
   "id": "9e90d9cd-d3a7-4824-b15c-cf1234eb0035",
   "metadata": {},
   "source": [
    "## Train Linear Discriminant Weight Vectors for Dimensional Reduction"
   ]
  },
  {
   "cell_type": "markdown",
   "id": "c0de8dc7-51da-4431-ad29-f82266e8cbf4",
   "metadata": {
    "tags": []
   },
   "source": [
    "### Extract Features - Monocodon (Tri), Dicodon (Hex), TIS\n",
    "\n",
    "Common meaningful features that are extracted from a genome include the `codon frequency` (monocodon or tri), the `dicodon frequency` (dicodon or hex), the `translation initiation sites` (TIS), and `GC content`. For training the linear discriminant, only the first three features will be extracted since they are highly dimensional. \n",
    "* Codon Frequency - ex. ATGCCC... => 'ATG', 'CCC', ...\n",
    "* Dicodon Frequency - ex. ATGCCCTTT... => 'ATGCCC', 'CCCTTT', ...\n",
    "* TIS - frame that includes 30 basepairs (bp) upstream and downstream of start codons\n",
    "\n",
    "**Note:** TIS features are different for discriminant training vs NN training. For discriminant training, TIS features are from CDS only - a TIS frame starting at the true start codon is positive; a TIS frame starting at a start codon within the gene is negative. See the `Hoff et al.` paper for more information on features."
   ]
  },
  {
   "cell_type": "markdown",
   "id": "f0e699ea-077f-4c7e-bdc5-e0c36366821a",
   "metadata": {},
   "source": [
    "Input arguments for `extract.training_features`\n",
    "* **seq_records** - list of linear discriminant SeqRecords\n",
    "* **OFFSET** - default `=30`\n",
    "\n",
    "Return types for `extract.training_features`\n",
    "* **cod_feat** - codon features (monocodon, dicodon)\n",
    "* **cod_y** - labels for codon features\n",
    "* **tis_feat** - training tis features\n",
    "* **tis_y** - labels for training tis features"
   ]
  },
  {
   "cell_type": "code",
   "execution_count": 11,
   "id": "64fb16f5-f0c2-46e2-a6e7-38bb17926561",
   "metadata": {},
   "outputs": [
    {
     "name": "stdout",
     "output_type": "stream",
     "text": [
      "CPU times: user 12min 10s, sys: 45.9 s, total: 12min 56s\n",
      "Wall time: 13min\n"
     ]
    }
   ],
   "source": [
    "%time cod_feat, cod_y, tis_feat, tis_y = extract.training_features(LD_Data, OFFSET=30)"
   ]
  },
  {
   "cell_type": "markdown",
   "id": "9ed173dc-1b6e-46f5-9733-039639ec14e7",
   "metadata": {
    "tags": []
   },
   "source": [
    "### Train Discriminant Weight Vectors\n",
    "\n",
    "We need to minimize:\n",
    "\n",
    "$$ E(w_M) = \\frac{1}{n}\\sum_{i=0}^{n}(w_m \\cdot x_M^i - y_i)^2 + \\lambda w_M \\cdot w_M $$\n",
    "\n",
    "where $x_M^i \\in \\mathbb{R}^{64}$ is the $i-th$ column of the monocodon frequency matrix $\\textbf{X}_M$, $n=64$ monocodon possibilities, $y_M^i \\in (-1, 1)$ is the $i-th$ element of the label vector, and $w_M$ is the discriminant weight vector.\n",
    "\n",
    "We can minimize $E$ by:\n",
    "\n",
    "$$w_M = (X_MX_M^T +\\lambda n\\textbf{I})^{-1}X_My_M$$\n",
    "\n",
    "This can be generalized to train the discriminant vector $w$ for dicodon frequency and TIS. "
   ]
  },
  {
   "cell_type": "code",
   "execution_count": 12,
   "id": "b47f2940-fb8d-4ca7-ae5f-93bbf8ec3f1c",
   "metadata": {},
   "outputs": [],
   "source": [
    "wM = train.discriminant(cod_feat[0], cod_y)\n",
    "wD = train.discriminant(cod_feat[1], cod_y)\n",
    "wT = train.discriminant(tis_feat,    tis_y)\n",
    "w = [wM, wD, wT]"
   ]
  },
  {
   "cell_type": "code",
   "execution_count": 13,
   "id": "7af2b1ba-a71a-4801-a384-587f2a86d6af",
   "metadata": {},
   "outputs": [
    {
     "name": "stdout",
     "output_type": "stream",
     "text": [
      "Weights Shape: wM (64,), wD (4096,), wT (3712,)\n"
     ]
    }
   ],
   "source": [
    "print(f'Weights Shape: wM {w[0].shape}, wD {w[1].shape}, wT {w[2].shape}')"
   ]
  },
  {
   "cell_type": "markdown",
   "id": "a7145030-0fcf-4ad5-a601-dfef7bc611ff",
   "metadata": {},
   "source": [
    "### Train TIS Gaussian Parameters \n",
    "\n",
    "Ideally, input sequences into the prediction algorithm will contain all the information we need to determine if the sequence is a gene or not. However, next-generation sequencing (NGS) tools often produce fragments of DNA that vary in length from 100 bp to 700 bp. Therefore, the entire TIS region (30 bp upstream of the start codon to 30 bp downstream of the start codon) may not be present in the input sequence. \n",
    "\n",
    "To overcome this, a Gaussian distribution can be trained on the training genomes provided. Then, we can predict how likely a given fragment of a TIS window is from a gene or not."
   ]
  },
  {
   "cell_type": "code",
   "execution_count": 14,
   "id": "c19f5a09-1214-47a4-9fda-c2b17e5b441d",
   "metadata": {},
   "outputs": [
    {
     "name": "stdout",
     "output_type": "stream",
     "text": [
      "CPU times: user 15.7 s, sys: 2min 2s, total: 2min 18s\n",
      "Wall time: 3min 3s\n"
     ]
    }
   ],
   "source": [
    "%time p = train.tis_gaussian(tis_feat, tis_y, wT)"
   ]
  },
  {
   "cell_type": "code",
   "execution_count": 15,
   "id": "e3f1844e-c0a6-46c6-9240-c03699eed489",
   "metadata": {},
   "outputs": [
    {
     "name": "stdout",
     "output_type": "stream",
     "text": [
      "Pos (pi, mu, sd): 0.035, -0.0818, 0.672\n",
      "Neg (pi, mu, sd): 0.965, -0.9608, 0.1344\n"
     ]
    }
   ],
   "source": [
    "print(f'Pos (pi, mu, sd): {round(p[0][0],4)}, {round(p[1][0],4)}, {round(p[2][0],4)}')\n",
    "print(f'Neg (pi, mu, sd): {round(p[0][1],4)}, {round(p[1][1],4)}, {round(p[2][1],4)}')"
   ]
  },
  {
   "cell_type": "markdown",
   "id": "64fc2996-1eed-4f1e-b9c9-c271a8eaaceb",
   "metadata": {},
   "source": [
    "### Visualize TIS Weight Vector"
   ]
  },
  {
   "cell_type": "code",
   "execution_count": 16,
   "id": "7fe3d67e-24cb-40d4-b2c9-659d44626108",
   "metadata": {},
   "outputs": [
    {
     "data": {
      "text/plain": [
       "<AxesSubplot:>"
      ]
     },
     "execution_count": 16,
     "metadata": {},
     "output_type": "execute_result"
    },
    {
     "data": {
      "image/png": "[encoded data removed]",
      "text/plain": [
       "<Figure size 842.4x595.44 with 2 Axes>"
      ]
     },
     "metadata": {
      "needs_background": "light"
     },
     "output_type": "display_data"
    }
   ],
   "source": [
    "from modules.extract import populate_codon_idx_dict\n",
    "\n",
    "tis_weights = np.array(w[2]).reshape(58,64).T\n",
    "\n",
    "y_axis_labels = populate_codon_idx_dict(nbases=3).keys()\n",
    "x_axis_labels = [i for i in range(-30,28)]\n",
    "\n",
    "df = pd.DataFrame(tis_weights, columns=x_axis_labels, index=y_axis_labels)\n",
    "\n",
    "a4_dims = (11.7, 8.27)\n",
    "fig, ax = plt.subplots(figsize=a4_dims)\n",
    "sns.heatmap(ax=ax, data=df, cmap=\"YlGnBu\")"
   ]
  },
  {
   "cell_type": "markdown",
   "id": "6f4ff062-94fa-40f2-9603-8449555acd84",
   "metadata": {},
   "source": [
    "## Train Binary Classification Neural Network"
   ]
  },
  {
   "cell_type": "code",
   "execution_count": null,
   "id": "b25f2a22-6705-4299-8fd6-c07787db5ba5",
   "metadata": {},
   "outputs": [],
   "source": [
    "# load latest parameters\n",
    "w, p = genepred.load_param(\"./model/param_8g.csv\")"
   ]
  },
  {
   "cell_type": "code",
   "execution_count": 17,
   "id": "a791e1d4-7e7c-42ab-9dc2-fa56fd810604",
   "metadata": {},
   "outputs": [],
   "source": [
    "# suppress tf messages/warnings\n",
    "import os\n",
    "os.environ['TF_CPP_MIN_LOG_LEVEL'] = '3'\n",
    "import tensorflow as tf\n",
    "tf.compat.v1.logging.set_verbosity(tf.compat.v1.logging.ERROR)\n",
    "\n",
    "from tensorflow.keras.models import Sequential\n",
    "from tensorflow.keras.layers import Dense\n",
    "from sklearn.model_selection import train_test_split\n",
    "from sklearn import metrics"
   ]
  },
  {
   "cell_type": "markdown",
   "id": "b9620776-08e3-4d12-a831-96bc574d9e61",
   "metadata": {},
   "source": [
    "### Extract Features\n",
    "\n",
    "Return types for `extract.features`\n",
    "* **features** - all features (monocodon, dicodon, tis, gc)\n",
    "* **y** - labels for features"
   ]
  },
  {
   "cell_type": "code",
   "execution_count": 20,
   "id": "d5cc8731-aaf6-42e0-bac9-1a4d268f4bb5",
   "metadata": {},
   "outputs": [
    {
     "name": "stdout",
     "output_type": "stream",
     "text": [
      "CPU times: user 11min 23s, sys: 1min 44s, total: 13min 7s\n",
      "Wall time: 13min 12s\n"
     ]
    }
   ],
   "source": [
    "%time NN_features, NN_y = extract.features(NN_Data)"
   ]
  },
  {
   "cell_type": "code",
   "execution_count": 21,
   "id": "244e62ab-1d13-4fb9-96de-7d3efc93d755",
   "metadata": {},
   "outputs": [
    {
     "name": "stdout",
     "output_type": "stream",
     "text": [
      "(189134,4)\n",
      "(189134,)\n"
     ]
    }
   ],
   "source": [
    "print(f'({len(NN_features[0])},{len(NN_features)})')\n",
    "print(f'({len(NN_y)},)')"
   ]
  },
  {
   "cell_type": "markdown",
   "id": "85ea06e4-ebb6-47d7-b152-af121a74c8fd",
   "metadata": {},
   "source": [
    "### Dimensionally Reduce Large Features\n",
    "\n",
    "Return types for `extract.dimensional_reduction`\n",
    "* **nn_input** - (n,5) matrix of reduced features\n",
    "\n",
    "Features include:\n",
    "* x1 = reduced monocodon frequency\n",
    "* x2 = reduced dicodon frequency\n",
    "* x3 = positive tis score (gaussian probability)\n",
    "* x4 = negative tis score (gaussian probability)\n",
    "* x7 = gc content"
   ]
  },
  {
   "cell_type": "code",
   "execution_count": 22,
   "id": "1623c7db-73ec-41e6-a358-e216f0fa101a",
   "metadata": {},
   "outputs": [
    {
     "name": "stdout",
     "output_type": "stream",
     "text": [
      "CPU times: user 25 s, sys: 2min 21s, total: 2min 46s\n",
      "Wall time: 3min 7s\n"
     ]
    }
   ],
   "source": [
    "%time nn_input = extract.dimentional_reduction(NN_features, w, p)"
   ]
  },
  {
   "cell_type": "code",
   "execution_count": 23,
   "id": "c87ccf23-9c11-4466-b032-32cdc5445c48",
   "metadata": {},
   "outputs": [
    {
     "name": "stdout",
     "output_type": "stream",
     "text": [
      "(189134, 5)\n"
     ]
    }
   ],
   "source": [
    "print(f'({len(nn_input)}, {len(nn_input[0])})')"
   ]
  },
  {
   "cell_type": "markdown",
   "id": "d047b328-7c81-4beb-b848-05eeb973a7f3",
   "metadata": {},
   "source": [
    "### Test, Train, Split"
   ]
  },
  {
   "cell_type": "code",
   "execution_count": 24,
   "id": "18cf4476-f670-4eac-9fb3-812353a1dc83",
   "metadata": {},
   "outputs": [],
   "source": [
    "X_train, X_test, y_train, y_test = train_test_split(nn_input, np.array(NN_y), test_size=0.2, random_state=SEED)"
   ]
  },
  {
   "cell_type": "code",
   "execution_count": 25,
   "id": "027bab33-dfa6-4ac4-b00c-fd38fecd2c60",
   "metadata": {},
   "outputs": [
    {
     "name": "stdout",
     "output_type": "stream",
     "text": [
      "(151307, 5) (151307,)\n",
      "(37827, 5) (37827,)\n"
     ]
    }
   ],
   "source": [
    "print(X_train.shape, y_train.shape)\n",
    "print(X_test.shape, y_test.shape)"
   ]
  },
  {
   "cell_type": "markdown",
   "id": "3552a272-eefb-49ae-9d1b-b1658c12be48",
   "metadata": {},
   "source": [
    "### Define Neural Network Model"
   ]
  },
  {
   "cell_type": "code",
   "execution_count": 26,
   "id": "6e692951-b625-497e-960d-49395e6f12f4",
   "metadata": {},
   "outputs": [],
   "source": [
    "model = Sequential()\n",
    "model.add(Dense(25, input_dim=5, activation='relu'))\n",
    "model.add(Dense(1, activation='sigmoid'))"
   ]
  },
  {
   "cell_type": "code",
   "execution_count": 27,
   "id": "b1e353fa-fc08-4e11-94dd-f0527f6ac9a3",
   "metadata": {},
   "outputs": [
    {
     "name": "stdout",
     "output_type": "stream",
     "text": [
      "Model: \"sequential\"\n",
      "_________________________________________________________________\n",
      "Layer (type)                 Output Shape              Param #   \n",
      "=================================================================\n",
      "dense (Dense)                (None, 25)                150       \n",
      "_________________________________________________________________\n",
      "dense_1 (Dense)              (None, 1)                 26        \n",
      "=================================================================\n",
      "Total params: 176\n",
      "Trainable params: 176\n",
      "Non-trainable params: 0\n",
      "_________________________________________________________________\n"
     ]
    }
   ],
   "source": [
    "model.summary()"
   ]
  },
  {
   "cell_type": "markdown",
   "id": "d8dfded6-461b-41b1-8c19-dd7eada210fc",
   "metadata": {},
   "source": [
    "### Train Neural Network"
   ]
  },
  {
   "cell_type": "code",
   "execution_count": 28,
   "id": "ceb8178c-308e-4ce0-87ec-dc71b9f8da35",
   "metadata": {},
   "outputs": [
    {
     "name": "stdout",
     "output_type": "stream",
     "text": [
      "Epoch 1/50\n",
      "2365/2365 [==============================] - 5s 2ms/step - loss: 0.2749 - accuracy: 0.8914\n",
      "Epoch 2/50\n",
      "2365/2365 [==============================] - 4s 2ms/step - loss: 0.1980 - accuracy: 0.9389\n",
      "Epoch 3/50\n",
      "2365/2365 [==============================] - 4s 2ms/step - loss: 0.1944 - accuracy: 0.9401\n",
      "Epoch 4/50\n",
      "2365/2365 [==============================] - 4s 2ms/step - loss: 0.1909 - accuracy: 0.9409\n",
      "Epoch 5/50\n",
      "2365/2365 [==============================] - 4s 2ms/step - loss: 0.1917 - accuracy: 0.9406\n",
      "Epoch 6/50\n",
      "2365/2365 [==============================] - 4s 2ms/step - loss: 0.1904 - accuracy: 0.9410\n",
      "Epoch 7/50\n",
      "2365/2365 [==============================] - 4s 2ms/step - loss: 0.1908 - accuracy: 0.9407\n",
      "Epoch 8/50\n",
      "2365/2365 [==============================] - 4s 2ms/step - loss: 0.1903 - accuracy: 0.9407\n",
      "Epoch 9/50\n",
      "2365/2365 [==============================] - 4s 2ms/step - loss: 0.1917 - accuracy: 0.9403\n",
      "Epoch 10/50\n",
      "2365/2365 [==============================] - 4s 2ms/step - loss: 0.1878 - accuracy: 0.9414\n",
      "Epoch 11/50\n",
      "2365/2365 [==============================] - 4s 2ms/step - loss: 0.1906 - accuracy: 0.9410\n",
      "Epoch 12/50\n",
      "2365/2365 [==============================] - 4s 2ms/step - loss: 0.1905 - accuracy: 0.9408\n",
      "Epoch 13/50\n",
      "2365/2365 [==============================] - 5s 2ms/step - loss: 0.1917 - accuracy: 0.9402\n",
      "Epoch 14/50\n",
      "2365/2365 [==============================] - 5s 2ms/step - loss: 0.1894 - accuracy: 0.9415\n",
      "Epoch 15/50\n",
      "2365/2365 [==============================] - 5s 2ms/step - loss: 0.1896 - accuracy: 0.9408\n",
      "Epoch 16/50\n",
      "2365/2365 [==============================] - 4s 2ms/step - loss: 0.1909 - accuracy: 0.9406\n",
      "Epoch 17/50\n",
      "2365/2365 [==============================] - 4s 2ms/step - loss: 0.1892 - accuracy: 0.9415\n",
      "Epoch 18/50\n",
      "2365/2365 [==============================] - 4s 2ms/step - loss: 0.1888 - accuracy: 0.9413\n",
      "Epoch 19/50\n",
      "2365/2365 [==============================] - 4s 2ms/step - loss: 0.1896 - accuracy: 0.9414\n",
      "Epoch 20/50\n",
      "2365/2365 [==============================] - 4s 2ms/step - loss: 0.1877 - accuracy: 0.9417\n",
      "Epoch 21/50\n",
      "2365/2365 [==============================] - 4s 2ms/step - loss: 0.1877 - accuracy: 0.9418\n",
      "Epoch 22/50\n",
      "2365/2365 [==============================] - 4s 2ms/step - loss: 0.1885 - accuracy: 0.9415\n",
      "Epoch 23/50\n",
      "2365/2365 [==============================] - 4s 2ms/step - loss: 0.1884 - accuracy: 0.9418\n",
      "Epoch 24/50\n",
      "2365/2365 [==============================] - 4s 2ms/step - loss: 0.1902 - accuracy: 0.9406\n",
      "Epoch 25/50\n",
      "2365/2365 [==============================] - 5s 2ms/step - loss: 0.1887 - accuracy: 0.9411\n",
      "Epoch 26/50\n",
      "2365/2365 [==============================] - 5s 2ms/step - loss: 0.1889 - accuracy: 0.9411\n",
      "Epoch 27/50\n",
      "2365/2365 [==============================] - 4s 2ms/step - loss: 0.1908 - accuracy: 0.9410\n",
      "Epoch 28/50\n",
      "2365/2365 [==============================] - 4s 2ms/step - loss: 0.1900 - accuracy: 0.9415\n",
      "Epoch 29/50\n",
      "2365/2365 [==============================] - 4s 2ms/step - loss: 0.1906 - accuracy: 0.9410\n",
      "Epoch 30/50\n",
      "2365/2365 [==============================] - 4s 2ms/step - loss: 0.1879 - accuracy: 0.9415\n",
      "Epoch 31/50\n",
      "2365/2365 [==============================] - 4s 2ms/step - loss: 0.1897 - accuracy: 0.9405\n",
      "Epoch 32/50\n",
      "2365/2365 [==============================] - 4s 2ms/step - loss: 0.1919 - accuracy: 0.9405\n",
      "Epoch 33/50\n",
      "2365/2365 [==============================] - 4s 2ms/step - loss: 0.1876 - accuracy: 0.9420\n",
      "Epoch 34/50\n",
      "2365/2365 [==============================] - 4s 2ms/step - loss: 0.1885 - accuracy: 0.9418\n",
      "Epoch 35/50\n",
      "2365/2365 [==============================] - 4s 2ms/step - loss: 0.1898 - accuracy: 0.9411\n",
      "Epoch 36/50\n",
      "2365/2365 [==============================] - 4s 2ms/step - loss: 0.1890 - accuracy: 0.9414\n",
      "Epoch 37/50\n",
      "2365/2365 [==============================] - 4s 2ms/step - loss: 0.1912 - accuracy: 0.9403\n",
      "Epoch 38/50\n",
      "2365/2365 [==============================] - 4s 2ms/step - loss: 0.1879 - accuracy: 0.9413\n",
      "Epoch 39/50\n",
      "2365/2365 [==============================] - 4s 2ms/step - loss: 0.1874 - accuracy: 0.9420\n",
      "Epoch 40/50\n",
      "2365/2365 [==============================] - 4s 2ms/step - loss: 0.1903 - accuracy: 0.9407\n",
      "Epoch 41/50\n",
      "2365/2365 [==============================] - 4s 2ms/step - loss: 0.1895 - accuracy: 0.9412\n",
      "Epoch 42/50\n",
      "2365/2365 [==============================] - 4s 2ms/step - loss: 0.1885 - accuracy: 0.9411\n",
      "Epoch 43/50\n",
      "2365/2365 [==============================] - 4s 2ms/step - loss: 0.1888 - accuracy: 0.9412\n",
      "Epoch 44/50\n",
      "2365/2365 [==============================] - 4s 2ms/step - loss: 0.1884 - accuracy: 0.9412\n",
      "Epoch 45/50\n",
      "2365/2365 [==============================] - 4s 2ms/step - loss: 0.1902 - accuracy: 0.9408\n",
      "Epoch 46/50\n",
      "2365/2365 [==============================] - 4s 2ms/step - loss: 0.1890 - accuracy: 0.9417\n",
      "Epoch 47/50\n",
      "2365/2365 [==============================] - 4s 2ms/step - loss: 0.1912 - accuracy: 0.9403\n",
      "Epoch 48/50\n",
      "2365/2365 [==============================] - 4s 2ms/step - loss: 0.1863 - accuracy: 0.9424\n",
      "Epoch 49/50\n",
      "2365/2365 [==============================] - 4s 2ms/step - loss: 0.1858 - accuracy: 0.9430\n",
      "Epoch 50/50\n",
      "2365/2365 [==============================] - 4s 2ms/step - loss: 0.1870 - accuracy: 0.9423\n"
     ]
    },
    {
     "data": {
      "text/plain": [
       "<tensorflow.python.keras.callbacks.History at 0x7f9fe42cb100>"
      ]
     },
     "execution_count": 28,
     "metadata": {},
     "output_type": "execute_result"
    }
   ],
   "source": [
    "# compile model\n",
    "model.compile(loss='binary_crossentropy', optimizer='adam', metrics=['accuracy'])\n",
    "\n",
    "# train model\n",
    "model.fit(X_train, y_train, epochs=50, batch_size=64, verbose=1)"
   ]
  },
  {
   "cell_type": "markdown",
   "id": "39381fcf-b1a3-4729-a61d-1b90d2e900cd",
   "metadata": {},
   "source": [
    "### Evaluate Model"
   ]
  },
  {
   "cell_type": "code",
   "execution_count": 29,
   "id": "b22bd7d9-f79d-4772-b53d-99209c3ff45a",
   "metadata": {},
   "outputs": [
    {
     "name": "stdout",
     "output_type": "stream",
     "text": [
      "accuracy: 94.26%\n"
     ]
    }
   ],
   "source": [
    "score = model.evaluate(X_test, y_test, verbose=0)\n",
    "print(\"%s: %.2f%%\" % (model.metrics_names[1], score[1]*100))"
   ]
  },
  {
   "cell_type": "code",
   "execution_count": 30,
   "id": "d33c5dbd-8a24-43b4-bba1-b9cac80d15e9",
   "metadata": {},
   "outputs": [
    {
     "name": "stdout",
     "output_type": "stream",
     "text": [
      "Confusion matrix, without normalization\n",
      "[[35350   140]\n",
      " [ 2030   307]]\n"
     ]
    },
    {
     "data": {
      "image/png": "[encoded data removed]",
      "text/plain": [
       "<Figure size 432x288 with 2 Axes>"
      ]
     },
     "metadata": {
      "needs_background": "light"
     },
     "output_type": "display_data"
    }
   ],
   "source": [
    "# make predictions\n",
    "predictions = model.predict(X_test)\n",
    "\n",
    "# convert predictions to 1 or 0\n",
    "y_pred = [1 if val >= 0.5 else 0 for val in predictions]\n",
    "\n",
    "# create confusion matrix\n",
    "cm = metrics.confusion_matrix(y_true=y_test, y_pred=y_pred)\n",
    "\n",
    "# plot confusion matrix\n",
    "genepred.plot_confusion_matrix(cm=cm, classes=['ncs','cds'], normalize=False)"
   ]
  },
  {
   "cell_type": "code",
   "execution_count": 37,
   "id": "a07c88b7-46a8-45b8-a071-12fbe01be38b",
   "metadata": {},
   "outputs": [
    {
     "name": "stdout",
     "output_type": "stream",
     "text": [
      "0.687, 0.054\n"
     ]
    }
   ],
   "source": [
    "TPR = 307 / (307+140)\n",
    "FPR = 1 - (35350 / (35350+2030))\n",
    "print(f'{round(TPR,3)}, {round(FPR,3)}')"
   ]
  },
  {
   "cell_type": "markdown",
   "id": "eaa14639-4ddf-4ae8-b807-ff4626c13096",
   "metadata": {},
   "source": [
    "## Save"
   ]
  },
  {
   "cell_type": "code",
   "execution_count": 31,
   "id": "59c59835-05c7-4741-bea4-c57374b25874",
   "metadata": {},
   "outputs": [
    {
     "name": "stdout",
     "output_type": "stream",
     "text": [
      "Saved model to disk.\n"
     ]
    }
   ],
   "source": [
    "# save NN model as JSON/H5\n",
    "genepred.save_model2json(\"./model/model_8g\", model)"
   ]
  },
  {
   "cell_type": "code",
   "execution_count": 32,
   "id": "151388f6-46a6-4eae-bc07-e3b529ed1a03",
   "metadata": {},
   "outputs": [
    {
     "name": "stdout",
     "output_type": "stream",
     "text": [
      "Saved data to disk.\n"
     ]
    }
   ],
   "source": [
    "# save weights and TIS Gaussian parameters\n",
    "data = w + p\n",
    "genepred.save_params2csv(\"./model/param_8g.csv\", data)"
   ]
  },
  {
   "cell_type": "markdown",
   "id": "c13bc180-e277-4502-9166-97f2e3f40a63",
   "metadata": {},
   "source": [
    "# Gene Prediction"
   ]
  },
  {
   "cell_type": "markdown",
   "id": "08179553-b21e-4250-96ac-2fa20434bc37",
   "metadata": {},
   "source": [
    "## How to use Gene Prediction Tools"
   ]
  },
  {
   "cell_type": "markdown",
   "id": "d1574d7e-cf39-4649-ae2c-b86661f64194",
   "metadata": {},
   "source": [
    "### Option 1: Use the Built-In `.predict` Method"
   ]
  },
  {
   "cell_type": "code",
   "execution_count": 102,
   "id": "fa4cde75-46e1-4229-939f-5489575edac0",
   "metadata": {},
   "outputs": [
    {
     "name": "stdout",
     "output_type": "stream",
     "text": [
      "Loaded parameters from disk.\n"
     ]
    }
   ],
   "source": [
    "data = genepred.load_params(\"./model/param_4g.csv\")\n",
    "w, p = data[0:3], data[3:]"
   ]
  },
  {
   "cell_type": "code",
   "execution_count": 103,
   "id": "0cf432d3-f9dc-4263-9a63-fbe3a0a3aef8",
   "metadata": {},
   "outputs": [],
   "source": [
    "# test first 5 cds records - extract features + dim red\n",
    "op1_records = _cds[0:5]\n",
    "op1_feat, op1_y = extract.features(op1_records)\n",
    "op1_red_feat = extract.dimentional_reduction(op1_feat, w, p)"
   ]
  },
  {
   "cell_type": "code",
   "execution_count": 104,
   "id": "c9bc65e4-fc61-4e54-b42d-11af64397038",
   "metadata": {},
   "outputs": [],
   "source": [
    "# predictions + convert to 1s and 0s\n",
    "pp = model.predict(op1_red_feat)\n",
    "pp = [1 if val >= 0.5 else 0 for val in pp]"
   ]
  },
  {
   "cell_type": "code",
   "execution_count": 106,
   "id": "9bbd9efa-4f52-41c6-8533-4349dbae4ef4",
   "metadata": {},
   "outputs": [
    {
     "data": {
      "text/plain": [
       "[1, 1, 1, 1, 1]"
      ]
     },
     "execution_count": 106,
     "metadata": {},
     "output_type": "execute_result"
    }
   ],
   "source": [
    "pp"
   ]
  },
  {
   "cell_type": "markdown",
   "id": "ddb62250-44f9-4433-ba5b-087ecc17d185",
   "metadata": {},
   "source": [
    "### Option 2: Extract Sequences from GenBank Genome\n",
    "\n",
    "The `predict.from_genome` method extracts sequences from input genomes (txt file of accession numbers), creates a temporary FASTA file in the `./input` folder called `tmp.fna` that contains all extracted sequences in the FASTA format, and creates an output prediction file with the sequences that it predicted as genes."
   ]
  },
  {
   "cell_type": "code",
   "execution_count": null,
   "id": "3b665b66-2fbe-4581-9e6b-1d3e790ade73",
   "metadata": {},
   "outputs": [],
   "source": [
    "gb_file = './input/train.txt'      # txt file of genbank accession numbers\n",
    "num = 1                            # number of genomes to extract from input txt file\n",
    "seq = 'cds'                        # only getting CDS sequences \n",
    "\n",
    "par = './model/param_4g.csv'       # saved csv of parameter values (w, p)\n",
    "mod = './model/model_4g'           # saved json/h5 of NN model\n",
    "out = './results/gb_pred_test.fna' # location of prediction results"
   ]
  },
  {
   "cell_type": "code",
   "execution_count": null,
   "id": "492a85eb-993f-4603-86c8-bb75be01b6b1",
   "metadata": {},
   "outputs": [],
   "source": [
    "%time pg = predict.from_genome(filename=gb_file, \\\n",
    "                               n_genomes=num, \\\n",
    "                               params=par, \\\n",
    "                               model=mod, \\\n",
    "                               outfile=out, \\\n",
    "                               seq=seq)"
   ]
  },
  {
   "cell_type": "code",
   "execution_count": null,
   "id": "606f4c6f-ec76-4449-94dc-a13b77ea064a",
   "metadata": {},
   "outputs": [],
   "source": [
    "# create confusion matrix\n",
    "y_true_op2 = [1]*len(pg)\n",
    "cm_op2 = metrics.confusion_matrix(y_true=y_true_op2, y_pred=pg)\n",
    "\n",
    "# plot confusion matrix\n",
    "genepred.plot_confusion_matrix(cm=cm_op2, classes=['ncs','cds'], normalize=False)"
   ]
  },
  {
   "cell_type": "markdown",
   "id": "f945bd44-c4ef-40a0-9a2a-0f52de480519",
   "metadata": {},
   "source": [
    "### Option 3: Input FASTA File Containing Sequences\n",
    "\n",
    "Using `tmp.fna` file created from the `predict.from_genome` method above as the example input."
   ]
  },
  {
   "cell_type": "code",
   "execution_count": null,
   "id": "5a4d7b3b-c838-46ef-a5d5-4d137fe927b2",
   "metadata": {},
   "outputs": [],
   "source": [
    "fna_file = './input/tmp.fna'          # input fasta file\n",
    "\n",
    "par = './model/param_4g.csv'          # saved csv of parameter values (w, p)\n",
    "mod = './model/model_4g'              # saved json/h5 of NN model\n",
    "out = './results/fasta_pred_test.fna' # location of prediction results"
   ]
  },
  {
   "cell_type": "code",
   "execution_count": null,
   "id": "1b2f58d3-da3b-4a92-8ebf-d374ec9232d8",
   "metadata": {},
   "outputs": [],
   "source": [
    "% time pf = predict.from_fasta(filename=fna_file, \\\n",
    "                               params=par, \\\n",
    "                               model=mod, \\\n",
    "                               outfile=out)"
   ]
  },
  {
   "cell_type": "code",
   "execution_count": null,
   "id": "06998e22-1133-45cc-87a4-b34711f04dff",
   "metadata": {},
   "outputs": [],
   "source": [
    "# create confusion matrix\n",
    "y_true_op3 = [1]*len(pf)\n",
    "cm_op3 = metrics.confusion_matrix(y_true=y_true_op2, y_pred=pg)\n",
    "\n",
    "# plot confusion matrix\n",
    "genepred.plot_confusion_matrix(cm=cm_op3, classes=['ncs','cds'], normalize=False)"
   ]
  },
  {
   "cell_type": "markdown",
   "id": "790f1966-8c30-46d1-af42-e5ff6ed385fd",
   "metadata": {},
   "source": [
    "## Input your sequences for prediction"
   ]
  },
  {
   "cell_type": "code",
   "execution_count": null,
   "id": "d6c332c9-4e0e-4535-abe0-eb865714247b",
   "metadata": {},
   "outputs": [],
   "source": []
  }
 ],
 "metadata": {
  "kernelspec": {
   "display_name": "Python 3 (ipykernel)",
   "language": "python",
   "name": "python3"
  },
  "language_info": {
   "codemirror_mode": {
    "name": "ipython",
    "version": 3
   },
   "file_extension": ".py",
   "mimetype": "text/x-python",
   "name": "python",
   "nbconvert_exporter": "python",
   "pygments_lexer": "ipython3",
   "version": "3.8.11"
  }
 },
 "nbformat": 4,
 "nbformat_minor": 5
}
