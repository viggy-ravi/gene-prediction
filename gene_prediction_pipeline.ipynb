{
 "cells": [
  {
   "cell_type": "markdown",
   "id": "774be40a-2b18-4e53-8190-4f8bd43e9ed4",
   "metadata": {},
   "source": [
    "# Gene Prediction Pipeline"
   ]
  },
  {
   "cell_type": "markdown",
   "id": "41e35511-9816-4153-b061-cadbb3971700",
   "metadata": {},
   "source": [
    "## Introduction\n",
    "\n",
    "This project was based on the 2008 paper ['Gene prediction in metagenomic fragments: A large scale machine learning approach'](https://bmcbioinformatics.biomedcentral.com/articles/10.1186/1471-2105-9-217) by Hoff et at. The goal of this notebook is to train the gene prediction algorithm using a 2-stage approach - linear discriminant and neural network. The linear discriminant model reduces high dimensional features and the neural network predicts if a given sequence is a gene or not. My intentions for starting this project were to gain a deeper understanding of machine learning approaches behind the `Orphelia gene prediction algorithm` and sharpen my programming skills. \n",
    "\n",
    "See the `Binary-Classification-of-Coding-and-Noncoding-Genes.ipynb` and `examples` folder for example code."
   ]
  },
  {
   "cell_type": "markdown",
   "id": "6d7587f8-43ea-489e-a891-10726b48ed8c",
   "metadata": {
    "tags": []
   },
   "source": [
    "## Google Colab Setup\n",
    "\n",
    "First clone the `gene-prediction` repository to Google Colab (see setup in `README.md`). Then install dependencies (see code below)."
   ]
  },
  {
   "cell_type": "code",
   "execution_count": 1,
   "id": "5e0f3e95-e323-4809-b5ba-d4f1685ff3fb",
   "metadata": {},
   "outputs": [],
   "source": [
    "# # Install dependencies\n",
    "# !pip install -r requirements.txt\n",
    "\n",
    "# # Install biopython library manually\n",
    "# !pip3 install biopython"
   ]
  },
  {
   "cell_type": "code",
   "execution_count": null,
   "id": "c5321e12-692d-41c8-8014-7358c4da413e",
   "metadata": {},
   "outputs": [],
   "source": [
    "# # Pull latest code\n",
    "# !git pull"
   ]
  },
  {
   "cell_type": "markdown",
   "id": "614e5b65-c76d-408a-b521-04259b34a9cd",
   "metadata": {},
   "source": [
    "# Train 2-Stage Binary Classification Algorithm"
   ]
  },
  {
   "cell_type": "code",
   "execution_count": 1,
   "id": "c1deb126-30ab-42c1-9d21-dd21dbedc3b2",
   "metadata": {},
   "outputs": [],
   "source": [
    "# Enter your email for the Entrez API \n",
    "email = \"vignesh.ravindranath@gmail.com\"\n",
    "\n",
    "import os\n",
    "import sys\n",
    "import random\n",
    "import numpy as np\n",
    "import pandas as pd\n",
    "import seaborn as sns\n",
    "import matplotlib.pyplot as plt\n",
    "from Bio import Entrez\n",
    "Entrez.email = email\n",
    "\n",
    "# will inform your notebook to actively reload all \n",
    "# imported modules and packages as they are modified\n",
    "%load_ext autoreload\n",
    "%autoreload\n",
    "\n",
    "# self defined modules\n",
    "from modules import preprocess, extract, train, utils, predict"
   ]
  },
  {
   "cell_type": "markdown",
   "id": "7dc5871e-0008-4d31-8325-9eafeb222411",
   "metadata": {
    "tags": []
   },
   "source": [
    "## Preprocess Genomes"
   ]
  },
  {
   "cell_type": "markdown",
   "id": "0f945e75-843d-4a45-954a-014901b85c9a",
   "metadata": {},
   "source": [
    "Preprocessing a genome consists of finding all valid open reading frames (ORFs). ORFs start with a start codon (ATG, CTG, GTG, or TGT) and end with an in-frame stop codon (TAG, TGA, or TAA). To train our neural network, we need to find positive ORFs - sequencies that code for a protein (i.e. genes) -  and negative ORFs - sequencies in the genome that start with a start codon and end with an in-frame stop codon, but don't code for a protein. The negative ORFs can be found in the intergenic regions (interregions) of a genome or spaces between genes. \n",
    "\n",
    "For this project, positive ORFs will be referred to as CDS or **C**o**D**ing **S**equences, and negative ORFs will be referred to as NCS or **N**on **C**oding **S**equences.\n",
    "\n",
    "The CDS and NCS data are lists of Biopython **SeqRecord** that contain information about each sequence, such as `ID`, `Name`, `Description`, `Number of features`, and `Seq`.\n",
    "\n",
    "* `ID` is the GenBank accession number for the prokaryotic genome the sequence was extracted from. \n",
    "* `Name` is a auto-generated identifier that the program creates for each sequence. \n",
    "* `Description` is blank. \n",
    "* `Number of features` includes another Biopython data structure called **SeqFeature** that contains information about the type (CDS or NCS), start location on the genome, the stop location on the genome, and what strand the gene originated from - (+) if it came from the template strand and (-) if it came from the coding strand. \n",
    "* `Seq` is another Biopython object that contains the sequence of the gene. \n",
    "\n",
    "**NOTE**: the sequence contains a buffer of *30 basepairs upstream of the start codon* and *30 basepairs downstream of the stop codon*. The additional information is necessary to extract the TIS feature."
   ]
  },
  {
   "cell_type": "markdown",
   "id": "19bab0d0-c092-49e9-8067-9791eba87007",
   "metadata": {},
   "source": [
    "Input arguments for `preprocess.genome`\n",
    "* **filename** - txt file containing list of accession numbers (gb genomes)\n",
    "* **n_genomes** - number of genomes from input file to use for training (=None to train on all genomes in file)\n",
    "* **OFFSET** - number of basepairs before and after sequence (default is 30 for tis feature)\n",
    "* **LMIN** - minimin length of ORFs (CDS or NCS) used for training (default is 60 bp ORFs - ref: Hoff et al.)"
   ]
  },
  {
   "cell_type": "code",
   "execution_count": 2,
   "id": "ad1c2cf2-b819-415a-a21f-7b339440d5bf",
   "metadata": {},
   "outputs": [
    {
     "name": "stdout",
     "output_type": "stream",
     "text": [
      "Successfully fetched NC_000917\n",
      "2478 CDS Records, 950 NCS Records\n",
      "\n",
      "Successfully fetched NC_005966\n",
      "3241 CDS Records, 1757 NCS Records\n",
      "\n",
      "Successfully fetched NC_003305\n",
      "1876 CDS Records, 892 NCS Records\n",
      "\n",
      "7595 Total CDS Records\n",
      "3599 Total NCS Records\n",
      "CPU times: user 1min 49s, sys: 469 ms, total: 1min 50s\n",
      "Wall time: 3min 32s\n"
     ]
    }
   ],
   "source": [
    "# preprocess genome into CDS and NCS\n",
    "filename = './input/train.txt'\n",
    "n_genomes = 3 # training on first 3 genomes in train.txt\n",
    "\n",
    "%time _cds, _ncs = preprocess.genome(filename=filename, n_genomes=n_genomes, OFFSET=30, LMIN=60)"
   ]
  },
  {
   "cell_type": "code",
   "execution_count": 3,
   "id": "3b9ba4fe-841b-4513-8de7-f3e6ed234afc",
   "metadata": {},
   "outputs": [
    {
     "name": "stdout",
     "output_type": "stream",
     "text": [
      "68.456 kB\n",
      "32.488 kB\n"
     ]
    }
   ],
   "source": [
    "print(f'{sys.getsizeof(_cds) / 1000} kB')\n",
    "print(f'{sys.getsizeof(_ncs) / 1000} kB')"
   ]
  },
  {
   "cell_type": "code",
   "execution_count": null,
   "id": "29f0f436-9e19-4288-974e-e25f9d69d188",
   "metadata": {},
   "outputs": [],
   "source": [
    "# TODO: batch preprocessing for large inputs of data\n",
    "# TODO: sample NCS from erlang distribution (see Sampling True NCS Dataset)\n",
    "# TODO: visualize CDS and NCS distributions"
   ]
  },
  {
   "cell_type": "markdown",
   "id": "84a0d750-c532-4596-b2fe-27f643746d18",
   "metadata": {},
   "source": [
    "## Shuffle and Split Data"
   ]
  },
  {
   "cell_type": "code",
   "execution_count": 4,
   "id": "6fa4e4de-185e-4455-9cb7-4a9b38d96f37",
   "metadata": {},
   "outputs": [
    {
     "name": "stdout",
     "output_type": "stream",
     "text": [
      "AF_RS00005\n",
      "AF_RS00010\n",
      "AF_RS00015\n"
     ]
    }
   ],
   "source": [
    "# merge CDS and NCS data\n",
    "_seq = _cds + _ncs\n",
    "\n",
    "# delete unused objects\n",
    "del _cds\n",
    "del _ncs\n",
    "\n",
    "# display first three records\n",
    "for record in _seq[0:3]:\n",
    "    print(record.name)"
   ]
  },
  {
   "cell_type": "code",
   "execution_count": 5,
   "id": "97543857-46df-4179-a838-af431940bef0",
   "metadata": {},
   "outputs": [
    {
     "name": "stdout",
     "output_type": "stream",
     "text": [
      "AF_RS04075\n",
      "AC_NC00478\n",
      "ACIAD_RS09065\n"
     ]
    }
   ],
   "source": [
    "# shuffle data\n",
    "random.seed(8) # set seed for reproducibility \n",
    "\n",
    "random.shuffle(_seq)\n",
    "\n",
    "# display first three records\n",
    "for record in _seq[0:3]:\n",
    "    print(record.name)"
   ]
  },
  {
   "cell_type": "code",
   "execution_count": 6,
   "id": "2b8371a1-6b93-42f4-af17-60e6c215b69e",
   "metadata": {},
   "outputs": [
    {
     "name": "stdout",
     "output_type": "stream",
     "text": [
      "LD Dataset: 5597\n",
      "NN Dataset: 5597\n"
     ]
    }
   ],
   "source": [
    "# split data\n",
    "m = int(len(_seq)/2)\n",
    "LD_Data = _seq[0:m]\n",
    "NN_Data = _seq[m:]\n",
    "\n",
    "print(f'LD Dataset: {len(LD_Data)}')\n",
    "print(f'NN Dataset: {len(NN_Data)}')"
   ]
  },
  {
   "cell_type": "markdown",
   "id": "e7f18181-4d58-4e36-98ef-f0bcf0330560",
   "metadata": {
    "jp-MarkdownHeadingCollapsed": true,
    "tags": []
   },
   "source": [
    "## Train Linear Discriminant Weight Vectors"
   ]
  },
  {
   "cell_type": "markdown",
   "id": "6c7f7a18-aab0-4cd8-859f-1b7767ca6714",
   "metadata": {
    "tags": []
   },
   "source": [
    "### Extract Features"
   ]
  },
  {
   "cell_type": "markdown",
   "id": "bbede81e-0dec-46fb-bffb-cc8b47b1b00c",
   "metadata": {},
   "source": [
    "The neural network won't be taking an entire ORF sequence as an input. Rather, we will first extract important features and train the neural network on those features. Important features include codon frequency (ex. ATGCCC... => 'ATG', 'CCC', ...) and translation initiation sites (TIS). For codon frequency we can extract monocodon usage (what are all the codons in the sequence) and dicodon usage (what are all the dicodons in the sequence; ex. ATGCCCTTT... => 'ATGCCC', 'CCCTTT', ...). TIS usually occur upstream of the start codon for a codon sequence (gene). So, for the tis feature, we will extract a frame that looks at 30 basepairs (bp) upstream and downstream of start codons (see heatmap below). TIS features are different for discriminant training vs NN training. For discriminant training, TIS features are from CDS only - a TIS frame starting at the true start codon is positive; a TIS frame starting at a start codon within the gene is negative. \n",
    "\n",
    "Return types for `extract.training_features`\n",
    "* **cod_feat** - codon features (monocodon, dicodon)\n",
    "* **cod_y** - labels for codon features\n",
    "* **tis_feat** - training tis features\n",
    "* **tis_y** - labels for training tis features"
   ]
  },
  {
   "cell_type": "code",
   "execution_count": 7,
   "id": "e37ceb00-ccea-460a-8244-dfb5a1e439aa",
   "metadata": {},
   "outputs": [
    {
     "name": "stdout",
     "output_type": "stream",
     "text": [
      "CPU times: user 30.7 s, sys: 4.25 s, total: 34.9 s\n",
      "Wall time: 35.1 s\n"
     ]
    }
   ],
   "source": [
    "# extract features: (tri, hex), yc, tis, yt\n",
    "%time cod_feat, cod_y, tis_feat, tis_y = extract.training_features(LD_Data, OFFSET=30)"
   ]
  },
  {
   "cell_type": "markdown",
   "id": "61041818-9ef8-4639-b488-891d1e83afed",
   "metadata": {
    "tags": []
   },
   "source": [
    "### Train Discriminants and TIS Gaussian"
   ]
  },
  {
   "cell_type": "markdown",
   "id": "71e92286-db59-4117-b1e4-d92a0b79d0bf",
   "metadata": {},
   "source": [
    "**Linear Discriminants**\n",
    "\n",
    "We need to minimize:\n",
    "\n",
    "$$ E(w_M) = \\frac{1}{n}\\sum_{i=0}^{n}(w_m \\cdot x_M^i - y_i)^2 + \\lambda w_M \\cdot w_M $$\n",
    "\n",
    "where $x_M^i \\in \\mathbb{R}^{64}$ is the $i-th$ column of the monocodon frequency matrix $\\textbf{X}_M$, $n=64$ monocodon possibilities, $y_M^i \\in (-1, 1)$ is the $i-th$ element of the label vector, and $w_M$ is the discriminant weight vector.\n",
    "\n",
    "We can minimize $E$ by:\n",
    "\n",
    "$$w_M = (X_MX_M^T +\\lambda n\\textbf{I})^{-1}X_My_M$$\n",
    "\n",
    "This can be generalized to train the discriminant vector $w$ for dicodon frequency and TIS. \n",
    "\n",
    "**TIS Gaussian**\n",
    "\n",
    "Ideally, input sequences into the prediction algorithm will contain all the information we need to determine if the sequence is a gene or not. However, next-generation sequencing (NGS) tools often produce fragments of DNA that vary in length from 100 bp to 700 bp. Therefore, the entire TIS region (30 bp upstream of the start codon to 30 bp downstream of the start codon) may not be present in the input sequence. \n",
    "\n",
    "To overcome this, a Gaussian distribution can be trained on the training genomes provided. Then, we can predict how likely a given fragment of a TIS window is from a gene or not. "
   ]
  },
  {
   "cell_type": "code",
   "execution_count": 8,
   "id": "1fb3ad9d-f941-4032-bbd6-e46c9a1eca3f",
   "metadata": {},
   "outputs": [
    {
     "name": "stdout",
     "output_type": "stream",
     "text": [
      "Weights Shape: wM (64,), wD (4096,), wT (3712,)\n",
      "Pos (pi, mu, sd): 0.0378, -0.0476, 0.6411\n",
      "Neg (pi, mu, sd): 0.9622, -0.9589, 0.1456\n"
     ]
    }
   ],
   "source": [
    "# train LD discriminant weights\n",
    "wM = train.discriminant(cod_feat[0], cod_y)\n",
    "wD = train.discriminant(cod_feat[1], cod_y)\n",
    "wT = train.discriminant(tis_feat,    tis_y)\n",
    "\n",
    "# train tis gaussian parameters\n",
    "# p: ((pi_pos, pi_neg), (mu_pos, mu_neg), (sd_pos, sd_neg))\n",
    "w = [wM, wD, wT]\n",
    "p = train.tis_gaussian(tis_feat, tis_y, wT)\n",
    "\n",
    "print(f'Weights Shape: wM {w[0].shape}, wD {w[1].shape}, wT {w[2].shape}')\n",
    "print(f'Pos (pi, mu, sd): {round(p[0][0],4)}, {round(p[1][0],4)}, {round(p[2][0],4)}')\n",
    "print(f'Neg (pi, mu, sd): {round(p[0][1],4)}, {round(p[1][1],4)}, {round(p[2][1],4)}')"
   ]
  },
  {
   "cell_type": "code",
   "execution_count": 9,
   "id": "3a95e8b7-444e-4294-b3e4-82d1cbcade64",
   "metadata": {},
   "outputs": [
    {
     "data": {
      "text/plain": [
       "<AxesSubplot:>"
      ]
     },
     "execution_count": 9,
     "metadata": {},
     "output_type": "execute_result"
    },
    {
     "data": {
      "image/png": "[encoded data removed]",
      "text/plain": [
       "<Figure size 842.4x595.44 with 2 Axes>"
      ]
     },
     "metadata": {
      "needs_background": "light"
     },
     "output_type": "display_data"
    }
   ],
   "source": [
    "# visualize wT\n",
    "from modules.utils import populate_codon_idx_dict\n",
    "\n",
    "tis_weights = np.array(w[2]).reshape(58,64).T\n",
    "\n",
    "y_axis_labels = populate_codon_idx_dict(nbases=3).keys()\n",
    "x_axis_labels = [i for i in range(-30,28)]\n",
    "\n",
    "df = pd.DataFrame(tis_weights, columns=x_axis_labels, index=y_axis_labels)\n",
    "\n",
    "a4_dims = (11.7, 8.27)\n",
    "fig, ax = plt.subplots(figsize=a4_dims)\n",
    "sns.heatmap(ax=ax, data=df, cmap=\"YlGnBu\")"
   ]
  },
  {
   "cell_type": "markdown",
   "id": "edb7af54-24e3-4111-b109-293307d47f3b",
   "metadata": {
    "tags": []
   },
   "source": [
    "## Train Binary Classification Neural Network"
   ]
  },
  {
   "cell_type": "code",
   "execution_count": 7,
   "id": "aa08e167-0a07-48a4-816e-7a2b700df171",
   "metadata": {},
   "outputs": [
    {
     "name": "stdout",
     "output_type": "stream",
     "text": [
      "Loaded parameters from disk.\n"
     ]
    }
   ],
   "source": [
    "# load parameters\n",
    "w, p = utils.load_param(\"./model/param_3g.csv\")"
   ]
  },
  {
   "cell_type": "code",
   "execution_count": 8,
   "id": "70a2fbf1-534e-43d2-a6d3-779ad9b25afe",
   "metadata": {},
   "outputs": [],
   "source": [
    "import tensorflow as tf\n",
    "from tensorflow.keras.models import Sequential\n",
    "from tensorflow.keras.layers import Dense\n",
    "from sklearn.model_selection import train_test_split\n",
    "\n",
    "# suppress tf warnings\n",
    "tf.compat.v1.logging.set_verbosity(tf.compat.v1.logging.ERROR)"
   ]
  },
  {
   "cell_type": "markdown",
   "id": "827f6e8f-7c5c-49ec-ae6c-56f8c369e015",
   "metadata": {},
   "source": [
    "Return types for `extract.features`\n",
    "* **features** - all features (monocodon, dicodon, tis)\n",
    "* **y** - labels for features"
   ]
  },
  {
   "cell_type": "code",
   "execution_count": 9,
   "id": "9e6f46aa-252f-47f4-8371-69f5236e3f1d",
   "metadata": {},
   "outputs": [
    {
     "name": "stdout",
     "output_type": "stream",
     "text": [
      "CPU times: user 16.3 s, sys: 391 ms, total: 16.7 s\n",
      "Wall time: 16.7 s\n"
     ]
    }
   ],
   "source": [
    "# extract NN features: (tri, hex, tis, gc), yc\n",
    "%time NN_features, NN_y = extract.features(NN_Data)"
   ]
  },
  {
   "cell_type": "markdown",
   "id": "ca8d8892-1cfa-4e47-9632-97aef6a15794",
   "metadata": {},
   "source": [
    "Return types for `extract.dimensional_reduction`\n",
    "* **nn_input** - (n,5) matrix of reduced features\n",
    "\n",
    "Features include:\n",
    "* x1 = reduced monocodon frequency\n",
    "* x2 = reduced dicodon frequency\n",
    "* x3 = positive tis score (gaussian probability)\n",
    "* x4 = negative tis score (gaussian probability)\n",
    "* x7 = gc content"
   ]
  },
  {
   "cell_type": "code",
   "execution_count": 10,
   "id": "5db75523-c69b-4eb3-ad6d-047b5f7a3279",
   "metadata": {},
   "outputs": [
    {
     "name": "stdout",
     "output_type": "stream",
     "text": [
      "CPU times: user 2.02 s, sys: 1.25 s, total: 3.27 s\n",
      "Wall time: 1.63 s\n"
     ]
    }
   ],
   "source": [
    "# dimensional reduction: \n",
    "# X: tri (x1), hex (x2), tis pos (x3), tis neg (x4), gc (x7)\n",
    "%time nn_input = extract.dimentional_reduction(NN_features, w, p)"
   ]
  },
  {
   "cell_type": "code",
   "execution_count": 11,
   "id": "d435d466-cc81-46da-8df6-acd9b3f313a9",
   "metadata": {},
   "outputs": [
    {
     "name": "stdout",
     "output_type": "stream",
     "text": [
      "(4477, 5) (4477,)\n",
      "(1120, 5) (1120,)\n"
     ]
    }
   ],
   "source": [
    "# shuffle and split data \n",
    "X_train, X_test, y_train, y_test = train_test_split(nn_input, np.array(NN_y), test_size=0.2, random_state=1)\n",
    "\n",
    "print(X_train.shape, y_train.shape)\n",
    "print(X_test.shape, y_test.shape)"
   ]
  },
  {
   "cell_type": "code",
   "execution_count": 12,
   "id": "cf845a7e-5300-4eb4-8ea8-9f6a2f25edf1",
   "metadata": {},
   "outputs": [
    {
     "name": "stderr",
     "output_type": "stream",
     "text": [
      "2021-09-19 06:40:37.132975: I tensorflow/compiler/jit/xla_cpu_device.cc:41] Not creating XLA devices, tf_xla_enable_xla_devices not set\n",
      "2021-09-19 06:40:37.133663: I tensorflow/core/platform/cpu_feature_guard.cc:142] This TensorFlow binary is optimized with oneAPI Deep Neural Network Library (oneDNN) to use the following CPU instructions in performance-critical operations:  SSE4.1 SSE4.2 AVX AVX2 FMA\n",
      "To enable them in other operations, rebuild TensorFlow with the appropriate compiler flags.\n",
      "2021-09-19 06:40:37.135733: I tensorflow/core/common_runtime/process_util.cc:146] Creating new thread pool with default inter op setting: 2. Tune using inter_op_parallelism_threads for best performance.\n"
     ]
    }
   ],
   "source": [
    "# create model\n",
    "model = Sequential()\n",
    "model.add(Dense(25, input_dim=5, activation='relu'))\n",
    "model.add(Dense(1, activation='sigmoid'))"
   ]
  },
  {
   "cell_type": "code",
   "execution_count": 13,
   "id": "bfdfd419-aec3-424b-915f-18dfb66d7c7d",
   "metadata": {},
   "outputs": [
    {
     "name": "stdout",
     "output_type": "stream",
     "text": [
      "Model: \"sequential\"\n",
      "_________________________________________________________________\n",
      "Layer (type)                 Output Shape              Param #   \n",
      "=================================================================\n",
      "dense (Dense)                (None, 25)                150       \n",
      "_________________________________________________________________\n",
      "dense_1 (Dense)              (None, 1)                 26        \n",
      "=================================================================\n",
      "Total params: 176\n",
      "Trainable params: 176\n",
      "Non-trainable params: 0\n",
      "_________________________________________________________________\n"
     ]
    }
   ],
   "source": [
    "model.summary()"
   ]
  },
  {
   "cell_type": "code",
   "execution_count": 14,
   "id": "06c0c85f-4b2c-4960-9e9e-ebb52b8dc078",
   "metadata": {},
   "outputs": [
    {
     "name": "stdout",
     "output_type": "stream",
     "text": [
      "Epoch 1/50\n"
     ]
    },
    {
     "name": "stderr",
     "output_type": "stream",
     "text": [
      "2021-09-19 06:40:37.247061: I tensorflow/compiler/mlir/mlir_graph_optimization_pass.cc:116] None of the MLIR optimization passes are enabled (registered 2)\n",
      "2021-09-19 06:40:37.248165: I tensorflow/core/platform/profile_utils/cpu_utils.cc:112] CPU Frequency: 2592000000 Hz\n"
     ]
    },
    {
     "name": "stdout",
     "output_type": "stream",
     "text": [
      "70/70 [==============================] - 1s 2ms/step - loss: 0.6538 - accuracy: 0.5938\n",
      "Epoch 2/50\n",
      "70/70 [==============================] - 0s 1ms/step - loss: 0.4576 - accuracy: 0.8383\n",
      "Epoch 3/50\n",
      "70/70 [==============================] - 0s 2ms/step - loss: 0.3536 - accuracy: 0.8886\n",
      "Epoch 4/50\n",
      "70/70 [==============================] - 0s 1ms/step - loss: 0.2840 - accuracy: 0.9068\n",
      "Epoch 5/50\n",
      "70/70 [==============================] - 0s 1ms/step - loss: 0.2433 - accuracy: 0.9125\n",
      "Epoch 6/50\n",
      "70/70 [==============================] - 0s 1ms/step - loss: 0.2285 - accuracy: 0.9103\n",
      "Epoch 7/50\n",
      "70/70 [==============================] - 0s 1ms/step - loss: 0.2222 - accuracy: 0.9112\n",
      "Epoch 8/50\n",
      "70/70 [==============================] - 0s 2ms/step - loss: 0.2074 - accuracy: 0.9165\n",
      "Epoch 9/50\n",
      "70/70 [==============================] - 0s 1ms/step - loss: 0.2028 - accuracy: 0.9194\n",
      "Epoch 10/50\n",
      "70/70 [==============================] - 0s 2ms/step - loss: 0.1973 - accuracy: 0.9183\n",
      "Epoch 11/50\n",
      "70/70 [==============================] - 0s 1ms/step - loss: 0.2066 - accuracy: 0.9181\n",
      "Epoch 12/50\n",
      "70/70 [==============================] - 0s 1ms/step - loss: 0.2058 - accuracy: 0.9161\n",
      "Epoch 13/50\n",
      "70/70 [==============================] - 0s 1ms/step - loss: 0.2098 - accuracy: 0.9148\n",
      "Epoch 14/50\n",
      "70/70 [==============================] - 0s 1ms/step - loss: 0.1910 - accuracy: 0.9219\n",
      "Epoch 15/50\n",
      "70/70 [==============================] - 0s 2ms/step - loss: 0.2073 - accuracy: 0.9127\n",
      "Epoch 16/50\n",
      "70/70 [==============================] - 0s 1ms/step - loss: 0.1913 - accuracy: 0.9163\n",
      "Epoch 17/50\n",
      "70/70 [==============================] - 0s 1ms/step - loss: 0.1901 - accuracy: 0.9219\n",
      "Epoch 18/50\n",
      "70/70 [==============================] - 0s 1ms/step - loss: 0.2067 - accuracy: 0.9159\n",
      "Epoch 19/50\n",
      "70/70 [==============================] - 0s 2ms/step - loss: 0.1857 - accuracy: 0.9242\n",
      "Epoch 20/50\n",
      "70/70 [==============================] - 0s 2ms/step - loss: 0.2048 - accuracy: 0.9132\n",
      "Epoch 21/50\n",
      "70/70 [==============================] - 0s 2ms/step - loss: 0.2029 - accuracy: 0.9129\n",
      "Epoch 22/50\n",
      "70/70 [==============================] - 0s 1ms/step - loss: 0.1919 - accuracy: 0.9181\n",
      "Epoch 23/50\n",
      "70/70 [==============================] - 0s 1ms/step - loss: 0.1934 - accuracy: 0.9167\n",
      "Epoch 24/50\n",
      "70/70 [==============================] - 0s 1ms/step - loss: 0.1945 - accuracy: 0.9173\n",
      "Epoch 25/50\n",
      "70/70 [==============================] - 0s 1ms/step - loss: 0.1925 - accuracy: 0.9201\n",
      "Epoch 26/50\n",
      "70/70 [==============================] - 0s 1ms/step - loss: 0.1826 - accuracy: 0.9265\n",
      "Epoch 27/50\n",
      "70/70 [==============================] - 0s 1ms/step - loss: 0.2097 - accuracy: 0.9104\n",
      "Epoch 28/50\n",
      "70/70 [==============================] - 0s 1ms/step - loss: 0.1893 - accuracy: 0.9231\n",
      "Epoch 29/50\n",
      "70/70 [==============================] - 0s 1ms/step - loss: 0.2024 - accuracy: 0.9173\n",
      "Epoch 30/50\n",
      "70/70 [==============================] - 0s 1ms/step - loss: 0.1861 - accuracy: 0.9218\n",
      "Epoch 31/50\n",
      "70/70 [==============================] - 0s 2ms/step - loss: 0.1972 - accuracy: 0.9210\n",
      "Epoch 32/50\n",
      "70/70 [==============================] - 0s 1ms/step - loss: 0.1817 - accuracy: 0.9247\n",
      "Epoch 33/50\n",
      "70/70 [==============================] - 0s 2ms/step - loss: 0.1943 - accuracy: 0.9207\n",
      "Epoch 34/50\n",
      "70/70 [==============================] - 0s 1ms/step - loss: 0.1982 - accuracy: 0.9187\n",
      "Epoch 35/50\n",
      "70/70 [==============================] - 0s 1ms/step - loss: 0.1905 - accuracy: 0.9205\n",
      "Epoch 36/50\n",
      "70/70 [==============================] - 0s 1ms/step - loss: 0.1890 - accuracy: 0.9231\n",
      "Epoch 37/50\n",
      "70/70 [==============================] - 0s 2ms/step - loss: 0.1947 - accuracy: 0.9141\n",
      "Epoch 38/50\n",
      "70/70 [==============================] - 0s 1ms/step - loss: 0.1995 - accuracy: 0.9180\n",
      "Epoch 39/50\n",
      "70/70 [==============================] - 0s 1ms/step - loss: 0.1803 - accuracy: 0.9283\n",
      "Epoch 40/50\n",
      "70/70 [==============================] - 0s 1ms/step - loss: 0.1894 - accuracy: 0.9209\n",
      "Epoch 41/50\n",
      "70/70 [==============================] - 0s 2ms/step - loss: 0.1963 - accuracy: 0.9221\n",
      "Epoch 42/50\n",
      "70/70 [==============================] - 0s 2ms/step - loss: 0.1956 - accuracy: 0.9213\n",
      "Epoch 43/50\n",
      "70/70 [==============================] - 0s 1ms/step - loss: 0.1872 - accuracy: 0.9234\n",
      "Epoch 44/50\n",
      "70/70 [==============================] - 0s 1ms/step - loss: 0.1804 - accuracy: 0.9270\n",
      "Epoch 45/50\n",
      "70/70 [==============================] - 0s 2ms/step - loss: 0.1891 - accuracy: 0.9233\n",
      "Epoch 46/50\n",
      "70/70 [==============================] - 0s 1ms/step - loss: 0.1888 - accuracy: 0.9209\n",
      "Epoch 47/50\n",
      "70/70 [==============================] - 0s 2ms/step - loss: 0.1889 - accuracy: 0.9218\n",
      "Epoch 48/50\n",
      "70/70 [==============================] - 0s 2ms/step - loss: 0.2038 - accuracy: 0.9145\n",
      "Epoch 49/50\n",
      "70/70 [==============================] - 0s 1ms/step - loss: 0.1858 - accuracy: 0.9232\n",
      "Epoch 50/50\n",
      "70/70 [==============================] - 0s 1ms/step - loss: 0.1967 - accuracy: 0.9170\n"
     ]
    },
    {
     "data": {
      "text/plain": [
       "<tensorflow.python.keras.callbacks.History at 0x7f04298b6640>"
      ]
     },
     "execution_count": 14,
     "metadata": {},
     "output_type": "execute_result"
    }
   ],
   "source": [
    "# compile model\n",
    "model.compile(loss='binary_crossentropy', optimizer='adam', metrics=['accuracy'])\n",
    "\n",
    "# train model\n",
    "model.fit(X_train, y_train, epochs=50, batch_size=64, verbose=1)"
   ]
  },
  {
   "cell_type": "code",
   "execution_count": 15,
   "id": "482a732a-0cda-4b21-b396-526893ced29d",
   "metadata": {},
   "outputs": [
    {
     "name": "stdout",
     "output_type": "stream",
     "text": [
      "accuracy: 92.50%\n"
     ]
    }
   ],
   "source": [
    "# evaluate model\n",
    "score = model.evaluate(X_test, y_test, verbose=0)\n",
    "print(\"%s: %.2f%%\" % (model.metrics_names[1], score[1]*100))"
   ]
  },
  {
   "cell_type": "markdown",
   "id": "e412a33a-9aca-41fe-a49c-409e919c955b",
   "metadata": {},
   "source": [
    "### Confusion Matrix"
   ]
  },
  {
   "cell_type": "code",
   "execution_count": 50,
   "id": "17c56db7-1c4e-4153-aa28-dd03059da254",
   "metadata": {},
   "outputs": [],
   "source": [
    "# Confusion matrix\n",
    "from sklearn import metrics\n",
    "\n",
    "# make predictions\n",
    "predictions = model.predict(X_test)\n",
    "\n",
    "# convert predictions to 1 or 0\n",
    "y_pred = [1 if val >= 0.5 else 0 for val in predictions]\n",
    "\n",
    "# create confusion matrix\n",
    "cm = metrics.confusion_matrix(y_true=y_test, y_pred=y_pred)"
   ]
  },
  {
   "cell_type": "code",
   "execution_count": 54,
   "id": "cceccfd5-d851-4b71-b060-4a05918a33bc",
   "metadata": {},
   "outputs": [],
   "source": [
    "import itertools\n",
    "def plot_confusion_matrix(cm, classes,\n",
    "                        normalize=False,\n",
    "                        title='Confusion matrix',\n",
    "                        cmap=plt.cm.Blues):\n",
    "    \"\"\"\n",
    "    This function prints and plots the confusion matrix.\n",
    "    Normalization can be applied by setting `normalize=True`.\n",
    "    \"\"\"\n",
    "    plt.imshow(cm, interpolation='nearest', cmap=cmap)\n",
    "    plt.title(title)\n",
    "    plt.colorbar()\n",
    "    tick_marks = np.arange(len(classes))\n",
    "    plt.xticks(tick_marks, classes, rotation=45)\n",
    "    plt.yticks(tick_marks, classes)\n",
    "\n",
    "    if normalize:\n",
    "        cm = cm.astype('float') / cm.sum(axis=1)[:, np.newaxis]\n",
    "        print(\"Normalized confusion matrix\")\n",
    "    else:\n",
    "        print('Confusion matrix, without normalization')\n",
    "\n",
    "    print(cm)\n",
    "\n",
    "    thresh = cm.max() / 2.\n",
    "    for i, j in itertools.product(range(cm.shape[0]), range(cm.shape[1])):\n",
    "        plt.text(j, i, cm[i, j],\n",
    "            horizontalalignment=\"center\",\n",
    "            color=\"white\" if cm[i, j] > thresh else \"black\")\n",
    "\n",
    "    plt.tight_layout()\n",
    "    plt.ylabel('True label')\n",
    "    plt.xlabel('Predicted label')"
   ]
  },
  {
   "cell_type": "code",
   "execution_count": 56,
   "id": "5820e0fa-c750-4294-a697-4683ee1a2e90",
   "metadata": {},
   "outputs": [
    {
     "name": "stdout",
     "output_type": "stream",
     "text": [
      "Confusion matrix, without normalization\n",
      "[[307  59]\n",
      " [ 25 729]]\n"
     ]
    },
    {
     "data": {
      "image/png": "[encoded data removed]",
      "text/plain": [
       "<Figure size 432x288 with 2 Axes>"
      ]
     },
     "metadata": {
      "needs_background": "light"
     },
     "output_type": "display_data"
    }
   ],
   "source": [
    "# plot confusion matrix\n",
    "plot_confusion_matrix(cm, ['ncs','cds'], normalize=False)"
   ]
  },
  {
   "cell_type": "markdown",
   "id": "9a5d0ba4-4681-4379-b7a7-82f234f5594b",
   "metadata": {
    "tags": []
   },
   "source": [
    "## Save"
   ]
  },
  {
   "cell_type": "code",
   "execution_count": 22,
   "id": "853641a0-a3e2-43b6-8edd-95a7d2d225d7",
   "metadata": {},
   "outputs": [
    {
     "name": "stdout",
     "output_type": "stream",
     "text": [
      "Saved model to disk.\n"
     ]
    }
   ],
   "source": [
    "# save NN model to JSON/H5 files\n",
    "utils.save_model2json(\"./model/model_3g\", model)"
   ]
  },
  {
   "cell_type": "code",
   "execution_count": null,
   "id": "25b3dda1-f1b2-4bd1-899a-ba5587c3ccdb",
   "metadata": {},
   "outputs": [],
   "source": [
    "# save discriminant weights + gaus params to csv\n",
    "data = []\n",
    "for l in w: data.append(l.tolist())\n",
    "for l in p: data.append(list(l))\n",
    "utils.save2csv(\"./model/param_3g.csv\", data)"
   ]
  },
  {
   "cell_type": "markdown",
   "id": "ac61a79c-c4a8-4e1e-8fed-f6740b02cf36",
   "metadata": {
    "tags": []
   },
   "source": [
    "# Predict Sequences (FASTA)"
   ]
  },
  {
   "cell_type": "markdown",
   "id": "7c669c70-cc25-4254-8116-d706e0224598",
   "metadata": {},
   "source": [
    "## Examples of Prediction Module"
   ]
  },
  {
   "cell_type": "markdown",
   "id": "21daf9ee-649d-4b9d-91cd-0d8dc33de99f",
   "metadata": {},
   "source": [
    "### Predictions from Genome Sequence"
   ]
  },
  {
   "cell_type": "code",
   "execution_count": null,
   "id": "d0c2ada9-4974-4341-aeca-96c689fb93a8",
   "metadata": {},
   "outputs": [],
   "source": [
    "gb_file = './input/train.txt'           # txt file of genbank accession\n",
    "n_genomes = 1                           # number of genomes\n",
    "seq = 'cds'                             # only getting CDS sequences \n",
    "outfile = './results/gb_pred_test.fna'  # location of prediction results\n",
    "\n",
    "params = './model/param_3g.csv'       # saved csv of parameter values (w, p)\n",
    "model = './model/model_3g'            # saved json/h5 of NN model"
   ]
  },
  {
   "cell_type": "code",
   "execution_count": 2,
   "id": "94e16e00-bf11-4ddc-b213-f1623ca803ee",
   "metadata": {},
   "outputs": [
    {
     "name": "stdout",
     "output_type": "stream",
     "text": [
      "Successfully fetched NC_000917\n",
      "2478 CDS Records\n",
      "\n",
      "2478 Total CDS Records\n",
      "0 Total NCS Records\n",
      "Saved genome fragments to ./input/tmp.fna.\n",
      "Loaded parameters from disk.\n"
     ]
    },
    {
     "name": "stderr",
     "output_type": "stream",
     "text": [
      "2021-09-14 03:48:29.047860: I tensorflow/compiler/jit/xla_cpu_device.cc:41] Not creating XLA devices, tf_xla_enable_xla_devices not set\n",
      "2021-09-14 03:48:29.048994: I tensorflow/core/platform/cpu_feature_guard.cc:142] This TensorFlow binary is optimized with oneAPI Deep Neural Network Library (oneDNN) to use the following CPU instructions in performance-critical operations:  SSE4.1 SSE4.2 AVX AVX2 FMA\n",
      "To enable them in other operations, rebuild TensorFlow with the appropriate compiler flags.\n",
      "2021-09-14 03:48:29.052787: I tensorflow/core/common_runtime/process_util.cc:146] Creating new thread pool with default inter op setting: 2. Tune using inter_op_parallelism_threads for best performance.\n",
      "2021-09-14 03:48:29.195518: I tensorflow/compiler/mlir/mlir_graph_optimization_pass.cc:116] None of the MLIR optimization passes are enabled (registered 2)\n",
      "2021-09-14 03:48:29.197702: I tensorflow/core/platform/profile_utils/cpu_utils.cc:112] CPU Frequency: 2592000000 Hz\n"
     ]
    },
    {
     "name": "stdout",
     "output_type": "stream",
     "text": [
      "Loaded model from disk.\n",
      "Saved genome fragments to ./results/gb_pred_test.fna.\n",
      "CPU times: user 1min 2s, sys: 3.16 s, total: 1min 5s\n",
      "Wall time: 1min 23s\n"
     ]
    }
   ],
   "source": [
    "%time pg = predict.from_genome(gb_file, params, model, outfile, n_genomes=n_genomes, seq=seq, OFFSET=30, noise=False, LMIN=60)"
   ]
  },
  {
   "cell_type": "markdown",
   "id": "cce8573b-4eba-45c5-9839-7bb0b1289c7b",
   "metadata": {},
   "source": [
    "Should expect all the predictions to be close to 1. So the sum should be 2478."
   ]
  },
  {
   "cell_type": "code",
   "execution_count": 5,
   "id": "454d1c7e-37e4-4db4-a80a-fcb126fc2938",
   "metadata": {},
   "outputs": [
    {
     "data": {
      "text/plain": [
       "array([2037.3651], dtype=float32)"
      ]
     },
     "execution_count": 5,
     "metadata": {},
     "output_type": "execute_result"
    }
   ],
   "source": [
    "sum(pg)"
   ]
  },
  {
   "cell_type": "code",
   "execution_count": null,
   "id": "4ee450d0-ecc8-419a-b0cf-2f19177e68ff",
   "metadata": {},
   "outputs": [],
   "source": [
    "# TODO: explore CDS that weren't predicted as genes"
   ]
  },
  {
   "cell_type": "markdown",
   "id": "5d737ef7-3649-4ddb-bdc9-2c97f538ae66",
   "metadata": {},
   "source": [
    "### Predictions from FASTA Input File"
   ]
  },
  {
   "cell_type": "code",
   "execution_count": 12,
   "id": "6528ddd3-754e-419e-90c2-8d4b266873c6",
   "metadata": {},
   "outputs": [],
   "source": [
    "gb_file = './input/train.txt'             # txt file of genbank accession\n",
    "fasta_file = './input/input_test.fna'     # input fasta file\n",
    "outfile = './results/fasta_pred_test.fna' # location of prediction results\n",
    "\n",
    "params = './model/param_3g.csv'       # saved csv of parameter values (w, p)\n",
    "model = './model/model_3g'            # saved json/h5 of NN model"
   ]
  },
  {
   "cell_type": "code",
   "execution_count": 9,
   "id": "1fff2882-09a0-4db1-97b7-8fd597633536",
   "metadata": {},
   "outputs": [
    {
     "name": "stdout",
     "output_type": "stream",
     "text": [
      "Successfully fetched NC_000917\n",
      "2478 CDS Records, 950 NCS Records\n",
      "\n",
      "2478 Total CDS Records\n",
      "950 Total NCS Records\n",
      "Saved genome fragments to ./input/input_test.fna.\n"
     ]
    }
   ],
   "source": [
    "# create example fasta file\n",
    "\n",
    "# get 'all' (cds, ncs) from first genome of train.txt\n",
    "_cds, _ncs = preprocess.genome(gb_file, n_genomes=1, seq='all', OFFSET=30, noise=False, LMIN=60)\n",
    "\n",
    "# get first 5 sequences of cds and ncs records\n",
    "test_seqs = _cds[0:5] + _ncs[0:5]\n",
    "\n",
    "# save to fasta file\n",
    "predict.seqrecord2fasta(filename=fasta_file, seq_records=test_seqs)"
   ]
  },
  {
   "cell_type": "code",
   "execution_count": 13,
   "id": "b8b46675-e28c-4dd8-848b-62c9cc91c866",
   "metadata": {},
   "outputs": [
    {
     "name": "stdout",
     "output_type": "stream",
     "text": [
      "Loaded parameters from disk.\n",
      "Loaded model from disk.\n"
     ]
    },
    {
     "name": "stderr",
     "output_type": "stream",
     "text": [
      "2021-09-14 03:58:02.347476: I tensorflow/compiler/jit/xla_cpu_device.cc:41] Not creating XLA devices, tf_xla_enable_xla_devices not set\n",
      "2021-09-14 03:58:02.348261: I tensorflow/core/platform/cpu_feature_guard.cc:142] This TensorFlow binary is optimized with oneAPI Deep Neural Network Library (oneDNN) to use the following CPU instructions in performance-critical operations:  SSE4.1 SSE4.2 AVX AVX2 FMA\n",
      "To enable them in other operations, rebuild TensorFlow with the appropriate compiler flags.\n",
      "2021-09-14 03:58:02.350630: I tensorflow/core/common_runtime/process_util.cc:146] Creating new thread pool with default inter op setting: 2. Tune using inter_op_parallelism_threads for best performance.\n",
      "2021-09-14 03:58:02.439579: I tensorflow/compiler/mlir/mlir_graph_optimization_pass.cc:116] None of the MLIR optimization passes are enabled (registered 2)\n",
      "2021-09-14 03:58:02.440750: I tensorflow/core/platform/profile_utils/cpu_utils.cc:112] CPU Frequency: 2592000000 Hz\n"
     ]
    },
    {
     "name": "stdout",
     "output_type": "stream",
     "text": [
      "Saved genome fragments to ./results/fasta_pred_test.fna.\n"
     ]
    }
   ],
   "source": [
    "pf = predict.from_fasta(fasta_file, params, model, outfile)"
   ]
  },
  {
   "cell_type": "markdown",
   "id": "a5192f03-6d68-4958-ace7-51e157b930f6",
   "metadata": {},
   "source": [
    "First 5 should be 1's, last 5 should be 0's"
   ]
  },
  {
   "cell_type": "code",
   "execution_count": 14,
   "id": "6c96c1a3-dc1f-4a9a-80a0-bbb68bfb15d7",
   "metadata": {},
   "outputs": [
    {
     "data": {
      "text/plain": [
       "array([[1.],\n",
       "       [1.],\n",
       "       [1.],\n",
       "       [1.],\n",
       "       [1.],\n",
       "       [0.],\n",
       "       [0.],\n",
       "       [0.],\n",
       "       [0.],\n",
       "       [0.]], dtype=float32)"
      ]
     },
     "execution_count": 14,
     "metadata": {},
     "output_type": "execute_result"
    }
   ],
   "source": [
    "pf"
   ]
  }
 ],
 "metadata": {
  "kernelspec": {
   "display_name": "Python 3 (ipykernel)",
   "language": "python",
   "name": "python3"
  },
  "language_info": {
   "codemirror_mode": {
    "name": "ipython",
    "version": 3
   },
   "file_extension": ".py",
   "mimetype": "text/x-python",
   "name": "python",
   "nbconvert_exporter": "python",
   "pygments_lexer": "ipython3",
   "version": "3.8.11"
  }
 },
 "nbformat": 4,
 "nbformat_minor": 5
}
