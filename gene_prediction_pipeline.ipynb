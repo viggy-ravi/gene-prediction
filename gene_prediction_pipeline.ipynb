{
 "cells": [
  {
   "cell_type": "markdown",
   "id": "8fb5f467-9654-40a8-a27a-8e4de5b464a1",
   "metadata": {},
   "source": [
    "# Gene Prediction Pipeline"
   ]
  },
  {
   "cell_type": "markdown",
   "id": "e9b627ce-841e-46ee-9033-a59e90510ee0",
   "metadata": {},
   "source": [
    "## Introduction\n",
    "\n",
    "This project was based on the 2008 paper ['Gene prediction in metagenomic fragments: A large scale machine learning approach'](https://bmcbioinformatics.biomedcentral.com/articles/10.1186/1471-2105-9-217) by Hoff et at. The goal of this notebook is to train the gene prediction algorithm using a 2-stage approach - linear discriminant and neural network. The linear discriminant model reduces high dimensional features and the neural network predicts if a given sequence is a gene or not. My intentions for starting this project were to gain a deeper understanding of machine learning approaches behind the `Orphelia gene prediction algorithm` and sharpen my programming skills. \n",
    "\n",
    "Useful notebooks/files:\n",
    "* `Sampling True NCS Dataset.ipynb` to see how NCS are sampled,\n",
    "* `./modules` folder to see documentation on all methods,\n",
    "* `./examples` folder for example code."
   ]
  },
  {
   "cell_type": "markdown",
   "id": "af2af0bc-40e0-4273-8bc8-de902574e8a5",
   "metadata": {},
   "source": [
    "## Google Colab Setup\n",
    "\n",
    "First clone the `gene-prediction` repository to Google Colab (see setup in `README.md`). Then install dependencies (see code below)."
   ]
  },
  {
   "cell_type": "code",
   "execution_count": null,
   "id": "f1efc264-e80d-412a-ae76-c7701c9c4ea0",
   "metadata": {},
   "outputs": [],
   "source": [
    "# # Mount Google Drive\n",
    "# from google.colab import drive\n",
    "# drive.mount('/content/gdrive')\n",
    "# %cd gdrive/My Drive/\n",
    "\n",
    "# # Clone github repo\n",
    "# !git clone https://github.com/viggy-ravi/gene-prediction.git\n",
    "\n",
    "# # Change to project directory\n",
    "# %cd gdrive/My Drive/gene-prediction\n",
    "\n",
    "# # Install dependencies\n",
    "# !pip install -r requirements.txt\n",
    "\n",
    "# # Install biopython library manually\n",
    "# !pip3 install biopython\n",
    "\n",
    "# # Pull latest code\n",
    "# !git pull"
   ]
  },
  {
   "cell_type": "markdown",
   "id": "62aba4cd-c9a5-4982-b948-c02c35c6760d",
   "metadata": {},
   "source": [
    "# Training Binary Classification Model"
   ]
  },
  {
   "cell_type": "code",
   "execution_count": 1,
   "id": "6d935160-409f-4fb7-a73b-0091632f1d92",
   "metadata": {},
   "outputs": [],
   "source": [
    "# will inform your notebook to actively reload all imported modules and packages as they are modified\n",
    "%reload_ext autoreload\n",
    "%autoreload 2\n",
    "from modules.preprocess import preprocess_genome, split_training_records, plot_data_distributions\n",
    "from modules.extract import extract_ld_training_features, extract_nn_training_features\n",
    "from modules.train import discriminant, tis_gaussian\n",
    "from modules.predict import dimensional_reduction\n",
    "from modules.utils import plot_confusion_matrix, load_params, save_model2json, save_params2csv\n",
    "\n",
    "import os\n",
    "import tensorflow as tf\n",
    "from tensorflow.keras.models import Sequential\n",
    "from tensorflow.keras.layers import Dense\n",
    "from sklearn.model_selection import train_test_split\n",
    "from sklearn import metrics\n",
    "# suppress tf messages/warnings\n",
    "os.environ['TF_CPP_MIN_LOG_LEVEL'] = '3'\n",
    "tf.compat.v1.logging.set_verbosity(tf.compat.v1.logging.ERROR)"
   ]
  },
  {
   "cell_type": "markdown",
   "id": "b067f3de-fdca-439c-a2f1-7e52c7188094",
   "metadata": {
    "tags": []
   },
   "source": [
    "## Preprocess Genome\n",
    "\n",
    "Preprocessing a genome consists of finding all valid open reading frames (ORFs). ORFs start with a start codon (ATG, CTG, GTG, or TGT) and end with an in-frame stop codon (TAG, TGA, or TAA). To train our neural network, we need to find positive ORFs - sequencies that code for a protein (i.e. genes) -  and negative ORFs - sequencies in the genome that start with a start codon and end with an in-frame stop codon, but don't code for a protein. The negative ORFs can be found in the intergenic regions (interregions) of a genome or spaces between genes. For this project, positive ORFs will be referred to as CDS or **C**o**D**ing **S**equences, and negative ORFs will be referred to as NCS or **N**on **C**oding **S**equences."
   ]
  },
  {
   "cell_type": "markdown",
   "id": "be8d0b81-494c-41cf-89ea-c813939d6206",
   "metadata": {},
   "source": [
    "Input arguments for `preprocess.genome`\n",
    "* **filename** - `txt` file containing list of accession numbers (gb genomes) (see `./input` folder for examples)\n",
    "* **n_genomes** - number of genomes from input file to use for training (`=None` to train on all genomes in file)\n",
    "* **seq** - `all` (default), `cds`, or `ncs` to extract either all orfs from genome, only cds, or only ncs respectively\n",
    "* **e** - parameter [0,1] to limit length of NCS (default `=0.005`). Larger value allows fewer NCS\n",
    "* **tol** - parameter [0,1] for stochastic sampling of NCS (default `=0.2` - lets in 80% NCS data). Larger value allows fewer NCS\n",
    "* **OFFSET** - number of basepairs before and after sequence (default is `30` for tis feature)\n",
    "* **LMIN** - minimin length of ORFs (CDS or NCS) used for training (default is `60` bp ORFs - ref: Hoff et al.)\n",
    "* **random_state** - random seed (default `=None`)"
   ]
  },
  {
   "cell_type": "code",
   "execution_count": 2,
   "id": "71c004d5-2276-441f-a223-c49c0f17ac24",
   "metadata": {
    "tags": []
   },
   "outputs": [
    {
     "name": "stdout",
     "output_type": "stream",
     "text": [
      "Successfully fetched NC_000917\n",
      "\t2478 CDS Records\n",
      "\n",
      "\t5114 NCS Records\n",
      "\n",
      "2478 Total CDS Records\n",
      "5114 Total NCS Records\n",
      "CPU times: user 1min 5s, sys: 516 ms, total: 1min 6s\n",
      "Wall time: 1min 25s\n"
     ]
    }
   ],
   "source": [
    "infile = './input/train.txt'\n",
    "SEED   = 8    # set to number (for reproducibility) or None\n",
    "\n",
    "%time CDS, NCS = preprocess_genome(filename = infile, \\\n",
    "                                   n_genomes = 1, \\\n",
    "                                   e = 0.05, \\\n",
    "                                   tol = 0.9, \\\n",
    "                                   random_state=SEED, \\\n",
    "                                   email = 'vignesh.ravindranath@gmail.com')"
   ]
  },
  {
   "cell_type": "code",
   "execution_count": 3,
   "id": "4ab0c8ab-4258-4063-9622-6c12be27f417",
   "metadata": {},
   "outputs": [
    {
     "name": "stdout",
     "output_type": "stream",
     "text": [
      "22.4 kB\n",
      "46.128 kB\n"
     ]
    }
   ],
   "source": [
    "import sys\n",
    "print(f'{sys.getsizeof(CDS) / 1000} kB')\n",
    "print(f'{sys.getsizeof(NCS) / 1000} kB')"
   ]
  },
  {
   "cell_type": "markdown",
   "id": "9ca3d880-3bfd-4a7b-80a3-5a41a7c98f5d",
   "metadata": {},
   "source": [
    "### Plot Distribution of Data"
   ]
  },
  {
   "cell_type": "code",
   "execution_count": 4,
   "id": "9e820d7e-c6eb-46cd-bf0f-f0ecd44b3cb2",
   "metadata": {},
   "outputs": [
    {
     "data": {
      "image/png": "[encoded data removed]",
      "text/plain": [
       "<Figure size 432x288 with 1 Axes>"
      ]
     },
     "metadata": {
      "needs_background": "light"
     },
     "output_type": "display_data"
    }
   ],
   "source": [
    "plot_data_distributions(CDS, NCS, x='length')"
   ]
  },
  {
   "cell_type": "code",
   "execution_count": 5,
   "id": "1a6d5bec-4ee7-48f7-a086-9e7fe56c60ce",
   "metadata": {},
   "outputs": [
    {
     "data": {
      "image/png": "[encoded data removed]",
      "text/plain": [
       "<Figure size 432x288 with 1 Axes>"
      ]
     },
     "metadata": {
      "needs_background": "light"
     },
     "output_type": "display_data"
    }
   ],
   "source": [
    "plot_data_distributions(CDS, NCS, x='log_length')"
   ]
  },
  {
   "cell_type": "code",
   "execution_count": 6,
   "id": "6751a55b-af6f-423f-b8a3-86d8beaf4392",
   "metadata": {},
   "outputs": [
    {
     "data": {
      "image/png": "[encoded data removed]",
      "text/plain": [
       "<Figure size 432x288 with 1 Axes>"
      ]
     },
     "metadata": {
      "needs_background": "light"
     },
     "output_type": "display_data"
    }
   ],
   "source": [
    "plot_data_distributions(CDS, NCS, x='gc')"
   ]
  },
  {
   "cell_type": "markdown",
   "id": "94d5eaac-b059-45b3-871b-2bccc01a357f",
   "metadata": {},
   "source": [
    "### SeqRecord Structure\n",
    "\n",
    "The CDS and NCS data are lists of Biopython **SeqRecord** that contain information about each sequence, such as `ID`, `Name`, `Description`, `Number of features`, and `Seq`.\n",
    "\n",
    "* `ID` is the GenBank accession number for the prokaryotic genome the sequence was extracted from. \n",
    "* `Name` is a auto-generated identifier that the program creates for each sequence. \n",
    "* `Description` is blank. \n",
    "* `Number of features` includes another Biopython data structure called **SeqFeature** that contains information about the type (CDS or NCS), start location on the genome, the stop location on the genome, and what strand the gene originated from - (+) if it came from the template strand and (-) if it came from the coding strand. \n",
    "* `Seq` is another Biopython object that contains the sequence of the gene. \n",
    "\n",
    "**NOTE**: the sequence contains a buffer of *30 basepairs upstream of the start codon* and *30 basepairs downstream of the stop codon*. The additional information is necessary to extract the TIS feature."
   ]
  },
  {
   "cell_type": "code",
   "execution_count": 7,
   "id": "19fc0ac1-4241-4859-991c-592329d010bc",
   "metadata": {},
   "outputs": [
    {
     "name": "stdout",
     "output_type": "stream",
     "text": [
      "NC_000917\n",
      "AF_RS00005\n",
      "<unknown description>\n",
      "type: CDS\n",
      "location: [4289:4784](+)\n",
      "qualifiers:\n",
      "\n",
      "ATGAAAGAGACGATTCAGCTTGCTATAGGGGTGATGCTGTTGGCCATGCTCGGTTGCTACATCTACATTACTGAGTTCTATCACTACGAATCAACTGAAGAGAGCTCAAAAGCTGCGATTGAATATTTGAATCAGCTTAGAGCTCAGAATGGCCTGCCTCCTGTAAAGTGGAATAAAACTCTTTACGAGTTTGCGCTGGAAAGGCTTGAAGATATGCATGAAAGAGGCTATTACAGTCATTATGACCCTGTTACGCATGAGACGCTGATTTACAGATATGTTGAGGGGTATGTTGGAGAGTGTATCTTGAATGGTGTAAGAGGTACAAATCTTCTCTCCAATGGGCTTCAGTCATTATTTGGCTATGAAGAAGAAGCTATAGATATCTGGTCTAAAAGCACCATGCACAAACTCATTCTCACTGATAAACGCTTCACAGATGCCGCTGTAGCCTGCAAGTACGACATGTGTGTTTTGATTATGACGGGTGGTTGA\n"
     ]
    }
   ],
   "source": [
    "# example of cds SeqRecord\n",
    "example_record = CDS[0]\n",
    "\n",
    "print(example_record.id)\n",
    "print(example_record.name)\n",
    "print(example_record.description)\n",
    "print(example_record.features[0])\n",
    "print(example_record.seq[30:-30])"
   ]
  },
  {
   "cell_type": "markdown",
   "id": "c691a89c-4ffd-4137-963c-36ada6119e0f",
   "metadata": {},
   "source": [
    "### Shuffle and Split Training Data\n",
    "\n",
    "Training data is split into two datasets - one to train the linear discriminant weight vectors and one to train the neural network."
   ]
  },
  {
   "cell_type": "code",
   "execution_count": 8,
   "id": "96ac6dfc-c892-47ee-aaee-2cad7f598cd5",
   "metadata": {},
   "outputs": [],
   "source": [
    "# merge CDS and NCS data\n",
    "DATA = CDS + NCS\n",
    "\n",
    "# shuffle and split data\n",
    "LD_Data, NN_Data = split_training_records(DATA, size=0.5, random_state=SEED, shuffle=True)"
   ]
  },
  {
   "cell_type": "code",
   "execution_count": 9,
   "id": "12226fa4-8274-46a4-8959-a850883ae834",
   "metadata": {},
   "outputs": [
    {
     "name": "stdout",
     "output_type": "stream",
     "text": [
      "LD Dataset: 3796\n",
      "NN Dataset: 3796\n"
     ]
    }
   ],
   "source": [
    "print(f'LD Dataset: {len(LD_Data)}')\n",
    "print(f'NN Dataset: {len(NN_Data)}')"
   ]
  },
  {
   "cell_type": "code",
   "execution_count": 12,
   "id": "9a2dbe9e-fc94-44cb-852f-3f1db8d8049c",
   "metadata": {},
   "outputs": [
    {
     "name": "stdout",
     "output_type": "stream",
     "text": [
      "Saved genome fragments to ./input/train_1g.fna.\n"
     ]
    }
   ],
   "source": [
    "# # save records as FASTA file\n",
    "# from modules.predict import seqrecord2fasta\n",
    "# seqrecord2fasta(filename = './input/train_1g.fna', seq_records=DATA)"
   ]
  },
  {
   "cell_type": "markdown",
   "id": "9e90d9cd-d3a7-4824-b15c-cf1234eb0035",
   "metadata": {},
   "source": [
    "## Train Linear Discriminant Weight Vectors for Dimensional Reduction"
   ]
  },
  {
   "cell_type": "markdown",
   "id": "c0de8dc7-51da-4431-ad29-f82266e8cbf4",
   "metadata": {
    "tags": []
   },
   "source": [
    "### Extract Features - Monocodon (Tri), Dicodon (Hex), TIS\n",
    "\n",
    "Common meaningful features that are extracted from a genome include the `codon frequency` (monocodon or tri), the `dicodon frequency` (dicodon or hex), the `translation initiation sites` (TIS), and `GC content`. For training the linear discriminant, only the first three features will be extracted since they are highly dimensional. \n",
    "* Codon Frequency - ex. ATGCCC... => 'ATG', 'CCC', ...\n",
    "* Dicodon Frequency - ex. ATGCCCTTT... => 'ATGCCC', 'CCCTTT', ...\n",
    "* TIS - frame that includes 30 basepairs (bp) upstream and downstream of start codons\n",
    "\n",
    "**Note:** TIS features are different for discriminant training vs NN training. For discriminant training, TIS features are from CDS only - a TIS frame starting at the true start codon is positive; a TIS frame starting at a start codon within the gene is negative. See the `Hoff et al.` paper for more information on features."
   ]
  },
  {
   "cell_type": "markdown",
   "id": "f0e699ea-077f-4c7e-bdc5-e0c36366821a",
   "metadata": {},
   "source": [
    "Input arguments for `extract.training_features`\n",
    "* **seq_records** - list of linear discriminant SeqRecords\n",
    "* **OFFSET** - default `=30`\n",
    "\n",
    "Return types for `extract.training_features`\n",
    "* **X_M** - monocodon features \n",
    "* **X_D** - dicodon features\n",
    "* **y_cod** - labels for codon features\n",
    "* **X_T** - training tis features\n",
    "* **y_tis** - labels for training tis features"
   ]
  },
  {
   "cell_type": "code",
   "execution_count": 13,
   "id": "64fb16f5-f0c2-46e2-a6e7-38bb17926561",
   "metadata": {},
   "outputs": [
    {
     "name": "stdout",
     "output_type": "stream",
     "text": [
      "CPU times: user 11.2 s, sys: 1.03 s, total: 12.2 s\n",
      "Wall time: 12.2 s\n"
     ]
    }
   ],
   "source": [
    "%time X_M, X_D, y_cod, X_T, y_tis = extract_ld_training_features(LD_Data, OFFSET=30)"
   ]
  },
  {
   "cell_type": "markdown",
   "id": "9ed173dc-1b6e-46f5-9733-039639ec14e7",
   "metadata": {
    "tags": []
   },
   "source": [
    "### Train Discriminant Weight Vectors\n",
    "\n",
    "We need to minimize:\n",
    "\n",
    "$$ E(w_M) = \\frac{1}{n}\\sum_{i=0}^{n}(w_m \\cdot x_M^i - y_i)^2 + \\lambda w_M \\cdot w_M $$\n",
    "\n",
    "where $x_M^i \\in \\mathbb{R}^{64}$ is the $i-th$ column of the monocodon frequency matrix $\\textbf{X}_M$, $n=64$ monocodon possibilities, $y_M^i \\in (-1, 1)$ is the $i-th$ element of the label vector, and $w_M$ is the discriminant weight vector.\n",
    "\n",
    "We can minimize $E$ by:\n",
    "\n",
    "$$w_M = (X_MX_M^T +\\lambda n\\textbf{I})^{-1}X_My_M$$\n",
    "\n",
    "This can be generalized to train the discriminant vector $w$ for dicodon frequency and TIS. "
   ]
  },
  {
   "cell_type": "code",
   "execution_count": 14,
   "id": "b47f2940-fb8d-4ca7-ae5f-93bbf8ec3f1c",
   "metadata": {},
   "outputs": [],
   "source": [
    "wM = discriminant(X_M, y_cod)\n",
    "wD = discriminant(X_D, y_cod)\n",
    "wT = discriminant(X_T, y_tis)\n",
    "w = [wM, wD, wT]"
   ]
  },
  {
   "cell_type": "code",
   "execution_count": 15,
   "id": "7af2b1ba-a71a-4801-a384-587f2a86d6af",
   "metadata": {},
   "outputs": [
    {
     "name": "stdout",
     "output_type": "stream",
     "text": [
      "Weights Shape: wM (64,), wD (4096,), wT (3712,)\n"
     ]
    }
   ],
   "source": [
    "print(f'Weights Shape: wM {w[0].shape}, wD {w[1].shape}, wT {w[2].shape}')"
   ]
  },
  {
   "cell_type": "markdown",
   "id": "a7145030-0fcf-4ad5-a601-dfef7bc611ff",
   "metadata": {},
   "source": [
    "### Train TIS Gaussian Parameters \n",
    "\n",
    "Ideally, input sequences into the prediction algorithm will contain all the information we need to determine if the sequence is a gene or not. However, next-generation sequencing (NGS) tools often produce fragments of DNA that vary in length from 100 bp to 700 bp. Therefore, the entire TIS region (30 bp upstream of the start codon to 30 bp downstream of the start codon) may not be present in the input sequence. \n",
    "\n",
    "To overcome this, a Gaussian distribution can be trained on the training genomes provided. Then, we can predict how likely a given fragment of a TIS window is from a gene or not."
   ]
  },
  {
   "cell_type": "code",
   "execution_count": 16,
   "id": "c19f5a09-1214-47a4-9fda-c2b17e5b441d",
   "metadata": {},
   "outputs": [
    {
     "name": "stdout",
     "output_type": "stream",
     "text": [
      "CPU times: user 734 ms, sys: 859 ms, total: 1.59 s\n",
      "Wall time: 1.24 s\n"
     ]
    }
   ],
   "source": [
    "%time p = tis_gaussian(X_T, y_tis, wT)"
   ]
  },
  {
   "cell_type": "code",
   "execution_count": 17,
   "id": "e3f1844e-c0a6-46c6-9240-c03699eed489",
   "metadata": {},
   "outputs": [
    {
     "name": "stdout",
     "output_type": "stream",
     "text": [
      "Pos (pi, mu, sd): 0.0436, 0.5817, 0.2656\n",
      "Neg (pi, mu, sd): 0.9564, 0.0191, 0.0861\n"
     ]
    }
   ],
   "source": [
    "print(f'Pos (pi, mu, sd): {round(p[0][0],4)}, {round(p[1][0],4)}, {round(p[2][0],4)}')\n",
    "print(f'Neg (pi, mu, sd): {round(p[0][1],4)}, {round(p[1][1],4)}, {round(p[2][1],4)}')"
   ]
  },
  {
   "cell_type": "markdown",
   "id": "64fc2996-1eed-4f1e-b9c9-c271a8eaaceb",
   "metadata": {},
   "source": [
    "### Visualize TIS Weight Vector"
   ]
  },
  {
   "cell_type": "code",
   "execution_count": 18,
   "id": "7fe3d67e-24cb-40d4-b2c9-659d44626108",
   "metadata": {},
   "outputs": [
    {
     "data": {
      "text/plain": [
       "<AxesSubplot:>"
      ]
     },
     "execution_count": 18,
     "metadata": {},
     "output_type": "execute_result"
    },
    {
     "data": {
      "image/png": "[encoded data removed]",
      "text/plain": [
       "<Figure size 842.4x595.44 with 2 Axes>"
      ]
     },
     "metadata": {
      "needs_background": "light"
     },
     "output_type": "display_data"
    }
   ],
   "source": [
    "import numpy as np\n",
    "import pandas as pd\n",
    "import seaborn as sns\n",
    "import matplotlib.pyplot as plt\n",
    "from modules.extract import populate_codon_idx_dict\n",
    "\n",
    "tis_weights = np.array(w[2]).reshape(58,64).T\n",
    "\n",
    "y_axis_labels = populate_codon_idx_dict(nbases=3).keys()\n",
    "x_axis_labels = [i for i in range(-30,28)]\n",
    "\n",
    "df = pd.DataFrame(tis_weights, columns=x_axis_labels, index=y_axis_labels)\n",
    "\n",
    "a4_dims = (11.7, 8.27)\n",
    "fig, ax = plt.subplots(figsize=a4_dims)\n",
    "sns.heatmap(ax=ax, data=df, cmap=\"YlGnBu\")"
   ]
  },
  {
   "cell_type": "markdown",
   "id": "6f4ff062-94fa-40f2-9603-8449555acd84",
   "metadata": {},
   "source": [
    "## Train Binary Classification Neural Network"
   ]
  },
  {
   "cell_type": "code",
   "execution_count": 9,
   "id": "b25f2a22-6705-4299-8fd6-c07787db5ba5",
   "metadata": {},
   "outputs": [
    {
     "name": "stdout",
     "output_type": "stream",
     "text": [
      "Loaded parameters from disk.\n"
     ]
    }
   ],
   "source": [
    "# # load latest parameters\n",
    "# data = load_params(\"./model/param_1g.csv\")\n",
    "# w, p = data[0:3], data[3:]"
   ]
  },
  {
   "cell_type": "markdown",
   "id": "b9620776-08e3-4d12-a831-96bc574d9e61",
   "metadata": {},
   "source": [
    "### Extract Features\n",
    "\n",
    "Return types for `extract.features`\n",
    "* **features** - all features (monocodon, dicodon, tis, length, gc)\n",
    "* **y** - labels for features"
   ]
  },
  {
   "cell_type": "code",
   "execution_count": 19,
   "id": "d5cc8731-aaf6-42e0-bac9-1a4d268f4bb5",
   "metadata": {},
   "outputs": [
    {
     "name": "stdout",
     "output_type": "stream",
     "text": [
      "CPU times: user 8.64 s, sys: 0 ns, total: 8.64 s\n",
      "Wall time: 8.64 s\n"
     ]
    }
   ],
   "source": [
    "%time NN_features, NN_y = extract_nn_training_features(NN_Data)"
   ]
  },
  {
   "cell_type": "code",
   "execution_count": 20,
   "id": "244e62ab-1d13-4fb9-96de-7d3efc93d755",
   "metadata": {},
   "outputs": [
    {
     "name": "stdout",
     "output_type": "stream",
     "text": [
      "(3796,5)\n",
      "(3796,)\n"
     ]
    }
   ],
   "source": [
    "print(f'({len(NN_features[0])},{len(NN_features)})')\n",
    "print(f'({len(NN_y)},)')"
   ]
  },
  {
   "cell_type": "markdown",
   "id": "85ea06e4-ebb6-47d7-b152-af121a74c8fd",
   "metadata": {},
   "source": [
    "### Dimensionally Reduce Large Features\n",
    "\n",
    "Return types for `predict.dimensional_reduction`\n",
    "* **nn_input** - (n,5) matrix of reduced features\n",
    "\n",
    "Features include:\n",
    "* x1 = reduced monocodon frequency\n",
    "* x2 = reduced dicodon frequency\n",
    "* x3 = positive tis score (gaussian probability)\n",
    "* x4 = negative tis score (gaussian probability)\n",
    "* x5 = length\n",
    "* x7 = gc content"
   ]
  },
  {
   "cell_type": "code",
   "execution_count": 21,
   "id": "1623c7db-73ec-41e6-a358-e216f0fa101a",
   "metadata": {},
   "outputs": [
    {
     "name": "stdout",
     "output_type": "stream",
     "text": [
      "CPU times: user 1.89 s, sys: 609 ms, total: 2.5 s\n",
      "Wall time: 904 ms\n"
     ]
    }
   ],
   "source": [
    "%time nn_input = dimensional_reduction(NN_features, w, p)"
   ]
  },
  {
   "cell_type": "code",
   "execution_count": 22,
   "id": "c87ccf23-9c11-4466-b032-32cdc5445c48",
   "metadata": {},
   "outputs": [
    {
     "name": "stdout",
     "output_type": "stream",
     "text": [
      "(3796, 6)\n"
     ]
    }
   ],
   "source": [
    "print(f'({len(nn_input)}, {len(nn_input[0])})')"
   ]
  },
  {
   "cell_type": "markdown",
   "id": "d047b328-7c81-4beb-b848-05eeb973a7f3",
   "metadata": {},
   "source": [
    "### Test, Train, Split"
   ]
  },
  {
   "cell_type": "code",
   "execution_count": 23,
   "id": "18cf4476-f670-4eac-9fb3-812353a1dc83",
   "metadata": {},
   "outputs": [],
   "source": [
    "X_train, X_test, y_train, y_test = train_test_split(nn_input, NN_y, test_size=0.2, random_state=SEED)"
   ]
  },
  {
   "cell_type": "code",
   "execution_count": 24,
   "id": "027bab33-dfa6-4ac4-b00c-fd38fecd2c60",
   "metadata": {},
   "outputs": [
    {
     "name": "stdout",
     "output_type": "stream",
     "text": [
      "3036 6 3036\n",
      "760 6 760\n"
     ]
    }
   ],
   "source": [
    "print(len(X_train), len(X_train[0]), len(y_train))\n",
    "print(len(X_test), len(X_test[0]), len(y_test))"
   ]
  },
  {
   "cell_type": "markdown",
   "id": "3552a272-eefb-49ae-9d1b-b1658c12be48",
   "metadata": {},
   "source": [
    "### Define Neural Network Model"
   ]
  },
  {
   "cell_type": "code",
   "execution_count": 25,
   "id": "6e692951-b625-497e-960d-49395e6f12f4",
   "metadata": {},
   "outputs": [],
   "source": [
    "model = Sequential()\n",
    "model.add(Dense(25, input_dim=len(nn_input[0]), activation='relu'))\n",
    "model.add(Dense(1, activation='sigmoid'))"
   ]
  },
  {
   "cell_type": "code",
   "execution_count": 26,
   "id": "b1e353fa-fc08-4e11-94dd-f0527f6ac9a3",
   "metadata": {},
   "outputs": [
    {
     "name": "stdout",
     "output_type": "stream",
     "text": [
      "Model: \"sequential\"\n",
      "_________________________________________________________________\n",
      "Layer (type)                 Output Shape              Param #   \n",
      "=================================================================\n",
      "dense (Dense)                (None, 25)                175       \n",
      "_________________________________________________________________\n",
      "dense_1 (Dense)              (None, 1)                 26        \n",
      "=================================================================\n",
      "Total params: 201\n",
      "Trainable params: 201\n",
      "Non-trainable params: 0\n",
      "_________________________________________________________________\n"
     ]
    }
   ],
   "source": [
    "model.summary()"
   ]
  },
  {
   "cell_type": "markdown",
   "id": "d8dfded6-461b-41b1-8c19-dd7eada210fc",
   "metadata": {},
   "source": [
    "### Train Neural Network"
   ]
  },
  {
   "cell_type": "code",
   "execution_count": 27,
   "id": "ceb8178c-308e-4ce0-87ec-dc71b9f8da35",
   "metadata": {},
   "outputs": [
    {
     "name": "stdout",
     "output_type": "stream",
     "text": [
      "Epoch 1/50\n",
      "48/48 [==============================] - 0s 1ms/step - loss: 26.6532 - accuracy: 0.6446\n",
      "Epoch 2/50\n",
      "48/48 [==============================] - 0s 1ms/step - loss: 1.1264 - accuracy: 0.6831\n",
      "Epoch 3/50\n",
      "48/48 [==============================] - 0s 1ms/step - loss: 0.4620 - accuracy: 0.8258\n",
      "Epoch 4/50\n",
      "48/48 [==============================] - 0s 1ms/step - loss: 0.4292 - accuracy: 0.8613\n",
      "Epoch 5/50\n",
      "48/48 [==============================] - 0s 1ms/step - loss: 0.3952 - accuracy: 0.8976: 0s - loss: 0.3984 - accuracy: 0.89\n",
      "Epoch 6/50\n",
      "48/48 [==============================] - 0s 1ms/step - loss: 0.3809 - accuracy: 0.8910\n",
      "Epoch 7/50\n",
      "48/48 [==============================] - 0s 1ms/step - loss: 0.3460 - accuracy: 0.9233\n",
      "Epoch 8/50\n",
      "48/48 [==============================] - 0s 1ms/step - loss: 0.3515 - accuracy: 0.9068\n",
      "Epoch 9/50\n",
      "48/48 [==============================] - 0s 1ms/step - loss: 0.3134 - accuracy: 0.9236\n",
      "Epoch 10/50\n",
      "48/48 [==============================] - 0s 1ms/step - loss: 0.2921 - accuracy: 0.9305\n",
      "Epoch 11/50\n",
      "48/48 [==============================] - 0s 1ms/step - loss: 0.2815 - accuracy: 0.9325\n",
      "Epoch 12/50\n",
      "48/48 [==============================] - 0s 1ms/step - loss: 0.2696 - accuracy: 0.9368\n",
      "Epoch 13/50\n",
      "48/48 [==============================] - 0s 1ms/step - loss: 0.2508 - accuracy: 0.9433\n",
      "Epoch 14/50\n",
      "48/48 [==============================] - 0s 1ms/step - loss: 0.2464 - accuracy: 0.9466\n",
      "Epoch 15/50\n",
      "48/48 [==============================] - 0s 1ms/step - loss: 0.2478 - accuracy: 0.9414\n",
      "Epoch 16/50\n",
      "48/48 [==============================] - 0s 1ms/step - loss: 0.2275 - accuracy: 0.9440\n",
      "Epoch 17/50\n",
      "48/48 [==============================] - 0s 1ms/step - loss: 0.2138 - accuracy: 0.9489\n",
      "Epoch 18/50\n",
      "48/48 [==============================] - 0s 1ms/step - loss: 0.2042 - accuracy: 0.9572\n",
      "Epoch 19/50\n",
      "48/48 [==============================] - 0s 1ms/step - loss: 0.2140 - accuracy: 0.9466\n",
      "Epoch 20/50\n",
      "48/48 [==============================] - 0s 959us/step - loss: 0.1929 - accuracy: 0.9585\n",
      "Epoch 21/50\n",
      "48/48 [==============================] - 0s 1ms/step - loss: 0.1866 - accuracy: 0.9608\n",
      "Epoch 22/50\n",
      "48/48 [==============================] - 0s 1ms/step - loss: 0.1989 - accuracy: 0.9499\n",
      "Epoch 23/50\n",
      "48/48 [==============================] - 0s 1ms/step - loss: 0.1989 - accuracy: 0.9427\n",
      "Epoch 24/50\n",
      "48/48 [==============================] - 0s 994us/step - loss: 0.1844 - accuracy: 0.9536\n",
      "Epoch 25/50\n",
      "48/48 [==============================] - 0s 990us/step - loss: 0.1693 - accuracy: 0.9625\n",
      "Epoch 26/50\n",
      "48/48 [==============================] - 0s 996us/step - loss: 0.1831 - accuracy: 0.9496\n",
      "Epoch 27/50\n",
      "48/48 [==============================] - 0s 1ms/step - loss: 0.1667 - accuracy: 0.9575\n",
      "Epoch 28/50\n",
      "48/48 [==============================] - 0s 1ms/step - loss: 0.1548 - accuracy: 0.9605\n",
      "Epoch 29/50\n",
      "48/48 [==============================] - 0s 1ms/step - loss: 0.1994 - accuracy: 0.9381\n",
      "Epoch 30/50\n",
      "48/48 [==============================] - 0s 1ms/step - loss: 0.1510 - accuracy: 0.9631\n",
      "Epoch 31/50\n",
      "48/48 [==============================] - 0s 1ms/step - loss: 0.1667 - accuracy: 0.9519\n",
      "Epoch 32/50\n",
      "48/48 [==============================] - 0s 1ms/step - loss: 0.1474 - accuracy: 0.9605\n",
      "Epoch 33/50\n",
      "48/48 [==============================] - 0s 1ms/step - loss: 0.1437 - accuracy: 0.9608\n",
      "Epoch 34/50\n",
      "48/48 [==============================] - 0s 1ms/step - loss: 0.1462 - accuracy: 0.9631\n",
      "Epoch 35/50\n",
      "48/48 [==============================] - 0s 1ms/step - loss: 0.1364 - accuracy: 0.9657\n",
      "Epoch 36/50\n",
      "48/48 [==============================] - 0s 1ms/step - loss: 0.1435 - accuracy: 0.9592\n",
      "Epoch 37/50\n",
      "48/48 [==============================] - 0s 1ms/step - loss: 0.1341 - accuracy: 0.9651\n",
      "Epoch 38/50\n",
      "48/48 [==============================] - 0s 1ms/step - loss: 0.1369 - accuracy: 0.9598\n",
      "Epoch 39/50\n",
      "48/48 [==============================] - 0s 1ms/step - loss: 0.1299 - accuracy: 0.9641\n",
      "Epoch 40/50\n",
      "48/48 [==============================] - 0s 1ms/step - loss: 0.1241 - accuracy: 0.9661\n",
      "Epoch 41/50\n",
      "48/48 [==============================] - 0s 1ms/step - loss: 0.1548 - accuracy: 0.9532\n",
      "Epoch 42/50\n",
      "48/48 [==============================] - 0s 1ms/step - loss: 0.1349 - accuracy: 0.9608\n",
      "Epoch 43/50\n",
      "48/48 [==============================] - 0s 1ms/step - loss: 0.1220 - accuracy: 0.9667\n",
      "Epoch 44/50\n",
      "48/48 [==============================] - 0s 1ms/step - loss: 0.1314 - accuracy: 0.9631\n",
      "Epoch 45/50\n",
      "48/48 [==============================] - 0s 1ms/step - loss: 0.1213 - accuracy: 0.9684\n",
      "Epoch 46/50\n",
      "48/48 [==============================] - 0s 1ms/step - loss: 0.1247 - accuracy: 0.9641\n",
      "Epoch 47/50\n",
      "48/48 [==============================] - 0s 1ms/step - loss: 0.1643 - accuracy: 0.9447\n",
      "Epoch 48/50\n",
      "48/48 [==============================] - 0s 1ms/step - loss: 0.1398 - accuracy: 0.9526\n",
      "Epoch 49/50\n",
      "48/48 [==============================] - 0s 1ms/step - loss: 0.1187 - accuracy: 0.9651\n",
      "Epoch 50/50\n",
      "48/48 [==============================] - 0s 1ms/step - loss: 0.1164 - accuracy: 0.9651\n"
     ]
    },
    {
     "data": {
      "text/plain": [
       "<tensorflow.python.keras.callbacks.History at 0x7f067aa71d30>"
      ]
     },
     "execution_count": 27,
     "metadata": {},
     "output_type": "execute_result"
    }
   ],
   "source": [
    "# compile model\n",
    "model.compile(loss='binary_crossentropy', optimizer='adam', metrics=['accuracy'])\n",
    "\n",
    "# train model\n",
    "model.fit(X_train, y_train, epochs=50, batch_size=64, verbose=1)"
   ]
  },
  {
   "cell_type": "markdown",
   "id": "39381fcf-b1a3-4729-a61d-1b90d2e900cd",
   "metadata": {},
   "source": [
    "### Evaluate Model"
   ]
  },
  {
   "cell_type": "code",
   "execution_count": 28,
   "id": "b22bd7d9-f79d-4772-b53d-99209c3ff45a",
   "metadata": {},
   "outputs": [
    {
     "name": "stdout",
     "output_type": "stream",
     "text": [
      "accuracy: 93.29%\n"
     ]
    }
   ],
   "source": [
    "score = model.evaluate(X_test, y_test, verbose=0)\n",
    "print(\"%s: %.2f%%\" % (model.metrics_names[1], score[1]*100))"
   ]
  },
  {
   "cell_type": "code",
   "execution_count": 29,
   "id": "d33c5dbd-8a24-43b4-bba1-b9cac80d15e9",
   "metadata": {},
   "outputs": [
    {
     "name": "stdout",
     "output_type": "stream",
     "text": [
      "Confusion matrix, without normalization\n",
      "[[510   7]\n",
      " [ 44 199]]\n"
     ]
    },
    {
     "data": {
      "image/png": "[encoded data removed]",
      "text/plain": [
       "<Figure size 432x288 with 2 Axes>"
      ]
     },
     "metadata": {
      "needs_background": "light"
     },
     "output_type": "display_data"
    }
   ],
   "source": [
    "# make predictions + convert predictions to 1 or 0 (cutoff = 0.5)\n",
    "predictions = model.predict(X_test)\n",
    "y_pred = [1 if val >= 0.5 else 0 for val in predictions]\n",
    "\n",
    "# plot confusion matrix\n",
    "cm = metrics.confusion_matrix(y_true=y_test, y_pred=y_pred)\n",
    "plot_confusion_matrix(cm=cm, classes=['ncs','cds'], normalize=False)"
   ]
  },
  {
   "cell_type": "markdown",
   "id": "eaa14639-4ddf-4ae8-b807-ff4626c13096",
   "metadata": {},
   "source": [
    "## Save"
   ]
  },
  {
   "cell_type": "code",
   "execution_count": 30,
   "id": "59c59835-05c7-4741-bea4-c57374b25874",
   "metadata": {},
   "outputs": [
    {
     "name": "stdout",
     "output_type": "stream",
     "text": [
      "Saved model to disk.\n"
     ]
    }
   ],
   "source": [
    "# save NN model as JSON/H5\n",
    "save_model2json(\"./model/model_1g\", model)"
   ]
  },
  {
   "cell_type": "code",
   "execution_count": 31,
   "id": "151388f6-46a6-4eae-bc07-e3b529ed1a03",
   "metadata": {},
   "outputs": [
    {
     "name": "stdout",
     "output_type": "stream",
     "text": [
      "Saved data to disk.\n"
     ]
    }
   ],
   "source": [
    "# save weights and TIS Gaussian parameters\n",
    "data = w + p\n",
    "save_params2csv(\"./model/param_1g.csv\", data)"
   ]
  },
  {
   "cell_type": "markdown",
   "id": "c13bc180-e277-4502-9166-97f2e3f40a63",
   "metadata": {},
   "source": [
    "# Gene Prediction"
   ]
  },
  {
   "cell_type": "code",
   "execution_count": 32,
   "id": "5f0f3cb8-dc40-48e6-93aa-acad662bf606",
   "metadata": {},
   "outputs": [],
   "source": [
    "%reload_ext autoreload\n",
    "%autoreload 2\n",
    "from modules import predict"
   ]
  },
  {
   "cell_type": "markdown",
   "id": "08179553-b21e-4250-96ac-2fa20434bc37",
   "metadata": {},
   "source": [
    "## How to use Gene Prediction Tools"
   ]
  },
  {
   "cell_type": "markdown",
   "id": "ddb62250-44f9-4433-ba5b-087ecc17d185",
   "metadata": {},
   "source": [
    "### Option 1: Extract Sequences from GenBank Genome\n",
    "\n",
    "The `predict.from_genome` method extracts sequences from input genomes (txt file of accession numbers), creates a temporary FASTA file in the `./input` folder called `tmp.fna` that contains all extracted sequences in the FASTA format, and creates an output prediction file with the sequences that it predicted as genes."
   ]
  },
  {
   "cell_type": "code",
   "execution_count": 33,
   "id": "3b665b66-2fbe-4581-9e6b-1d3e790ade73",
   "metadata": {},
   "outputs": [],
   "source": [
    "gb_file = './input/train.txt'      # txt file of genbank accession numbers\n",
    "num = 1                            # number of genomes to extract from input txt file\n",
    "seq = 'cds'                        # only getting CDS sequences \n",
    "\n",
    "par = './model/param_1g.csv'       # saved csv of parameter values (w, p)\n",
    "mod = './model/model_1g'           # saved json/h5 of NN model\n",
    "out = './results/gb_pred_test.fna' # location of prediction results"
   ]
  },
  {
   "cell_type": "code",
   "execution_count": 34,
   "id": "492a85eb-993f-4603-86c8-bb75be01b6b1",
   "metadata": {
    "tags": []
   },
   "outputs": [
    {
     "name": "stdout",
     "output_type": "stream",
     "text": [
      "Successfully fetched NC_000917\n",
      "\t2478 CDS Records\n",
      "\n",
      "2478 Total CDS Records\n",
      "0 Total NCS Records\n",
      "Loaded parameters from disk.\n",
      "Loaded model from disk.\n",
      "Saved genome fragments to ./results/gb_pred_test.fna.\n",
      "CPU times: user 24.5 s, sys: 828 ms, total: 25.3 s\n",
      "Wall time: 44.1 s\n"
     ]
    }
   ],
   "source": [
    "%time pg = predict.from_genome(filename=gb_file, \\\n",
    "                               n_genomes=num, \\\n",
    "                               params=par, \\\n",
    "                               model=mod, \\\n",
    "                               outfile=out, \\\n",
    "                               seq=seq, \\\n",
    "                               email='vignesh.ravindranath@gmail.com')"
   ]
  },
  {
   "cell_type": "code",
   "execution_count": 36,
   "id": "606f4c6f-ec76-4449-94dc-a13b77ea064a",
   "metadata": {},
   "outputs": [
    {
     "name": "stdout",
     "output_type": "stream",
     "text": [
      "Confusion matrix, without normalization\n",
      "[[   0    0]\n",
      " [ 393 2085]]\n"
     ]
    },
    {
     "data": {
      "image/png": "[encoded data removed]",
      "text/plain": [
       "<Figure size 432x288 with 2 Axes>"
      ]
     },
     "metadata": {
      "needs_background": "light"
     },
     "output_type": "display_data"
    }
   ],
   "source": [
    "# create confusion matrix\n",
    "y_true_op2 = [1]*len(pg)\n",
    "cm_op2 = metrics.confusion_matrix(y_true=y_true_op2, y_pred=pg)\n",
    "\n",
    "# plot confusion matrix\n",
    "plot_confusion_matrix(cm=cm_op2, classes=['ncs','cds'], normalize=False)"
   ]
  },
  {
   "cell_type": "markdown",
   "id": "f945bd44-c4ef-40a0-9a2a-0f52de480519",
   "metadata": {},
   "source": [
    "### Option 2 (NEED TO FIX): Input FASTA File Containing Sequences\n",
    "\n",
    "Using `tmp.fna` file created from the `predict.from_genome` method above as the example input."
   ]
  },
  {
   "cell_type": "code",
   "execution_count": null,
   "id": "5a4d7b3b-c838-46ef-a5d5-4d137fe927b2",
   "metadata": {},
   "outputs": [],
   "source": [
    "# fna_file = './input/tmp.fna'          # input fasta file\n",
    "\n",
    "# par = './model/param_1g.csv'          # saved csv of parameter values (w, p)\n",
    "# mod = './model/model_1g'              # saved json/h5 of NN model\n",
    "# out = './results/fasta_pred_test.fna' # location of prediction results"
   ]
  },
  {
   "cell_type": "code",
   "execution_count": null,
   "id": "1b2f58d3-da3b-4a92-8ebf-d374ec9232d8",
   "metadata": {},
   "outputs": [],
   "source": [
    "# % time pf = predict.from_fasta(filename=fna_file, \\\n",
    "#                                params=par, \\\n",
    "#                                model=mod, \\\n",
    "#                                outfile=out)"
   ]
  },
  {
   "cell_type": "code",
   "execution_count": null,
   "id": "06998e22-1133-45cc-87a4-b34711f04dff",
   "metadata": {},
   "outputs": [],
   "source": [
    "# # create confusion matrix\n",
    "# y_true_op3 = [1]*len(pf)\n",
    "# cm_op3 = metrics.confusion_matrix(y_true=y_true_op2, y_pred=pg)\n",
    "\n",
    "# # plot confusion matrix\n",
    "# genepred.plot_confusion_matrix(cm=cm_op3, classes=['ncs','cds'], normalize=False)"
   ]
  },
  {
   "cell_type": "markdown",
   "id": "790f1966-8c30-46d1-af42-e5ff6ed385fd",
   "metadata": {},
   "source": [
    "## Input your sequences for prediction"
   ]
  },
  {
   "cell_type": "code",
   "execution_count": null,
   "id": "d6c332c9-4e0e-4535-abe0-eb865714247b",
   "metadata": {},
   "outputs": [],
   "source": []
  }
 ],
 "metadata": {
  "kernelspec": {
   "display_name": "Python 3",
   "language": "python",
   "name": "python3"
  },
  "language_info": {
   "codemirror_mode": {
    "name": "ipython",
    "version": 3
   },
   "file_extension": ".py",
   "mimetype": "text/x-python",
   "name": "python",
   "nbconvert_exporter": "python",
   "pygments_lexer": "ipython3",
   "version": "3.8.8"
  }
 },
 "nbformat": 4,
 "nbformat_minor": 5
}
