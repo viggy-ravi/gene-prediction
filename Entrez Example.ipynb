{
 "cells": [
  {
   "cell_type": "code",
   "execution_count": 1,
   "metadata": {},
   "outputs": [],
   "source": [
    "from Bio import Entrez\n",
    "from Bio import SeqIO"
   ]
  },
  {
   "cell_type": "markdown",
   "metadata": {},
   "source": [
    "# Get Coding Sequences from GenBank file"
   ]
  },
  {
   "cell_type": "code",
   "execution_count": 2,
   "metadata": {},
   "outputs": [],
   "source": [
    "Entrez.email = \"vignesh.ravindranath@gmail.com\"\n",
    "handle = Entrez.efetch(db=\"sequences\", id=\"NC_000917.1\", rettype=\"gbwithparts\", retmode=\"text\")\n",
    "record = SeqIO.read(handle, \"gb\")\n",
    "handle.close()"
   ]
  },
  {
   "cell_type": "code",
   "execution_count": 3,
   "metadata": {},
   "outputs": [
    {
     "name": "stdout",
     "output_type": "stream",
     "text": [
      "NC_000917.1\n",
      "NC_000917\n",
      "Archaeoglobus fulgidus DSM 4304, complete sequence\n",
      "5052\n"
     ]
    }
   ],
   "source": [
    "print(record.id)\n",
    "print(record.name)\n",
    "print(record.description)\n",
    "print(len(record.features))"
   ]
  },
  {
   "cell_type": "code",
   "execution_count": 4,
   "metadata": {},
   "outputs": [
    {
     "name": "stdout",
     "output_type": "stream",
     "text": [
      "2473 coding sequences (CDS)\n"
     ]
    }
   ],
   "source": [
    "count = 0\n",
    "for feature in record.features:\n",
    "    if feature.type == 'CDS':\n",
    "        count += 1\n",
    "print(f'{count} coding sequences (CDS) - genes')"
   ]
  },
  {
   "cell_type": "markdown",
   "metadata": {},
   "source": [
    "# Get full sequence from FASTA file"
   ]
  },
  {
   "cell_type": "code",
   "execution_count": 5,
   "metadata": {},
   "outputs": [
    {
     "name": "stdout",
     "output_type": "stream",
     "text": [
      "2178400\n"
     ]
    }
   ],
   "source": [
    "handle = Entrez.efetch(db=\"sequences\", id=\"NC_000917.1\", rettype=\"fasta\", retmode=\"text\")\n",
    "record = SeqIO.read(handle, \"fasta\")\n",
    "handle.close()\n",
    "\n",
    "print(len(record.seq))"
   ]
  }
 ],
 "metadata": {
  "kernelspec": {
   "display_name": "Python 3",
   "language": "python",
   "name": "python3"
  },
  "language_info": {
   "codemirror_mode": {
    "name": "ipython",
    "version": 3
   },
   "file_extension": ".py",
   "mimetype": "text/x-python",
   "name": "python",
   "nbconvert_exporter": "python",
   "pygments_lexer": "ipython3",
   "version": "3.8.3"
  }
 },
 "nbformat": 4,
 "nbformat_minor": 4
}
