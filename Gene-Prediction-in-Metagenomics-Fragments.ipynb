{
 "cells": [
  {
   "cell_type": "markdown",
   "metadata": {},
   "source": [
    "# Gene-Prediction-in-Metagenomics-Fragments\n",
    "Written by: Vignesh Ravindranath, Shawn Huang\n",
    "\n",
    "This project was based on the 2008 paper ['Gene prediction in metagenomic fragments: A large scale machine learning approach'](https://bmcbioinformatics.biomedcentral.com/articles/10.1186/1471-2105-9-217) by Hoff et at. The purpose of the project is to gain a `deeper understanding of machine learning approaches behind the Orphelia gene prediction algorithm`. \n",
    "    \n",
    "The project consists of several sections:\n",
    "1. Helper Functions (preprocessing, orf-finder, find-interregions)\n",
    "2. Preprocess Genome (extract coding sequences/non-coding sequences, shuffle/split data)\n",
    "3. Extract Features (monocodon frequency, dicodon frequency, tis, gc)\n",
    "3. Linear Discriminant - Dimentionality Reduction on monocodon/dicodon/tis\n",
    "4. Binary classification neural network for coding/noncoding gene prediction\n",
    "    \n",
    "In the second section, high-dimensional features such as `monocodon (tricodon) usage`, `dicodon (hexcodon) usage`, and `translation initiation sites (TIS)` must be extracted from prokaryotic genomes. Monocodon and dicodon usage refer to the frequence of codons (3 basepairs) and dicodons (6 basepairs) in coding and noncoding regions. Coding proteins often have a TIS upstream of the start codon. These TIS patterns are extracted by comparing up and downstream regions for positive TIS candidates (true start codons in coding sequences) to negative TIS candidates (start codons in noncoding sequences).  \n",
    "    \n",
    "In the fourth section, linear discriminants are derived to reduce the dimensionality of the extracted features. The individual features (excluding GC content) are taken as multivariate linear regression problems and the Normal Equation is utilized to compute the weights (coefficient) matrix for each feature. \n",
    "    \n",
    "In the last section, a neural network is trained on the reduced features mentioned above, in addition to the `GC content`.\n",
    "\n",
    "    Summary of features:\n",
    "    x1 - tricodon       - (n,64) \n",
    "    x2 - hexcodon       - (n,4096)\n",
    "    x3 - TIS-pos        - (n,58,64 == n,3712)\n",
    "    x4 - TIS-neg        - (n,58,64 == n,3712)\n",
    "    x7 - GC content     - (n,1) column"
   ]
  },
  {
   "cell_type": "code",
   "execution_count": 1,
   "metadata": {},
   "outputs": [],
   "source": [
    "import os\n",
    "import sys\n",
    "import pickle\n",
    "import numpy as np\n",
    "from scipy.sparse import csr_matrix\n",
    "\n",
    "%load_ext autoreload\n",
    "%autoreload\n",
    "\n",
    "from preprocess import preprocess_genome\n",
    "from fe import extract_codon_tis_features, LD_tis_training_features, populate_codon_idx_dict\n",
    "from ld import train_linear_discriminant, prior_gaussian, X3, X4\n",
    "\n",
    "# https://towardsdatascience.com/jupyter-notebook-best-practices-f430a6ba8c69\n",
    "# https://jupyter-contrib-nbextensions.readthedocs.io/en/latest/nbextensions/toc2/README.html"
   ]
  },
  {
   "cell_type": "code",
   "execution_count": 2,
   "metadata": {},
   "outputs": [],
   "source": [
    "def save(name, data):\n",
    "    filename = './data/' + name\n",
    "    outfile = open(filename, 'wb')\n",
    "    pickle.dump(data, outfile)\n",
    "    outfile.close()\n",
    "    print(f'Saved data to {filename}.')\n",
    "    \n",
    "def load(name):\n",
    "    filename = './data/' + name\n",
    "    infile = open(filename, 'rb')\n",
    "    data = pickle.load(infile)\n",
    "    infile.close()\n",
    "    print(f'Loaded data from {filename}.')\n",
    "    return data"
   ]
  },
  {
   "cell_type": "markdown",
   "metadata": {},
   "source": [
    "# Preprocess Genome - Extract Positive/Negative ORFs\n",
    "\n",
    "Preprocessing a genome consists of finding all valid open reading frames (ORFs). ORFs start with a start codon (ATG, CTG, GTG, or TGT) and end with an in-frame stop codon (TAG, TGA, or TAA). To train our neural network, we need to find positive ORFs - sequencies that code for a protein (i.e. genes) -  and negative ORFs - sequencies in the genome that start with a start codon and end with an in-frame stop codon, but don't code for a protein. The negative ORFs can be found in the interregions of a genome or space between genes. \n",
    "\n",
    "For this project, positive ORFs will be referred to as CDS or CoDing Sequences, and negative ORFs will be referred to as NCS or Negative Coding Sequences."
   ]
  },
  {
   "cell_type": "code",
   "execution_count": 3,
   "metadata": {},
   "outputs": [
    {
     "name": "stdout",
     "output_type": "stream",
     "text": [
      "Fetched NC_000917 GenBank sequence\n",
      "Fetched NC_000917 FASTA sequence\n",
      "Fetched NC_005966 GenBank sequence\n",
      "Fetched NC_005966 FASTA sequence\n",
      "CPU times: user 35.4 s, sys: 500 ms, total: 35.9 s\n",
      "Wall time: 1min 16s\n",
      "5714 CDS Records\n",
      "2701 NCS Records\n",
      "Saved data to ./data/orfs.\n"
     ]
    }
   ],
   "source": [
    "prokaryote_ids = ['NC_000917','NC_005966']\n",
    "\n",
    "# preprocess_genome takes an input list of GenBank prokaryote ids\n",
    "%time _cds, _ncs = preprocess_genome(prokaryote_ids)\n",
    "\n",
    "print(f'{len(_cds)} CDS Records')\n",
    "print(f'{len(_ncs)} NCS Records')"
   ]
  },
  {
   "cell_type": "code",
   "execution_count": null,
   "metadata": {},
   "outputs": [],
   "source": [
    "# save data\n",
    "save('orfs', [_cds, _ncs])"
   ]
  },
  {
   "cell_type": "code",
   "execution_count": 4,
   "metadata": {},
   "outputs": [
    {
     "name": "stdout",
     "output_type": "stream",
     "text": [
      "Loaded data from ./data/orfs.\n",
      "5714 CDS ORFs\n",
      "2701 NCS ORFs\n"
     ]
    }
   ],
   "source": [
    "# load data\n",
    "_cds, _ncs = load('orfs')\n",
    "\n",
    "print(f'{len(_cds)} CDS ORFs')\n",
    "print(f'{len(_ncs)} NCS ORFs')"
   ]
  },
  {
   "cell_type": "markdown",
   "metadata": {},
   "source": [
    "## Shuffle and Split Data"
   ]
  },
  {
   "cell_type": "code",
   "execution_count": 5,
   "metadata": {},
   "outputs": [
    {
     "name": "stdout",
     "output_type": "stream",
     "text": [
      "ACIAD_RS00910 AC_NC03044\n",
      "AF_RS10255 AF_NC01962\n",
      "ACIAD_RS10630 AC_NC01559\n",
      "AF_RS10525 AF_NC02446\n",
      "AF_RS11270 AF_NC01629\n"
     ]
    }
   ],
   "source": [
    "import random\n",
    "random.seed(8)\n",
    "random.shuffle(_cds)\n",
    "random.shuffle(_ncs)\n",
    "\n",
    "for i in range(5):\n",
    "    print(_cds[i].name, _ncs[i].name)"
   ]
  },
  {
   "cell_type": "code",
   "execution_count": 6,
   "metadata": {},
   "outputs": [
    {
     "name": "stdout",
     "output_type": "stream",
     "text": [
      "LD Dataset: 2857\n",
      "LD Dataset: 4207\n",
      "NN Dataset: 4208\n"
     ]
    }
   ],
   "source": [
    "a = int(len(_cds)/2)\n",
    "b = int(len(_ncs)/2)\n",
    "\n",
    "LD_Tis_Data = _cds[0:a]\n",
    "LD_Cod_Data = _cds[0:a] + _ncs[0:b]\n",
    "NN_Data = _cds[a:] + _ncs[b:]\n",
    "\n",
    "print(f'LD Dataset: {len(LD_Tis_Data)}')\n",
    "print(f'LD Dataset: {len(LD_Cod_Data)}')\n",
    "print(f'NN Dataset: {len(NN_Data)}')"
   ]
  },
  {
   "cell_type": "markdown",
   "metadata": {},
   "source": [
    "# Extract Codon and TIS Features for LD Training\n",
    "\n",
    "The neural network won't be taking an entire ORF sequence as an input. Rather, we will first extract important features and train the neural network on those features. Important features include codon frequency (ex. ATGCCC... => 'ATG', 'CCC', ...) and translation initiation sites (tis). For codon frequency we can extract monocodon usage (what are all the codons in the sequence) and dicodon usage (what are all the dicodons in the sequence; ex. ATGCCCTTTGGG... => 'ATGCCC', 'TTTGGG', ...). Tis usually occur upstream of the start codon for a codon sequence (gene). So, for the tis feature, we will extract a frame that looks at 30 basepairs (bp) upstream and downstream of start codons (see heatmap below)."
   ]
  },
  {
   "cell_type": "code",
   "execution_count": 7,
   "metadata": {},
   "outputs": [
    {
     "name": "stdout",
     "output_type": "stream",
     "text": [
      "CPU times: user 10.5 s, sys: 328 ms, total: 10.8 s\n",
      "Wall time: 10.8 s\n",
      "CPU times: user 9.73 s, sys: 4.83 s, total: 14.6 s\n",
      "Wall time: 14.6 s\n",
      "Saved data to ./data/LDFE.\n"
     ]
    }
   ],
   "source": [
    "# features: tri, hex, tis_nn, gc, y\n",
    "%time LD_tri, LD_hex, _, _, LD_yc = extract_codon_tis_features(LD_Cod_Data, train_nn=False)\n",
    "\n",
    "# tis features: tis, yt\n",
    "%time LD_tis, LD_yt = LD_tis_training_features(LD_Tis_Data)\n",
    "\n",
    "# save data\n",
    "save('LDFE', [LD_tri, LD_hex, LD_yc, LD_tis, LD_yt])"
   ]
  },
  {
   "cell_type": "markdown",
   "metadata": {},
   "source": [
    "## Train Discriminant Weight Vectors"
   ]
  },
  {
   "cell_type": "markdown",
   "metadata": {},
   "source": [
    "We need to minimize:\n",
    "\n",
    "$$ E(w_M) = \\frac{1}{n}\\sum_{i=0}^{n}(w_m \\cdot x_M^i - y_i)^2 + \\lambda w_M \\cdot w_M $$\n",
    "\n",
    "where $x_M^i \\in \\mathbb{R}^{64}$ is the $i-th$ column of the monocodon frequency matrix $\\textbf{X}_M$, $n=64$ monocodon possibilities, $y_M^i \\in (-1, 1)$ is the $i-th$ element of the label vector, and $w_M$ is the discriminant weight vector.\n",
    "\n",
    "We can minimize $E$ by:\n",
    "\n",
    "$$w_M = (X_MX_M^T +\\lambda n\\textbf{I})^{-1}X_My_M$$\n",
    "\n",
    "This can be generalized to train the discriminant vector $w$ for dicodon frequency and TIS. "
   ]
  },
  {
   "cell_type": "code",
   "execution_count": 8,
   "metadata": {},
   "outputs": [
    {
     "name": "stdout",
     "output_type": "stream",
     "text": [
      "CPU times: user 109 ms, sys: 31.2 ms, total: 141 ms\n",
      "Wall time: 132 ms\n",
      "CPU times: user 16.9 s, sys: 1.81 s, total: 18.7 s\n",
      "Wall time: 12.6 s\n",
      "CPU times: user 22.5 s, sys: 6.12 s, total: 28.6 s\n",
      "Wall time: 24.3 s\n",
      "(64,) (4096,) (3712,)\n",
      "Saved data to ./data/weights.\n"
     ]
    }
   ],
   "source": [
    "# train weight vectors - csr_matrix (sparse row matrix) is used to speed up calculation/reduce space of data \n",
    "%time wM = train_linear_discriminant(csr_matrix(LD_tri), LD_yc) # monocodon (tri)\n",
    "%time wD = train_linear_discriminant(csr_matrix(LD_hex), LD_yc) # dicodon (hex)\n",
    "%time wT = train_linear_discriminant(csr_matrix(LD_tis), LD_yt) # tis\n",
    "\n",
    "print(wM.shape, wD.shape, wT.shape)"
   ]
  },
  {
   "cell_type": "code",
   "execution_count": 9,
   "metadata": {},
   "outputs": [
    {
     "name": "stdout",
     "output_type": "stream",
     "text": [
      "Saved data to ./data/weights.\n"
     ]
    }
   ],
   "source": [
    "# save data\n",
    "save('weights', [wM, wD, wT])"
   ]
  },
  {
   "cell_type": "code",
   "execution_count": 4,
   "metadata": {},
   "outputs": [
    {
     "name": "stdout",
     "output_type": "stream",
     "text": [
      "Loaded data from ./data/weights.\n"
     ]
    },
    {
     "data": {
      "text/plain": [
       "<matplotlib.axes._subplots.AxesSubplot at 0x7f64e7dd2400>"
      ]
     },
     "execution_count": 4,
     "metadata": {},
     "output_type": "execute_result"
    },
    {
     "data": {
      "image/png": "[encoded data removed]",
      "text/plain": [
       "<Figure size 842.4x595.44 with 2 Axes>"
      ]
     },
     "metadata": {
      "needs_background": "light"
     },
     "output_type": "display_data"
    }
   ],
   "source": [
    "# visualize TIS patterns (up and downstream regions)\n",
    "import pandas as pd\n",
    "import seaborn as sns\n",
    "import matplotlib.pyplot as plt\n",
    "\n",
    "_, _, wT = load('weights')\n",
    "w = np.array(wT).reshape(58,64).T\n",
    "\n",
    "y_axis_labels = populate_codon_idx_dict(nbases=3).keys()\n",
    "x_axis_labels = [i for i in range(-30,28)]\n",
    "\n",
    "df = pd.DataFrame(w, columns=x_axis_labels, index=y_axis_labels)\n",
    "\n",
    "a4_dims = (11.7, 8.27)\n",
    "fig, ax = plt.subplots(figsize=a4_dims)\n",
    "sns.heatmap(ax=ax, data=df, cmap=\"YlGnBu\")"
   ]
  },
  {
   "cell_type": "markdown",
   "metadata": {},
   "source": [
    "## Find Gaussian Distributions for Postive/Negative TIS Features"
   ]
  },
  {
   "cell_type": "code",
   "execution_count": 14,
   "metadata": {},
   "outputs": [
    {
     "data": {
      "text/plain": [
       "(70029,)"
      ]
     },
     "execution_count": 14,
     "metadata": {},
     "output_type": "execute_result"
    }
   ],
   "source": [
    "# _, _, wT = load('weights')\n",
    "# _, _, _, LD_tis, LD_yt = load('LDFE')\n",
    "\n",
    "LD_tis_red = LD_tis @ wT\n",
    "LD_tis_red.shape"
   ]
  },
  {
   "cell_type": "code",
   "execution_count": 15,
   "metadata": {},
   "outputs": [
    {
     "name": "stdout",
     "output_type": "stream",
     "text": [
      "2856 67173\n"
     ]
    }
   ],
   "source": [
    "LD_tis_pos = []\n",
    "LD_tis_neg = []\n",
    "\n",
    "for element in zip(LD_tis_red, LD_yt):\n",
    "    if element[1] == 1:\n",
    "        LD_tis_pos.append(element[0])\n",
    "    else:\n",
    "        LD_tis_neg.append(element[0])\n",
    "        \n",
    "print(len(LD_tis_pos), len(LD_tis_neg))"
   ]
  },
  {
   "cell_type": "code",
   "execution_count": 16,
   "metadata": {},
   "outputs": [
    {
     "name": "stdout",
     "output_type": "stream",
     "text": [
      "Saved data to ./data/tis-stats.\n",
      "[0.040783104142569505, 0.9592168958574305]\n",
      "[0.038570022279141684, -0.9591166585647091]\n",
      "[0.6239910585623043, 0.15505792862395792]\n"
     ]
    }
   ],
   "source": [
    "pi, mu, sd = prior_gaussian(LD_tis_pos, LD_tis_neg)\n",
    "save('tis-stats', [pi, mu, sd])\n",
    "\n",
    "print(pi)\n",
    "print(mu)\n",
    "print(sd)"
   ]
  },
  {
   "cell_type": "code",
   "execution_count": 20,
   "metadata": {},
   "outputs": [
    {
     "name": "stdout",
     "output_type": "stream",
     "text": [
      "0.7795583050319754 -1.0162752548855885\n",
      "1.0\n",
      "9.545193701309045e-26\n"
     ]
    }
   ],
   "source": [
    "pos_test = LD_tis_pos[1]\n",
    "neg_test = LD_tis_neg[1]\n",
    "print(pos_test, neg_test)\n",
    "\n",
    "print(X3(pos_test, pi, mu, sd))\n",
    "print(X4(pos_test, pi, mu, sd))"
   ]
  },
  {
   "cell_type": "markdown",
   "metadata": {},
   "source": [
    "# Train Neural Network"
   ]
  },
  {
   "cell_type": "code",
   "execution_count": 21,
   "metadata": {},
   "outputs": [],
   "source": [
    "from keras.models import Sequential\n",
    "from keras.layers import Dense"
   ]
  },
  {
   "cell_type": "markdown",
   "metadata": {},
   "source": [
    "## Extract Codon and TIS Features"
   ]
  },
  {
   "cell_type": "code",
   "execution_count": 22,
   "metadata": {},
   "outputs": [
    {
     "name": "stdout",
     "output_type": "stream",
     "text": [
      "CPU times: user 11.5 s, sys: 547 ms, total: 12.1 s\n",
      "Wall time: 12.2 s\n",
      "Saved data to ./data/NNFE.\n"
     ]
    }
   ],
   "source": [
    "# features: tri, hex, tis_nn, gc, y\n",
    "%time NN_tri, NN_hex, NN_tis, NN_gc, NN_y = extract_codon_tis_features(NN_Data, train_nn=True)\n",
    "\n",
    "# save data\n",
    "save('NNFE', [NN_tri, NN_hex, NN_tis, NN_gc, NN_y])"
   ]
  },
  {
   "cell_type": "code",
   "execution_count": 23,
   "metadata": {},
   "outputs": [
    {
     "name": "stdout",
     "output_type": "stream",
     "text": [
      "Loaded data from ./data/weights.\n",
      "Loaded data from ./data/tis-stats.\n",
      "Loaded data from ./data/NNFE.\n"
     ]
    }
   ],
   "source": [
    "# load data\n",
    "wM, wD, wT = load('weights')\n",
    "pi, mu, sd = load('tis-stats')\n",
    "NN_tri, NN_hex, NN_tis, NN_gc, NN_y = load('NNFE')"
   ]
  },
  {
   "cell_type": "markdown",
   "metadata": {},
   "source": [
    "## Reduce Feature Dimensions"
   ]
  },
  {
   "cell_type": "code",
   "execution_count": 24,
   "metadata": {},
   "outputs": [
    {
     "name": "stdout",
     "output_type": "stream",
     "text": [
      "(4208,) (4208,) (4208,) (4208,) (4208,) (4208,)\n"
     ]
    }
   ],
   "source": [
    "x1 = NN_tri @ wM\n",
    "x2 = NN_hex @ wD \n",
    "x3 = X3(NN_tis @ wT, pi, mu, sd)\n",
    "x4 = X4(NN_tis @ wT, pi, mu, sd)\n",
    "x7 = NN_gc\n",
    "y  = NN_y\n",
    "\n",
    "print(x1.shape, x2.shape, x3.shape, x4.shape, x7.shape, y.shape)"
   ]
  },
  {
   "cell_type": "markdown",
   "metadata": {},
   "source": [
    "## Shuffle and Split Data"
   ]
  },
  {
   "cell_type": "code",
   "execution_count": 25,
   "metadata": {},
   "outputs": [
    {
     "name": "stdout",
     "output_type": "stream",
     "text": [
      "(4208, 5) (4208,)\n"
     ]
    }
   ],
   "source": [
    "nn_data = np.stack((x1,x2,x3,x4,x7,y)).T\n",
    "\n",
    "random.seed(8)\n",
    "random.shuffle(nn_data)\n",
    "\n",
    "X = nn_data[:, :-1]\n",
    "y = nn_data[:, -1]\n",
    "\n",
    "print(X.shape, y.shape)"
   ]
  },
  {
   "cell_type": "code",
   "execution_count": 26,
   "metadata": {},
   "outputs": [],
   "source": [
    "from sklearn.model_selection import train_test_split\n",
    "X_train, X_test, y_train, y_test = train_test_split(X, y, test_size=0.2, random_state=1)\n",
    "X_train, X_val, y_train, y_val = train_test_split(X_train, y_train, test_size=0.25, random_state=1) # 0.25 x 0.8 = 0.2"
   ]
  },
  {
   "cell_type": "markdown",
   "metadata": {},
   "source": [
    "## Define Model"
   ]
  },
  {
   "cell_type": "code",
   "execution_count": 28,
   "metadata": {},
   "outputs": [],
   "source": [
    "model = Sequential()\n",
    "model.add(Dense(25, input_dim=5, activation='relu'))\n",
    "model.add(Dense(1, activation='sigmoid'))\n",
    "model.compile(loss='binary_crossentropy', optimizer='adam', metrics=['accuracy'])"
   ]
  },
  {
   "cell_type": "code",
   "execution_count": 29,
   "metadata": {},
   "outputs": [
    {
     "name": "stdout",
     "output_type": "stream",
     "text": [
      "Epoch 1/100\n",
      "40/40 [==============================] - 0s 1ms/step - loss: 0.4019 - accuracy: 0.9410\n",
      "Epoch 2/100\n",
      "40/40 [==============================] - 0s 1ms/step - loss: 0.2290 - accuracy: 0.9406\n",
      "Epoch 3/100\n",
      "40/40 [==============================] - 0s 1ms/step - loss: 0.1206 - accuracy: 0.9398\n",
      "Epoch 4/100\n",
      "40/40 [==============================] - 0s 1ms/step - loss: 0.0472 - accuracy: 0.9378\n",
      "Epoch 5/100\n",
      "40/40 [==============================] - 0s 1ms/step - loss: -0.0153 - accuracy: 0.9362\n",
      "Epoch 6/100\n",
      "40/40 [==============================] - 0s 1ms/step - loss: -0.0736 - accuracy: 0.9354\n",
      "Epoch 7/100\n",
      "40/40 [==============================] - 0s 1ms/step - loss: -0.1327 - accuracy: 0.9330\n",
      "Epoch 8/100\n",
      "40/40 [==============================] - 0s 1ms/step - loss: -0.1940 - accuracy: 0.9323\n",
      "Epoch 9/100\n",
      "40/40 [==============================] - 0s 1ms/step - loss: -0.2585 - accuracy: 0.9323\n",
      "Epoch 10/100\n",
      "40/40 [==============================] - 0s 1ms/step - loss: -0.3284 - accuracy: 0.9307\n",
      "Epoch 11/100\n",
      "40/40 [==============================] - 0s 1ms/step - loss: -0.4030 - accuracy: 0.9295\n",
      "Epoch 12/100\n",
      "40/40 [==============================] - 0s 1ms/step - loss: -0.4830 - accuracy: 0.9271\n",
      "Epoch 13/100\n",
      "40/40 [==============================] - 0s 1ms/step - loss: -0.5688 - accuracy: 0.9247\n",
      "Epoch 14/100\n",
      "40/40 [==============================] - 0s 1ms/step - loss: -0.6610 - accuracy: 0.9239\n",
      "Epoch 15/100\n",
      "40/40 [==============================] - 0s 1ms/step - loss: -0.7596 - accuracy: 0.9216\n",
      "Epoch 16/100\n",
      "40/40 [==============================] - 0s 1ms/step - loss: -0.8597 - accuracy: 0.9196\n",
      "Epoch 17/100\n",
      "40/40 [==============================] - 0s 1ms/step - loss: -0.9679 - accuracy: 0.9176\n",
      "Epoch 18/100\n",
      "40/40 [==============================] - 0s 2ms/step - loss: -1.0824 - accuracy: 0.9160\n",
      "Epoch 19/100\n",
      "40/40 [==============================] - 0s 1ms/step - loss: -1.2003 - accuracy: 0.9160\n",
      "Epoch 20/100\n",
      "40/40 [==============================] - 0s 2ms/step - loss: -1.3300 - accuracy: 0.9152\n",
      "Epoch 21/100\n",
      "40/40 [==============================] - 0s 2ms/step - loss: -1.4644 - accuracy: 0.9148\n",
      "Epoch 22/100\n",
      "40/40 [==============================] - 0s 2ms/step - loss: -1.6029 - accuracy: 0.9152\n",
      "Epoch 23/100\n",
      "40/40 [==============================] - 0s 1ms/step - loss: -1.7502 - accuracy: 0.9152\n",
      "Epoch 24/100\n",
      "40/40 [==============================] - 0s 1ms/step - loss: -1.9023 - accuracy: 0.9148\n",
      "Epoch 25/100\n",
      "40/40 [==============================] - 0s 1ms/step - loss: -2.0642 - accuracy: 0.9148\n",
      "Epoch 26/100\n",
      "40/40 [==============================] - 0s 2ms/step - loss: -2.2304 - accuracy: 0.9148\n",
      "Epoch 27/100\n",
      "40/40 [==============================] - 0s 2ms/step - loss: -2.4074 - accuracy: 0.9144\n",
      "Epoch 28/100\n",
      "40/40 [==============================] - 0s 1ms/step - loss: -2.5888 - accuracy: 0.9144\n",
      "Epoch 29/100\n",
      "40/40 [==============================] - 0s 1ms/step - loss: -2.7727 - accuracy: 0.9144\n",
      "Epoch 30/100\n",
      "40/40 [==============================] - 0s 1ms/step - loss: -2.9696 - accuracy: 0.9144\n",
      "Epoch 31/100\n",
      "40/40 [==============================] - 0s 1ms/step - loss: -3.1648 - accuracy: 0.9144\n",
      "Epoch 32/100\n",
      "40/40 [==============================] - 0s 1ms/step - loss: -3.3696 - accuracy: 0.9148\n",
      "Epoch 33/100\n",
      "40/40 [==============================] - 0s 1ms/step - loss: -3.5752 - accuracy: 0.9144\n",
      "Epoch 34/100\n",
      "40/40 [==============================] - 0s 2ms/step - loss: -3.7914 - accuracy: 0.9144\n",
      "Epoch 35/100\n",
      "40/40 [==============================] - 0s 1ms/step - loss: -4.0092 - accuracy: 0.9152\n",
      "Epoch 36/100\n",
      "40/40 [==============================] - 0s 2ms/step - loss: -4.2324 - accuracy: 0.9152\n",
      "Epoch 37/100\n",
      "40/40 [==============================] - 0s 1ms/step - loss: -4.4612 - accuracy: 0.9152\n",
      "Epoch 38/100\n",
      "40/40 [==============================] - 0s 1ms/step - loss: -4.6972 - accuracy: 0.9152\n",
      "Epoch 39/100\n",
      "40/40 [==============================] - 0s 2ms/step - loss: -4.9389 - accuracy: 0.9152\n",
      "Epoch 40/100\n",
      "40/40 [==============================] - 0s 2ms/step - loss: -5.1803 - accuracy: 0.9152\n",
      "Epoch 41/100\n",
      "40/40 [==============================] - 0s 2ms/step - loss: -5.4392 - accuracy: 0.9156\n",
      "Epoch 42/100\n",
      "40/40 [==============================] - 0s 1ms/step - loss: -5.6967 - accuracy: 0.9156\n",
      "Epoch 43/100\n",
      "40/40 [==============================] - 0s 1ms/step - loss: -5.9577 - accuracy: 0.9156\n",
      "Epoch 44/100\n",
      "40/40 [==============================] - 0s 1ms/step - loss: -6.2175 - accuracy: 0.9156\n",
      "Epoch 45/100\n",
      "40/40 [==============================] - 0s 1ms/step - loss: -6.4926 - accuracy: 0.9156\n",
      "Epoch 46/100\n",
      "40/40 [==============================] - 0s 1ms/step - loss: -6.7702 - accuracy: 0.9168\n",
      "Epoch 47/100\n",
      "40/40 [==============================] - 0s 1ms/step - loss: -7.0486 - accuracy: 0.9172\n",
      "Epoch 48/100\n",
      "40/40 [==============================] - 0s 1ms/step - loss: -7.3352 - accuracy: 0.9172\n",
      "Epoch 49/100\n",
      "40/40 [==============================] - 0s 1ms/step - loss: -7.6249 - accuracy: 0.9172\n",
      "Epoch 50/100\n",
      "40/40 [==============================] - 0s 1ms/step - loss: -7.9218 - accuracy: 0.9176\n",
      "Epoch 51/100\n",
      "40/40 [==============================] - 0s 2ms/step - loss: -8.2227 - accuracy: 0.9172\n",
      "Epoch 52/100\n",
      "40/40 [==============================] - 0s 1ms/step - loss: -8.5228 - accuracy: 0.9176\n",
      "Epoch 53/100\n",
      "40/40 [==============================] - 0s 1ms/step - loss: -8.8320 - accuracy: 0.9176\n",
      "Epoch 54/100\n",
      "40/40 [==============================] - 0s 2ms/step - loss: -9.1474 - accuracy: 0.9176\n",
      "Epoch 55/100\n",
      "40/40 [==============================] - 0s 2ms/step - loss: -9.4759 - accuracy: 0.9176\n",
      "Epoch 56/100\n",
      "40/40 [==============================] - 0s 1ms/step - loss: -9.8041 - accuracy: 0.9176\n",
      "Epoch 57/100\n",
      "40/40 [==============================] - 0s 1ms/step - loss: -10.1366 - accuracy: 0.9176\n",
      "Epoch 58/100\n",
      "40/40 [==============================] - 0s 1ms/step - loss: -10.4785 - accuracy: 0.9176\n",
      "Epoch 59/100\n",
      "40/40 [==============================] - 0s 1ms/step - loss: -10.8129 - accuracy: 0.9176\n",
      "Epoch 60/100\n",
      "40/40 [==============================] - 0s 2ms/step - loss: -11.1619 - accuracy: 0.9184\n",
      "Epoch 61/100\n",
      "40/40 [==============================] - 0s 1ms/step - loss: -11.5066 - accuracy: 0.9184\n",
      "Epoch 62/100\n",
      "40/40 [==============================] - 0s 1ms/step - loss: -11.8586 - accuracy: 0.9176\n",
      "Epoch 63/100\n",
      "40/40 [==============================] - 0s 1ms/step - loss: -12.2227 - accuracy: 0.9192\n",
      "Epoch 64/100\n",
      "40/40 [==============================] - 0s 1ms/step - loss: -12.5830 - accuracy: 0.9184\n",
      "Epoch 65/100\n",
      "40/40 [==============================] - 0s 1ms/step - loss: -12.9558 - accuracy: 0.9196\n",
      "Epoch 66/100\n",
      "40/40 [==============================] - 0s 1ms/step - loss: -13.3335 - accuracy: 0.9188\n",
      "Epoch 67/100\n",
      "40/40 [==============================] - 0s 1ms/step - loss: -13.7065 - accuracy: 0.9196\n",
      "Epoch 68/100\n",
      "40/40 [==============================] - 0s 1ms/step - loss: -14.0917 - accuracy: 0.9196\n",
      "Epoch 69/100\n",
      "40/40 [==============================] - 0s 1ms/step - loss: -14.4895 - accuracy: 0.9196\n",
      "Epoch 70/100\n",
      "40/40 [==============================] - 0s 1ms/step - loss: -14.8797 - accuracy: 0.9196\n",
      "Epoch 71/100\n",
      "40/40 [==============================] - 0s 1ms/step - loss: -15.2803 - accuracy: 0.9196\n",
      "Epoch 72/100\n",
      "40/40 [==============================] - 0s 2ms/step - loss: -15.6743 - accuracy: 0.9196\n",
      "Epoch 73/100\n",
      "40/40 [==============================] - 0s 2ms/step - loss: -16.0903 - accuracy: 0.9196\n",
      "Epoch 74/100\n",
      "40/40 [==============================] - 0s 2ms/step - loss: -16.4902 - accuracy: 0.9196\n",
      "Epoch 75/100\n",
      "40/40 [==============================] - 0s 1ms/step - loss: -16.9190 - accuracy: 0.9196\n",
      "Epoch 76/100\n",
      "40/40 [==============================] - 0s 1ms/step - loss: -17.3460 - accuracy: 0.9196\n",
      "Epoch 77/100\n",
      "40/40 [==============================] - 0s 1ms/step - loss: -17.7621 - accuracy: 0.9196\n",
      "Epoch 78/100\n",
      "40/40 [==============================] - 0s 1ms/step - loss: -18.1960 - accuracy: 0.9196\n",
      "Epoch 79/100\n",
      "40/40 [==============================] - 0s 1ms/step - loss: -18.6282 - accuracy: 0.9196\n",
      "Epoch 80/100\n",
      "40/40 [==============================] - 0s 2ms/step - loss: -19.0547 - accuracy: 0.9196\n",
      "Epoch 81/100\n",
      "40/40 [==============================] - 0s 1ms/step - loss: -19.4991 - accuracy: 0.9196\n",
      "Epoch 82/100\n",
      "40/40 [==============================] - 0s 1ms/step - loss: -19.9383 - accuracy: 0.9196\n",
      "Epoch 83/100\n",
      "40/40 [==============================] - 0s 1ms/step - loss: -20.3893 - accuracy: 0.9196\n",
      "Epoch 84/100\n",
      "40/40 [==============================] - 0s 1ms/step - loss: -20.8319 - accuracy: 0.9196\n",
      "Epoch 85/100\n",
      "40/40 [==============================] - 0s 1ms/step - loss: -21.2970 - accuracy: 0.9196\n",
      "Epoch 86/100\n",
      "40/40 [==============================] - 0s 1ms/step - loss: -21.7592 - accuracy: 0.9200\n",
      "Epoch 87/100\n",
      "40/40 [==============================] - 0s 1ms/step - loss: -22.2038 - accuracy: 0.9196\n",
      "Epoch 88/100\n",
      "40/40 [==============================] - 0s 1ms/step - loss: -22.6943 - accuracy: 0.9196\n",
      "Epoch 89/100\n",
      "40/40 [==============================] - 0s 2ms/step - loss: -23.1526 - accuracy: 0.9196\n",
      "Epoch 90/100\n",
      "40/40 [==============================] - 0s 1ms/step - loss: -23.6326 - accuracy: 0.9196\n",
      "Epoch 91/100\n",
      "40/40 [==============================] - 0s 1ms/step - loss: -24.1025 - accuracy: 0.9196\n",
      "Epoch 92/100\n",
      "40/40 [==============================] - 0s 1ms/step - loss: -24.5814 - accuracy: 0.9196\n",
      "Epoch 93/100\n",
      "40/40 [==============================] - 0s 1ms/step - loss: -25.0671 - accuracy: 0.9196\n",
      "Epoch 94/100\n",
      "40/40 [==============================] - 0s 1ms/step - loss: -25.5559 - accuracy: 0.9212\n",
      "Epoch 95/100\n",
      "40/40 [==============================] - 0s 1ms/step - loss: -26.0464 - accuracy: 0.9212\n",
      "Epoch 96/100\n",
      "40/40 [==============================] - 0s 1ms/step - loss: -26.5568 - accuracy: 0.9212\n",
      "Epoch 97/100\n",
      "40/40 [==============================] - 0s 1ms/step - loss: -27.0545 - accuracy: 0.9196\n",
      "Epoch 98/100\n",
      "40/40 [==============================] - 0s 1ms/step - loss: -27.5624 - accuracy: 0.9208\n",
      "Epoch 99/100\n",
      "40/40 [==============================] - 0s 1ms/step - loss: -28.0617 - accuracy: 0.9196\n",
      "Epoch 100/100\n",
      "40/40 [==============================] - 0s 1ms/step - loss: -28.5671 - accuracy: 0.9208\n"
     ]
    }
   ],
   "source": [
    "history = model.fit(X_train, y_train, epochs=100, batch_size=64)"
   ]
  },
  {
   "cell_type": "code",
   "execution_count": 30,
   "metadata": {},
   "outputs": [],
   "source": [
    "y_pred = model.predict(X_test)\n",
    "\n",
    "#Converting predictions to label\n",
    "pred = []\n",
    "for i in range(len(y_pred)):\n",
    "    pred.append(np.argmax(y_pred[i]))\n",
    "\n",
    "#Converting one hot encoded test label to label\n",
    "test = []\n",
    "for i in range(len(y_test)):\n",
    "    test.append(np.argmax(y_test[i]))"
   ]
  }
 ],
 "metadata": {
  "kernelspec": {
   "display_name": "Python 3",
   "language": "python",
   "name": "python3"
  },
  "language_info": {
   "codemirror_mode": {
    "name": "ipython",
    "version": 3
   },
   "file_extension": ".py",
   "mimetype": "text/x-python",
   "name": "python",
   "nbconvert_exporter": "python",
   "pygments_lexer": "ipython3",
   "version": "3.8.3"
  }
 },
 "nbformat": 4,
 "nbformat_minor": 4
}
