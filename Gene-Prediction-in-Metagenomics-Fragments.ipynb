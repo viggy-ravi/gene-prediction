{
 "cells": [
  {
   "cell_type": "markdown",
   "metadata": {},
   "source": [
    "# Gene-Prediction-in-Metagenomics-Fragments\n",
    "Written by: Vignesh Ravindranath, Shawn Huang\n",
    "\n",
    "This project was based on the 2008 paper ['Gene prediction in metagenomic fragments: A large scale machine learning approach'](https://bmcbioinformatics.biomedcentral.com/articles/10.1186/1471-2105-9-217) by Hoff et at. The purpose of the project is to gain a `deeper understanding of machine learning approaches behind the Orphelia gene prediction algorithm`. \n",
    "    \n",
    "The project consists of several sections:\n",
    "1. Helper Functions (preprocessing, orf-finder, find-interregions)\n",
    "2. Preprocess Genome (extract coding sequences/non-coding sequences, shuffle/split data)\n",
    "3. Extract Features (monocodon frequency, dicodon frequency, tis, gc)\n",
    "3. Linear Discriminant - Dimentionality Reduction on monocodon/dicodon/tis\n",
    "4. Binary classification neural network for coding/noncoding gene prediction\n",
    "    \n",
    "In the second section, high-dimensional features such as `monocodon (tricodon) usage`, `dicodon (hexcodon) usage`, and `translation initiation sites (TIS)` must be extracted from prokaryotic genomes. Monocodon and dicodon usage refer to the frequence of codons (3 basepairs) and dicodons (6 basepairs) in coding and noncoding regions. Coding proteins often have a TIS upstream of the start codon. These TIS patterns are extracted by comparing up and downstream regions for positive TIS candidates (true start codons in coding sequences) to negative TIS candidates (start codons in noncoding sequences).  \n",
    "    \n",
    "In the fourth section, linear discriminants are derived to reduce the dimensionality of the extracted features. The individual features (excluding GC content) are taken as multivariate linear regression problems and the Normal Equation is utilized to compute the weights (coefficient) matrix for each feature. \n",
    "    \n",
    "In the last section, a neural network is trained on the reduced features mentioned above, in addition to the `GC content`.\n",
    "\n",
    "    Summary of features:\n",
    "    x1 - tricodon       - (n,64) \n",
    "    x2 - hexcodon       - (n,4096)\n",
    "    x3 - TIS-pos        - (n,58,64 == n,3712)\n",
    "    x4 - TIS-neg        - (n,58,64 == n,3712)\n",
    "    x7 - GC content     - (n,1) column"
   ]
  },
  {
   "cell_type": "code",
   "execution_count": 1,
   "metadata": {},
   "outputs": [],
   "source": [
    "import os\n",
    "import sys\n",
    "import pickle\n",
    "\n",
    "import numpy as np\n",
    "from scipy.sparse import csr_matrix\n",
    "from tensorflow.keras.utils import to_categorical\n",
    "\n",
    "import re\n",
    "import itertools\n",
    "import textwrap\n",
    "\n",
    "from Bio import SeqIO\n",
    "from Bio.SeqUtils import GC\n",
    "from Bio.SeqRecord import SeqRecord\n",
    "from Bio.SeqFeature import SeqFeature, FeatureLocation"
   ]
  },
  {
   "cell_type": "markdown",
   "metadata": {},
   "source": [
    "# Save/Load Data"
   ]
  },
  {
   "cell_type": "code",
   "execution_count": 2,
   "metadata": {},
   "outputs": [],
   "source": [
    "def save(name, data):\n",
    "    # check for data folder\n",
    "    # check if file exists \n",
    "    filename = './data/' + name\n",
    "    outfile = open(filename, 'wb')\n",
    "    pickle.dump(data, outfile)\n",
    "    outfile.close()\n",
    "    print(f'Saved data to {filename}.')\n",
    "    \n",
    "def load(name):\n",
    "    filename = './data/' + name\n",
    "    infile = open(filename, 'rb')\n",
    "    data = pickle.load(infile)\n",
    "    infile.close()\n",
    "    print(f'Loaded data from {filename}.')\n",
    "    return data"
   ]
  },
  {
   "cell_type": "markdown",
   "metadata": {},
   "source": [
    "# Helper Functions"
   ]
  },
  {
   "cell_type": "markdown",
   "metadata": {},
   "source": [
    "## Preprocessing Genome Helper Function\n",
    "Preprocessing a genome consists of extracting valid coding and noncoding sequences. Coding sequences are simply the genes themselves and serve as positive test samples. Noncoding sequences are open reading frames (ORFs) found in the interregions of a genome. These sequences start with a start codon and end with a stop codon, but they do not code for proteins - negative test samples. "
   ]
  },
  {
   "cell_type": "code",
   "execution_count": 169,
   "metadata": {},
   "outputs": [],
   "source": [
    "def preprocess_genome(seq_record, dna, OFFSET=30):\n",
    "    # Get positive ORFs (coding sequences (CDS) or genes)\n",
    "    l_min = 60 # ref: Hoff et al. paper\n",
    "    cds = []\n",
    "    for feature in seq_record.features:\n",
    "        if feature.type == 'CDS':\n",
    "            tag    = feature.qualifiers['locus_tag'][0]\n",
    "            start  = feature.location.start.position\n",
    "            end    = feature.location.end.position\n",
    "            strand = feature.strand\n",
    "            m30    = (dna[0][start-OFFSET:start] if strand == 1 else dna[1][::-1][end:end+OFFSET][::-1]).seq\n",
    "            seq    = (dna[0][start:end] if strand == 1 else dna[1][::-1][start:end][::-1]).seq\n",
    "            p30    = (dna[0][end:end+OFFSET] if strand == 1 else dna[1][::-1][start-OFFSET:start][::-1]).seq\n",
    "            \n",
    "            if len(seq) < l_min: continue # check if orf length > l_min = 60\n",
    "            \n",
    "            f = [SeqFeature(FeatureLocation(start, end, strand), type='CDS')]\n",
    "            r = SeqRecord(m30+seq+p30, name=tag, id=prokaryote_id, features=f)            \n",
    "            cds.append(r)\n",
    "            \n",
    "    # Find interregions\n",
    "    interregions = get_interregions(cds)\n",
    "    \n",
    "    # Get negative ORFs(longest ORF in interregion)\n",
    "    ## interregion (i or intr)\n",
    "    ## longest orf (long)\n",
    "    \n",
    "    ncs = []\n",
    "    for interregion in interregions:\n",
    "        feature = interregion.features[0]\n",
    "        strand  = feature.strand\n",
    "\n",
    "        # find longest orf in interregion\n",
    "        i_start  = feature.location.start.position\n",
    "        i_end    = feature.location.end.position\n",
    "        intr_seq = dna[0][i_start:i_end] if strand == 1 else dna[1][::-1][i_start:i_end][::-1]\n",
    "        long_orf = longest_orf(intr_seq.seq)\n",
    "\n",
    "        if not long_orf: continue                       # check if orf exists \n",
    "        if long_orf[1] - long_orf[0] < 60: continue  # check if orf length > l_min = 60\n",
    "\n",
    "        tag   = interregion.name\n",
    "        start = i_start + long_orf[0]\n",
    "        end   = i_start + long_orf[1]\n",
    "\n",
    "        m_start = start - OFFSET\n",
    "        m_end = end + OFFSET\n",
    "        \n",
    "        m30   = (dna[0][m_start:start] if strand == 1 else dna[1][::-1][end-1:m_end-1][::-1]).seq\n",
    "        seq   = intr_seq[long_orf[0]:long_orf[1]].seq\n",
    "        p30   = (dna[0][end:m_end] if strand == 1 else dna[1][::-1][m_start-1:start-1][::-1]).seq\n",
    "        \n",
    "        f = [SeqFeature(FeatureLocation(start, end, strand), type='NCS')]\n",
    "        r = SeqRecord(m30+seq+p30, name=tag, id=prokaryote_id, features=f)\n",
    "        ncs.append(r)\n",
    "    \n",
    "    return cds, ncs"
   ]
  },
  {
   "cell_type": "markdown",
   "metadata": {},
   "source": [
    "## Find Interregions Helper Function\n",
    "Searches between genes (coding sequences) for interregion sequences."
   ]
  },
  {
   "cell_type": "code",
   "execution_count": 2,
   "metadata": {},
   "outputs": [],
   "source": [
    "# Copyright(C) 2009 Iddo Friedberg & Ian MC Fleming\n",
    "# Released under Biopython license. http://www.biopython.org/DIST/LICENSE\n",
    "# Do not remove this comment\n",
    "def get_interregions(coding_records):\n",
    "    cds_list_plus = []\n",
    "    cds_list_minus = []\n",
    "    intergenic_records = []\n",
    "    \n",
    "    initials = coding_records[0].name[0:2]\n",
    "    prokaryote_id = seq_record.id\n",
    "\n",
    "    # Loop over the genome file, get the CDS features on each of the strands\n",
    "    for record in coding_records:\n",
    "        feature = record.features[0]\n",
    "        mystart = feature.location.start.position\n",
    "        myend = feature.location.end.position\n",
    "        if feature.strand == -1:\n",
    "            cds_list_minus.append((mystart,myend,-1))\n",
    "        elif feature.strand == 1:\n",
    "            cds_list_plus.append((mystart,myend,1))\n",
    "        else:\n",
    "            sys.stderr.write(\"No strand indicated %d-%d. Assuming +\\n\" %(mystart, myend))\n",
    "            cds_list_plus.append((mystart,myend,1))\n",
    "    for i,pospair in enumerate(cds_list_plus[1:]):\n",
    "        # Compare current start position to previous end position\n",
    "        last_end = cds_list_plus[i][1]\n",
    "        this_start = pospair[0]\n",
    "        if this_start - last_end >= 1:\n",
    "            intergene_seq = seq_record.seq[last_end:this_start]\n",
    "            strand_string = +1\n",
    "            name = initials + '_NC' + str(i).zfill(5)\n",
    "            feature = [SeqFeature(FeatureLocation(last_end+1,this_start,strand_string), type='interregion')]\n",
    "            intergenic_records.append(SeqRecord(intergene_seq, name=name, id=prokaryote_id, features=feature))\n",
    "    buffer = i\n",
    "    for i,pospair in enumerate(cds_list_minus[1:]):\n",
    "        last_end = cds_list_minus[i][1]\n",
    "        this_start = pospair[0]\n",
    "        if this_start - last_end >= 1:\n",
    "            intergene_seq = seq_record.seq[last_end:this_start]\n",
    "            strand_string = -1\n",
    "            name = initials + '_NC' + str(i+buffer).zfill(5)\n",
    "            feature = [SeqFeature(FeatureLocation(last_end+1,this_start,strand_string), type='interregion')]\n",
    "            intergenic_records.append(SeqRecord(intergene_seq, name=name, id=prokaryote_id, features=feature))\n",
    "    return intergenic_records"
   ]
  },
  {
   "cell_type": "markdown",
   "metadata": {},
   "source": [
    "## ORF Finder Helper Functions\n",
    "Purpose is to find all valid ORFs in a given Bio.Seq.Seq sequence."
   ]
  },
  {
   "cell_type": "code",
   "execution_count": 3,
   "metadata": {},
   "outputs": [],
   "source": [
    "START_CODONS = ['ATG','CTG','GTG','TTG']\n",
    "STOP_CODONS = ['TAG','TGA','TAA']\n",
    "\n",
    "def _codon_pos(seq, codon_list):\n",
    "    pos = []\n",
    "    for codon in codon_list:\n",
    "        matches = re.finditer(codon, str(seq))\n",
    "        matches_positions = [match.start() for match in matches]\n",
    "        pos.extend(matches_positions)\n",
    "    return sorted(pos)\n",
    "\n",
    "'''\n",
    "Input: Bio.Seq.Seq\n",
    "Output: returns start and end position of longest orf in a sequence\n",
    "'''\n",
    "def longest_orf(seq):\n",
    "    all_starts = _codon_pos(seq, START_CODONS)\n",
    "    all_stops  = _codon_pos(seq, STOP_CODONS)\n",
    "\n",
    "    orfs = []\n",
    "    found = False;            \n",
    "    for s in all_starts:\n",
    "        for e in all_stops[::-1]:\n",
    "            if (e >= s) and ((e-s)%3 == 0):\n",
    "                found = True; orfs = [s,e+3];\n",
    "                break\n",
    "        if found: break\n",
    "            \n",
    "    return orfs\n",
    "\n",
    "'''\n",
    "Input: Bio.Seq.Seq\n",
    "Output: returns all in-frame start codons within an ORF sequence\n",
    "'''\n",
    "def orf_finder(orf_seq):\n",
    "    all_starts = _codon_pos(orf_seq, START_CODONS)\n",
    "\n",
    "    # find all ORF\n",
    "    orfs = []\n",
    "    e = len(orf_seq)\n",
    "    for s in all_starts:\n",
    "        if (e >= s) and (s%3 == 0):\n",
    "            orfs.append([s,e])\n",
    "    return orfs"
   ]
  },
  {
   "cell_type": "markdown",
   "metadata": {},
   "source": [
    "## Fetch Genome Using Entrez"
   ]
  },
  {
   "cell_type": "code",
   "execution_count": 5,
   "metadata": {},
   "outputs": [],
   "source": [
    "def fetch_genome(prokaryote_id):\n",
    "    # seq_records (features) from GenBank file\n",
    "    handle = Entrez.efetch(db=\"sequences\", id=prokaryote_id, rettype=\"gbwithparts\", retmode=\"text\")\n",
    "    seq_record = SeqIO.read(handle, \"gb\")\n",
    "    handle.close()\n",
    "    print(f'Fetched {prokaryote_id} GenBank sequence')\n",
    "\n",
    "    # full sequence from FASTA file\n",
    "    handle = Entrez.efetch(db=\"sequences\", id=prokaryote_id, rettype=\"fasta\", retmode=\"text\")\n",
    "    sequence = SeqIO.read(handle, \"fasta\")\n",
    "    handle.close()\n",
    "    print(f'Fetched {prokaryote_id} FASTA sequence')\n",
    "    \n",
    "    return seq_record, sequence"
   ]
  },
  {
   "cell_type": "markdown",
   "metadata": {},
   "source": [
    "# Preprocess Genome"
   ]
  },
  {
   "cell_type": "markdown",
   "metadata": {},
   "source": [
    "## Find CDS and NCS from Genome"
   ]
  },
  {
   "cell_type": "code",
   "execution_count": 7,
   "metadata": {},
   "outputs": [
    {
     "name": "stdout",
     "output_type": "stream",
     "text": [
      "Fetched NC_000917 GenBank sequence\n",
      "Fetched NC_000917 FASTA sequence\n"
     ]
    }
   ],
   "source": [
    "from Bio import Entrez\n",
    "Entrez.email = \"vignesh.ravindranath@gmail.com\"\n",
    "\n",
    "# fetch genome\n",
    "prokaryote_id = 'NC_000917'\n",
    "seq_record, sequence = fetch_genome(prokaryote_id) \n",
    "\n",
    "# store coding, noncoding strands\n",
    "dna = [sequence, sequence.reverse_complement()]"
   ]
  },
  {
   "cell_type": "code",
   "execution_count": 170,
   "metadata": {},
   "outputs": [
    {
     "name": "stdout",
     "output_type": "stream",
     "text": [
      "CPU times: user 9.33 s, sys: 31.2 ms, total: 9.36 s\n",
      "Wall time: 9.35 s\n",
      "2473 CDS Records\n",
      "944 NCS Records\n"
     ]
    }
   ],
   "source": [
    "# preprocess genome \n",
    "%time _cds, _ncs = preprocess_genome(seq_record, dna)\n",
    "print(f'{len(_cds)} CDS Records')\n",
    "print(f'{len(_ncs)} NCS Records')"
   ]
  },
  {
   "cell_type": "code",
   "execution_count": 173,
   "metadata": {},
   "outputs": [
    {
     "name": "stdout",
     "output_type": "stream",
     "text": [
      "Saved data to ./data/orfs.\n"
     ]
    }
   ],
   "source": [
    "# save data\n",
    "save('orfs', [_cds, _ncs])"
   ]
  },
  {
   "cell_type": "markdown",
   "metadata": {},
   "source": [
    "## *Load CDS and NCS Data"
   ]
  },
  {
   "cell_type": "code",
   "execution_count": 3,
   "metadata": {},
   "outputs": [
    {
     "name": "stdout",
     "output_type": "stream",
     "text": [
      "Loaded data from ./data/orfs.\n",
      "2473 CDS ORFs\n",
      "944 NCS ORFs\n"
     ]
    }
   ],
   "source": [
    "# load data\n",
    "_cds, _ncs = load('orfs')\n",
    "\n",
    "print(f'{len(_cds)} CDS ORFs')\n",
    "print(f'{len(_ncs)} NCS ORFs')"
   ]
  },
  {
   "cell_type": "markdown",
   "metadata": {},
   "source": [
    "## *Suffle and Split Data\n",
    "Positive (CDS) and negative (NCS) sequences will be split into linear discriminant training data (50%) and neural network training data (50%). \n",
    "- 50% Linear Discriminant (LD) training\n",
    "- 40% NN Training\n",
    "- 5% NN Validation\n",
    "- 5% NN Testing"
   ]
  },
  {
   "cell_type": "code",
   "execution_count": 4,
   "metadata": {},
   "outputs": [
    {
     "name": "stdout",
     "output_type": "stream",
     "text": [
      "AF_RS04145 AF_NC01437\n",
      "AF_RS11540 AF_NC01750\n",
      "AF_RS02565 AF_NC01308\n",
      "AF_RS11405 AF_NC00093\n",
      "AF_RS07390 AF_NC00403\n"
     ]
    }
   ],
   "source": [
    "import random\n",
    "random.seed(8)\n",
    "random.shuffle(_cds)\n",
    "random.shuffle(_ncs)\n",
    "\n",
    "for i in range(5):\n",
    "    print(_cds[i].name, _ncs[i].name)"
   ]
  },
  {
   "cell_type": "code",
   "execution_count": 5,
   "metadata": {},
   "outputs": [
    {
     "name": "stdout",
     "output_type": "stream",
     "text": [
      "LD Dataset: 1236\n",
      "LD Dataset: 1708\n",
      "NN Dataset: 1709\n"
     ]
    }
   ],
   "source": [
    "a = int(len(_cds)/2)\n",
    "b = int(len(_ncs)/2)\n",
    "\n",
    "LD_Tis_Data = _cds[0:a]\n",
    "LD_Cod_Data = _cds[0:a] + _ncs[0:b]\n",
    "NN_Data = _cds[a:] + _ncs[b:]\n",
    "\n",
    "print(f'LD Dataset: {len(LD_Tis_Data)}')\n",
    "print(f'LD Dataset: {len(LD_Cod_Data)}')\n",
    "print(f'NN Dataset: {len(NN_Data)}')"
   ]
  },
  {
   "cell_type": "markdown",
   "metadata": {},
   "source": [
    "# Extract Features Functions\n",
    "Extracts monocodon frequency (tri), dicodon frequency (hex), translation initiation site (tis) information, and gc content.\n",
    "- Monocodon Frequency: 64-size array with counts of each codon possibility in seq (AAA, AAC, ..., TTT)\n",
    "- Dicodon Frequency: 4096-size array with counts of each dicodon possibility in seq (AAAAAA, AAAAAC, ..., TTTTTT)\n",
    "- TIS: (64,58)-size matrix with codon occurance at each position. Position is centered about the start codon.\n",
    "- GC Content: (count(G)+count(C))/len(seq)"
   ]
  },
  {
   "cell_type": "markdown",
   "metadata": {},
   "source": [
    "## Codon Frequency Helper Functions"
   ]
  },
  {
   "cell_type": "code",
   "execution_count": 8,
   "metadata": {},
   "outputs": [],
   "source": [
    "# Produces all tri/hex codon permutations 4^n (ex. AAA, AAC,...,TTT for n=3) \n",
    "def permutations_with_replacement(n):\n",
    "    for i in itertools.product((\"A\", \"C\", \"G\", \"T\"), repeat=n):\n",
    "        yield i\n",
    "\n",
    "# Function to create codon:idx dictionary. Converts codons to integers (ex. {AAA:0, AAC:1, ..., TTT:63} for n=3)\n",
    "def populate_codon_idx_dict(nbases=3):\n",
    "    codon_idx_dict = {}\n",
    "    count = 0\n",
    "    for i in permutations_with_replacement(nbases):\n",
    "        key = \"\".join(i) #codon or dicodon sequence\n",
    "        codon_idx_dict[key] = count\n",
    "        count += 1\n",
    "    return codon_idx_dict\n",
    "\n",
    "\n",
    "TRICODON_IDX_DICT = populate_codon_idx_dict(nbases=3)\n",
    "HEXCODON_IDX_DICT = populate_codon_idx_dict(nbases=6)\n",
    "\n",
    "\n",
    "# Parse dna sequence into a list of codons separated by nbases\n",
    "# Input: Bio.Seq.Seq\n",
    "'''\n",
    "Ex. Input  - AAATTTGGG\n",
    "    Output - ['AAA','TTT','GGG'] if nbases=3\n",
    "           = ['AAATTT','TTTGGG'] if nbases=6\n",
    "'''\n",
    "def _codon_parser(seq, nbases):\n",
    "    codon_seq = [seq[i:i+nbases] for i in range(0,len(seq),3) if (i+nbases)<len(seq)]\n",
    "    return codon_seq\n",
    "\n",
    "# Returns count of tri/hex codon frequencies in list form\n",
    "# Input: Bio.Seq.Seq\n",
    "def codon_frequency(seq, nbases):      \n",
    "    codon_idx_dict = TRICODON_IDX_DICT if nbases==3 else HEXCODON_IDX_DICT\n",
    "    frame = [0]*len(codon_idx_dict)\n",
    "    \n",
    "    parsed_codons = _codon_parser(seq, nbases)\n",
    "    for codon in parsed_codons:\n",
    "        frame[codon_idx_dict[codon]] += 1\n",
    "    frame[codon_idx_dict[parsed_codons[-1]]] += 1 # add last codon\n",
    "    \n",
    "    return frame\n",
    "\n",
    "# reference for unit Euclidean norm\n",
    "# https://stackoverflow.com/questions/18524112/norm-along-row-in-pandas\n",
    "def extract_codon_usage(seq, n):\n",
    "    frame = codon_frequency(seq, n)\n",
    "    frame_norm = frame / np.sqrt(np.sum(np.square(frame))) # faster than np.linalg.norm\n",
    "    data = np.array(frame_norm)\n",
    "    return data"
   ]
  },
  {
   "cell_type": "markdown",
   "metadata": {},
   "source": [
    "## Extract Features"
   ]
  },
  {
   "cell_type": "code",
   "execution_count": 14,
   "metadata": {},
   "outputs": [],
   "source": [
    "def extract_codon_features(orfs, train_nn=False, OFFSET=30):\n",
    "\n",
    "    _tri, _hex, _gc, _yc = [], [], [], []\n",
    "    _tis_nn = []\n",
    "    \n",
    "    for record in orfs:\n",
    "        seq = record[OFFSET:-OFFSET].seq\n",
    "\n",
    "        # MONOCODON FREQUENCE\n",
    "        tri_data = extract_codon_usage(seq, 3)\n",
    "        _tri.append(tri_data)\n",
    "        \n",
    "        # DICODON FREQUENCE\n",
    "        hex_data = extract_codon_usage(seq, 6)\n",
    "        _hex.append(hex_data)\n",
    "        \n",
    "        # TIS\n",
    "        if train_nn:\n",
    "            seq60 = record[0:(2*OFFSET)].seq\n",
    "            frame = [TRICODON_IDX_DICT[seq60[i:i+3]] for i in range(0,len(seq60)-2)]\n",
    "            tis_data = np.array(to_categorical(frame, num_classes=64).astype(int).reshape(-1))\n",
    "            _tis_nn.append(tis_data)\n",
    "\n",
    "        # GC\n",
    "        gc_data = np.float16(GC(seq) / 100)\n",
    "        _gc.append(gc_data)\n",
    "        \n",
    "        # Y\n",
    "        typ = record.features[0].type\n",
    "        if typ == 'CDS': _yc.append(1)\n",
    "        else: _yc.append(-1)\n",
    "        \n",
    "    return np.array(_tri), np.array(_hex), np.array(_tis_nn), np.array(_gc), np.array(_yc)"
   ]
  },
  {
   "cell_type": "code",
   "execution_count": 10,
   "metadata": {},
   "outputs": [],
   "source": [
    "def extract_tis_features(cds, OFFSET=30):\n",
    "    _tis, _yt = [], []\n",
    "    for record in cds:\n",
    "        seq = record.seq\n",
    "        \n",
    "        # find orf-set\n",
    "        orf_set = orf_finder(seq[OFFSET:-OFFSET])\n",
    "        \n",
    "        for i,cand in enumerate(orf_set):\n",
    "            cand_start = cand[0] + OFFSET\n",
    "            \n",
    "            # find sequence window and populate codon information (58,) at each position\n",
    "            seq60 = record[(cand_start-OFFSET):(cand_start+OFFSET)].seq \n",
    "            frame = [TRICODON_IDX_DICT[seq60[i:i+3]] for i in range(0,len(seq60)-2)]\n",
    "\n",
    "            # convert frame to (58,64) using to_categorical and flatten to 1D array\n",
    "            tis_data = np.array(to_categorical(frame, num_classes=64).astype(int).reshape(-1))\n",
    "            \n",
    "            _tis.append(tis_data)\n",
    "            if i == 0: _yt.append(1)\n",
    "            else: _yt.append(-1)\n",
    "                \n",
    "    return np.array(_tis), np.array(_yt)"
   ]
  },
  {
   "cell_type": "markdown",
   "metadata": {},
   "source": [
    "# Linear Discriminant - Dimensionality Reduction"
   ]
  },
  {
   "cell_type": "markdown",
   "metadata": {},
   "source": [
    "## Extract Features from LD_Data"
   ]
  },
  {
   "cell_type": "code",
   "execution_count": 180,
   "metadata": {},
   "outputs": [
    {
     "name": "stdout",
     "output_type": "stream",
     "text": [
      "CPU times: user 3.31 s, sys: 156 ms, total: 3.47 s\n",
      "Wall time: 3.47 s\n",
      "CPU times: user 3.61 s, sys: 1.88 s, total: 5.48 s\n",
      "Wall time: 5.49 s\n"
     ]
    }
   ],
   "source": [
    "# feature extraction\n",
    "\n",
    "# codon features: tri, hex, tis_nn, gc, y\n",
    "%time LD_tri, LD_hex, _, _, LD_yc = extract_codon_features(LD_Cod_Data, train_nn=False)\n",
    "\n",
    "# tis features: tis, yt\n",
    "%time LD_tis, LD_yt = extract_tis_features(LD_Tis_Data)"
   ]
  },
  {
   "cell_type": "code",
   "execution_count": 181,
   "metadata": {},
   "outputs": [
    {
     "name": "stdout",
     "output_type": "stream",
     "text": [
      "Saved data to ./data/LDFE.\n"
     ]
    }
   ],
   "source": [
    "# save data\n",
    "save('LDFE', [LD_tri, LD_hex, LD_yc, LD_tis, LD_yt])"
   ]
  },
  {
   "cell_type": "markdown",
   "metadata": {},
   "source": [
    "## *Load LD_Data Extracted Features"
   ]
  },
  {
   "cell_type": "code",
   "execution_count": 3,
   "metadata": {},
   "outputs": [
    {
     "name": "stdout",
     "output_type": "stream",
     "text": [
      "Loaded data from ./data/LDFE.\n"
     ]
    }
   ],
   "source": [
    "# load data\n",
    "LD_tri, LD_hex, LD_yc, LD_tis, LD_yt = load('LDFE')"
   ]
  },
  {
   "cell_type": "markdown",
   "metadata": {},
   "source": [
    "## Minimize Linear Regression using Normal Equation"
   ]
  },
  {
   "cell_type": "markdown",
   "metadata": {},
   "source": [
    "We need to minimize:\n",
    "\n",
    "$$ E(w_M) = \\frac{1}{n}\\sum_{i=0}^{n}(w_m \\cdot x_M^i - y_i)^2 + \\lambda w_M \\cdot w_M $$\n",
    "\n",
    "where $x_M^i \\in \\mathbb{R}^{64}$ is the $i-th$ column of the monocodon frequency matrix $\\textbf{X}_M$, $n=64$ monocodon possibilities, $y_M^i \\in (-1, 1)$ is the $i-th$ element of the label vector, and $w_M$ is the discriminant weight vector.\n",
    "\n",
    "We can minimize $E$ by:\n",
    "\n",
    "$$w_M = (X_MX_M^T +\\lambda n\\textbf{I})^{-1}X_My_M$$\n",
    "\n",
    "This can be generalized to train the discriminant vector $w$ for dicodon frequency and TIS. "
   ]
  },
  {
   "cell_type": "markdown",
   "metadata": {},
   "source": [
    "### Solve for Linear Discriminant Weight Vectors"
   ]
  },
  {
   "cell_type": "code",
   "execution_count": 182,
   "metadata": {},
   "outputs": [],
   "source": [
    "'''\n",
    "X (_,n), where n = 64, 4096, or 3712\n",
    "'''\n",
    "def train_linear_discriminant(X, y, l=1):    \n",
    "    I = np.eye(X.shape[1])\n",
    "    return np.linalg.inv(X.T@X + l*I) @ X.T@y"
   ]
  },
  {
   "cell_type": "code",
   "execution_count": 183,
   "metadata": {},
   "outputs": [
    {
     "name": "stdout",
     "output_type": "stream",
     "text": [
      "CPU times: user 62.5 ms, sys: 0 ns, total: 62.5 ms\n",
      "Wall time: 29.8 ms\n"
     ]
    },
    {
     "data": {
      "text/plain": [
       "(64,)"
      ]
     },
     "execution_count": 183,
     "metadata": {},
     "output_type": "execute_result"
    }
   ],
   "source": [
    "# LD_tri\n",
    "XM = csr_matrix(LD_tri)\n",
    "%time wM = train_linear_discriminant(XM, LD_yc)\n",
    "wM = np.array(wM).reshape(-1)\n",
    "wM.shape"
   ]
  },
  {
   "cell_type": "code",
   "execution_count": 184,
   "metadata": {},
   "outputs": [
    {
     "name": "stdout",
     "output_type": "stream",
     "text": [
      "CPU times: user 11 s, sys: 1.55 s, total: 12.5 s\n",
      "Wall time: 6.49 s\n"
     ]
    },
    {
     "data": {
      "text/plain": [
       "(4096,)"
      ]
     },
     "execution_count": 184,
     "metadata": {},
     "output_type": "execute_result"
    }
   ],
   "source": [
    "# LD_hex\n",
    "XD = csr_matrix(LD_hex) \n",
    "%time wD = train_linear_discriminant(XD, LD_yc)\n",
    "wD = np.array(wD).reshape(-1)\n",
    "wD.shape"
   ]
  },
  {
   "cell_type": "code",
   "execution_count": 185,
   "metadata": {},
   "outputs": [
    {
     "name": "stdout",
     "output_type": "stream",
     "text": [
      "CPU times: user 9.73 s, sys: 2.08 s, total: 11.8 s\n",
      "Wall time: 7.89 s\n"
     ]
    },
    {
     "data": {
      "text/plain": [
       "(3712,)"
      ]
     },
     "execution_count": 185,
     "metadata": {},
     "output_type": "execute_result"
    }
   ],
   "source": [
    "# LD_tis\n",
    "XT = csr_matrix(LD_tis) \n",
    "%time wT = train_linear_discriminant(XT, LD_yt)\n",
    "wT = np.array(wT).reshape(-1)\n",
    "wT.shape"
   ]
  },
  {
   "cell_type": "code",
   "execution_count": 186,
   "metadata": {},
   "outputs": [
    {
     "data": {
      "text/plain": [
       "<matplotlib.axes._subplots.AxesSubplot at 0x7f354a139f40>"
      ]
     },
     "execution_count": 186,
     "metadata": {},
     "output_type": "execute_result"
    },
    {
     "data": {
      "image/png": "[encoded data removed]",
      "text/plain": [
       "<Figure size 842.4x595.44 with 2 Axes>"
      ]
     },
     "metadata": {
      "needs_background": "light"
     },
     "output_type": "display_data"
    }
   ],
   "source": [
    "# visualize TIS patterns (up and downstream regions)\n",
    "import pandas as pd\n",
    "import seaborn as sns\n",
    "import matplotlib.pyplot as plt\n",
    "\n",
    "w = np.array(wT).reshape(58,64).T\n",
    "\n",
    "y_axis_labels = populate_codon_idx_dict().keys() \n",
    "x_axis_labels = [i for i in range(-30,28)]\n",
    "\n",
    "df = pd.DataFrame(w, columns=x_axis_labels, index=y_axis_labels)\n",
    "\n",
    "a4_dims = (11.7, 8.27)\n",
    "fig, ax = plt.subplots(figsize=a4_dims)\n",
    "sns.heatmap(ax=ax, data=df, cmap=\"YlGnBu\")"
   ]
  },
  {
   "cell_type": "markdown",
   "metadata": {},
   "source": [
    "### Save Weights"
   ]
  },
  {
   "cell_type": "code",
   "execution_count": 187,
   "metadata": {},
   "outputs": [
    {
     "name": "stdout",
     "output_type": "stream",
     "text": [
      "Saved data to ./data/weights.\n"
     ]
    }
   ],
   "source": [
    "# save data\n",
    "save('weights', [wM, wD, wT])"
   ]
  },
  {
   "cell_type": "markdown",
   "metadata": {},
   "source": [
    "## *Fit Gaussian Distribution to TIS Feature"
   ]
  },
  {
   "cell_type": "code",
   "execution_count": 22,
   "metadata": {},
   "outputs": [],
   "source": [
    "from scipy.stats import norm\n",
    "\n",
    "def prior_gaussian(tis_pos, tis_neg):\n",
    "    pos_y = len(tis_pos)\n",
    "    neg_y = len(tis_neg)\n",
    "    tis_y = pos_y + neg_y\n",
    "    \n",
    "    # prior probabilities\n",
    "    pi_pos = pos_y/tis_y\n",
    "    pi_neg = neg_y/tis_y\n",
    "\n",
    "    # gaussian mean and sd\n",
    "    mu_pos = np.mean(tis_pos)\n",
    "    sd_pos = np.std(tis_pos)\n",
    "\n",
    "    mu_neg = np.mean(tis_neg)\n",
    "    sd_neg = np.std(tis_neg)\n",
    "\n",
    "    return [pi_pos, pi_neg], [mu_pos, mu_neg], [sd_pos, sd_neg]\n",
    "    \n",
    "# returns probability that tis sequence is tis positive (from a gene) \n",
    "def X3(s, pi, mu, sd):\n",
    "    likelihood = norm.pdf(s, mu[0], sd[0])\n",
    "    marginal = pi[0]*norm.pdf(s, mu[0], sd[0]) + pi[1]*norm.pdf(s, mu[1], sd[1])\n",
    "    \n",
    "    return (pi[0] * likelihood) / marginal\n",
    "\n",
    "# returns probability that tis sequence is tis negative (not from a gene)\n",
    "def X4(s, pi, mu, sd):\n",
    "    likelihood = norm.pdf(s, mu[1], sd[1])\n",
    "    marginal = pi[0]*norm.pdf(s, mu[0], sd[0]) + pi[1]*norm.pdf(s, mu[1], sd[1])\n",
    "    \n",
    "    return (pi[1] * likelihood) / marginal"
   ]
  },
  {
   "cell_type": "code",
   "execution_count": 189,
   "metadata": {},
   "outputs": [
    {
     "data": {
      "text/plain": [
       "(27338,)"
      ]
     },
     "execution_count": 189,
     "metadata": {},
     "output_type": "execute_result"
    }
   ],
   "source": [
    "_, _, wT = load('weights')\n",
    "LD_tis_red = LD_tis @ wT\n",
    "LD_tis_red.shape"
   ]
  },
  {
   "cell_type": "code",
   "execution_count": 190,
   "metadata": {},
   "outputs": [
    {
     "name": "stdout",
     "output_type": "stream",
     "text": [
      "1236 26102\n"
     ]
    }
   ],
   "source": [
    "LD_tis_pos = []\n",
    "LD_tis_neg = []\n",
    "\n",
    "for element in zip(LD_tis_red, LD_yt):\n",
    "    if element[1] == 1:\n",
    "        LD_tis_pos.append(element[0])\n",
    "    else:\n",
    "        LD_tis_neg.append(element[0])\n",
    "        \n",
    "print(len(LD_tis_pos), len(LD_tis_neg))"
   ]
  },
  {
   "cell_type": "markdown",
   "metadata": {},
   "source": [
    "### Save tis statistics"
   ]
  },
  {
   "cell_type": "code",
   "execution_count": 191,
   "metadata": {},
   "outputs": [
    {
     "name": "stdout",
     "output_type": "stream",
     "text": [
      "Saved data to ./data/tis-stats.\n",
      "[0.04521179310849367, 0.9547882068915063]\n",
      "[0.16513664352450205, -0.9604509605631415]\n",
      "[0.5368255912872503, 0.17466255691044522]\n"
     ]
    }
   ],
   "source": [
    "pi, mu, sd = prior_gaussian(LD_tis_pos, LD_tis_neg)\n",
    "save('tis-stats', [pi, mu, sd])\n",
    "\n",
    "print(pi)\n",
    "print(mu)\n",
    "print(sd)"
   ]
  },
  {
   "cell_type": "code",
   "execution_count": 192,
   "metadata": {},
   "outputs": [
    {
     "name": "stdout",
     "output_type": "stream",
     "text": [
      "0.4770622890779112 -0.5234222167192724\n"
     ]
    }
   ],
   "source": [
    "pos_test = LD_tis_pos[0]\n",
    "neg_test = LD_tis_neg[0]\n",
    "print(pos_test, neg_test)"
   ]
  },
  {
   "cell_type": "code",
   "execution_count": 193,
   "metadata": {},
   "outputs": [
    {
     "name": "stdout",
     "output_type": "stream",
     "text": [
      "0.9999999999998498\n",
      "1.5023254084523182e-13\n"
     ]
    }
   ],
   "source": [
    "print(X3(pos_test, pi, mu, sd))\n",
    "print(X4(pos_test, pi, mu, sd))"
   ]
  },
  {
   "cell_type": "code",
   "execution_count": 194,
   "metadata": {},
   "outputs": [
    {
     "name": "stdout",
     "output_type": "stream",
     "text": [
      "0.13409676835181558\n",
      "0.8659032316481844\n"
     ]
    }
   ],
   "source": [
    "print(X3(neg_test, pi, mu, sd))\n",
    "print(X4(neg_test, pi, mu, sd))"
   ]
  },
  {
   "cell_type": "markdown",
   "metadata": {},
   "source": [
    "# Binary Neural Network Classification"
   ]
  },
  {
   "cell_type": "code",
   "execution_count": 6,
   "metadata": {},
   "outputs": [],
   "source": [
    "from keras.models import Sequential\n",
    "from keras.layers import Dense"
   ]
  },
  {
   "cell_type": "markdown",
   "metadata": {},
   "source": [
    "## Extract Features from NN_Data"
   ]
  },
  {
   "cell_type": "code",
   "execution_count": 15,
   "metadata": {},
   "outputs": [
    {
     "name": "stdout",
     "output_type": "stream",
     "text": [
      "CPU times: user 3.92 s, sys: 281 ms, total: 4.2 s\n",
      "Wall time: 4.18 s\n"
     ]
    }
   ],
   "source": [
    "# feature extraction\n",
    "\n",
    "# codon features: tri, hex, tis_nn, gc, y\n",
    "%time NN_tri, NN_hex, NN_tis, NN_gc, NN_y = extract_codon_features(NN_Data, train_nn=True)"
   ]
  },
  {
   "cell_type": "code",
   "execution_count": 16,
   "metadata": {},
   "outputs": [
    {
     "name": "stdout",
     "output_type": "stream",
     "text": [
      "Saved data to ./data/NNFE.\n"
     ]
    }
   ],
   "source": [
    "# save data\n",
    "save('NNFE', [NN_tri, NN_hex, NN_tis, NN_gc, NN_y])"
   ]
  },
  {
   "cell_type": "markdown",
   "metadata": {},
   "source": [
    "## Load NN_Data Extracted Features"
   ]
  },
  {
   "cell_type": "code",
   "execution_count": 20,
   "metadata": {},
   "outputs": [
    {
     "name": "stdout",
     "output_type": "stream",
     "text": [
      "Loaded data from ./data/weights.\n",
      "Loaded data from ./data/tis-stats.\n",
      "Loaded data from ./data/NNFE.\n"
     ]
    }
   ],
   "source": [
    "# load data\n",
    "wM, wD, wT = load('weights')\n",
    "pi, mu, sd = load('tis-stats')\n",
    "NN_tri, NN_hex, NN_tis, NN_gc, NN_y = load('NNFE')"
   ]
  },
  {
   "cell_type": "markdown",
   "metadata": {},
   "source": [
    "## Reduce Features"
   ]
  },
  {
   "cell_type": "code",
   "execution_count": 23,
   "metadata": {},
   "outputs": [
    {
     "name": "stdout",
     "output_type": "stream",
     "text": [
      "(1709,) (1709,) (1709,) (1709,) (1709,) (1709,)\n"
     ]
    }
   ],
   "source": [
    "x1 = NN_tri @ wM\n",
    "x2 = NN_hex @ wD \n",
    "x3 = X3(NN_tis @ wT, pi, mu, sd)\n",
    "x4 = X4(NN_tis @ wT, pi, mu, sd)\n",
    "x7 = NN_gc\n",
    "y  = NN_y\n",
    "\n",
    "print(x1.shape, x2.shape, x3.shape, x4.shape, x7.shape, y.shape)"
   ]
  },
  {
   "cell_type": "code",
   "execution_count": 30,
   "metadata": {},
   "outputs": [
    {
     "name": "stdout",
     "output_type": "stream",
     "text": [
      "(1709, 5) (1709,)\n"
     ]
    }
   ],
   "source": [
    "nn_data = np.stack((x1,x2,x3,x4,x7,y)).T\n",
    "\n",
    "random.seed(8)\n",
    "random.shuffle(nn_data)\n",
    "\n",
    "X = nn_data[:, :-1]\n",
    "y = nn_data[:, -1]\n",
    "\n",
    "print(X.shape, y.shape)"
   ]
  },
  {
   "cell_type": "code",
   "execution_count": 31,
   "metadata": {},
   "outputs": [],
   "source": [
    "from sklearn.model_selection import train_test_split\n",
    "X_train, X_test, y_train, y_test = train_test_split(X, y, test_size=0.2, random_state=1)\n",
    "X_train, X_val, y_train, y_val = train_test_split(X_train, y_train, test_size=0.25, random_state=1) # 0.25 x 0.8 = 0.2"
   ]
  },
  {
   "cell_type": "markdown",
   "metadata": {},
   "source": [
    "## Define model"
   ]
  },
  {
   "cell_type": "code",
   "execution_count": 34,
   "metadata": {},
   "outputs": [],
   "source": [
    "model = Sequential()\n",
    "model.add(Dense(8, input_dim=5, activation='relu'))\n",
    "model.add(Dense(1, activation='sigmoid'))\n",
    "model.compile(loss='binary_crossentropy', optimizer='adam', metrics=['accuracy'])"
   ]
  },
  {
   "cell_type": "markdown",
   "metadata": {},
   "source": [
    "## Train NN"
   ]
  },
  {
   "cell_type": "code",
   "execution_count": 35,
   "metadata": {},
   "outputs": [
    {
     "name": "stdout",
     "output_type": "stream",
     "text": [
      "Epoch 1/100\n",
      "17/17 [==============================] - 0s 1ms/step - loss: 0.5094 - accuracy: 0.9483\n",
      "Epoch 2/100\n",
      "17/17 [==============================] - 0s 1ms/step - loss: 0.4662 - accuracy: 0.9571\n",
      "Epoch 3/100\n",
      "17/17 [==============================] - 0s 1ms/step - loss: 0.4241 - accuracy: 0.9571\n",
      "Epoch 4/100\n",
      "17/17 [==============================] - 0s 1ms/step - loss: 0.3830 - accuracy: 0.9571\n",
      "Epoch 5/100\n",
      "17/17 [==============================] - 0s 1ms/step - loss: 0.3437 - accuracy: 0.9571\n",
      "Epoch 6/100\n",
      "17/17 [==============================] - 0s 1ms/step - loss: 0.3058 - accuracy: 0.9571\n",
      "Epoch 7/100\n",
      "17/17 [==============================] - 0s 1ms/step - loss: 0.2705 - accuracy: 0.9571\n",
      "Epoch 8/100\n",
      "17/17 [==============================] - 0s 1ms/step - loss: 0.2369 - accuracy: 0.9571\n",
      "Epoch 9/100\n",
      "17/17 [==============================] - 0s 1ms/step - loss: 0.2059 - accuracy: 0.9571\n",
      "Epoch 10/100\n",
      "17/17 [==============================] - 0s 1ms/step - loss: 0.1757 - accuracy: 0.9571\n",
      "Epoch 11/100\n",
      "17/17 [==============================] - 0s 1ms/step - loss: 0.1414 - accuracy: 0.9571\n",
      "Epoch 12/100\n",
      "17/17 [==============================] - 0s 1ms/step - loss: 0.1067 - accuracy: 0.9571\n",
      "Epoch 13/100\n",
      "17/17 [==============================] - 0s 1ms/step - loss: 0.0780 - accuracy: 0.9571\n",
      "Epoch 14/100\n",
      "17/17 [==============================] - 0s 1ms/step - loss: 0.0536 - accuracy: 0.9571\n",
      "Epoch 15/100\n",
      "17/17 [==============================] - 0s 1ms/step - loss: 0.0331 - accuracy: 0.9571\n",
      "Epoch 16/100\n",
      "17/17 [==============================] - 0s 1ms/step - loss: 0.0151 - accuracy: 0.9571\n",
      "Epoch 17/100\n",
      "17/17 [==============================] - 0s 1ms/step - loss: -0.0015 - accuracy: 0.9571\n",
      "Epoch 18/100\n",
      "17/17 [==============================] - 0s 1ms/step - loss: -0.0154 - accuracy: 0.9571\n",
      "Epoch 19/100\n",
      "17/17 [==============================] - 0s 1ms/step - loss: -0.0295 - accuracy: 0.9571\n",
      "Epoch 20/100\n",
      "17/17 [==============================] - 0s 1ms/step - loss: -0.0423 - accuracy: 0.9561\n",
      "Epoch 21/100\n",
      "17/17 [==============================] - 0s 1ms/step - loss: -0.0543 - accuracy: 0.9561\n",
      "Epoch 22/100\n",
      "17/17 [==============================] - 0s 1ms/step - loss: -0.0656 - accuracy: 0.9561\n",
      "Epoch 23/100\n",
      "17/17 [==============================] - 0s 1ms/step - loss: -0.0765 - accuracy: 0.9561\n",
      "Epoch 24/100\n",
      "17/17 [==============================] - 0s 1ms/step - loss: -0.0882 - accuracy: 0.9561\n",
      "Epoch 25/100\n",
      "17/17 [==============================] - 0s 1ms/step - loss: -0.0981 - accuracy: 0.9561\n",
      "Epoch 26/100\n",
      "17/17 [==============================] - 0s 1ms/step - loss: -0.1093 - accuracy: 0.9493\n",
      "Epoch 27/100\n",
      "17/17 [==============================] - 0s 1ms/step - loss: -0.1187 - accuracy: 0.9493\n",
      "Epoch 28/100\n",
      "17/17 [==============================] - 0s 2ms/step - loss: -0.1291 - accuracy: 0.9493\n",
      "Epoch 29/100\n",
      "17/17 [==============================] - 0s 1ms/step - loss: -0.1381 - accuracy: 0.9493\n",
      "Epoch 30/100\n",
      "17/17 [==============================] - 0s 1ms/step - loss: -0.1491 - accuracy: 0.9483\n",
      "Epoch 31/100\n",
      "17/17 [==============================] - 0s 1ms/step - loss: -0.1587 - accuracy: 0.9483\n",
      "Epoch 32/100\n",
      "17/17 [==============================] - 0s 1ms/step - loss: -0.1687 - accuracy: 0.9483\n",
      "Epoch 33/100\n",
      "17/17 [==============================] - 0s 1ms/step - loss: -0.1788 - accuracy: 0.9483\n",
      "Epoch 34/100\n",
      "17/17 [==============================] - 0s 1ms/step - loss: -0.1886 - accuracy: 0.9463\n",
      "Epoch 35/100\n",
      "17/17 [==============================] - 0s 953us/step - loss: -0.1990 - accuracy: 0.9463\n",
      "Epoch 36/100\n",
      "17/17 [==============================] - 0s 965us/step - loss: -0.2088 - accuracy: 0.9454\n",
      "Epoch 37/100\n",
      "17/17 [==============================] - 0s 968us/step - loss: -0.2190 - accuracy: 0.9444\n",
      "Epoch 38/100\n",
      "17/17 [==============================] - 0s 964us/step - loss: -0.2296 - accuracy: 0.9434\n",
      "Epoch 39/100\n",
      "17/17 [==============================] - 0s 1ms/step - loss: -0.2401 - accuracy: 0.9434\n",
      "Epoch 40/100\n",
      "17/17 [==============================] - 0s 925us/step - loss: -0.2475 - accuracy: 0.9434\n",
      "Epoch 41/100\n",
      "17/17 [==============================] - 0s 1ms/step - loss: -0.2546 - accuracy: 0.9444\n",
      "Epoch 42/100\n",
      "17/17 [==============================] - 0s 1ms/step - loss: -0.2640 - accuracy: 0.9444\n",
      "Epoch 43/100\n",
      "17/17 [==============================] - 0s 1ms/step - loss: -0.2732 - accuracy: 0.9444\n",
      "Epoch 44/100\n",
      "17/17 [==============================] - 0s 1ms/step - loss: -0.2869 - accuracy: 0.9434\n",
      "Epoch 45/100\n",
      "17/17 [==============================] - 0s 1ms/step - loss: -0.2975 - accuracy: 0.9434\n",
      "Epoch 46/100\n",
      "17/17 [==============================] - 0s 1ms/step - loss: -0.3057 - accuracy: 0.9434\n",
      "Epoch 47/100\n",
      "17/17 [==============================] - 0s 1ms/step - loss: -0.3138 - accuracy: 0.9434\n",
      "Epoch 48/100\n",
      "17/17 [==============================] - 0s 1ms/step - loss: -0.3211 - accuracy: 0.9434\n",
      "Epoch 49/100\n",
      "17/17 [==============================] - 0s 1ms/step - loss: -0.3291 - accuracy: 0.9424\n",
      "Epoch 50/100\n",
      "17/17 [==============================] - 0s 990us/step - loss: -0.3374 - accuracy: 0.9424\n",
      "Epoch 51/100\n",
      "17/17 [==============================] - 0s 1ms/step - loss: -0.3461 - accuracy: 0.9434\n",
      "Epoch 52/100\n",
      "17/17 [==============================] - 0s 1ms/step - loss: -0.3546 - accuracy: 0.9434\n",
      "Epoch 53/100\n",
      "17/17 [==============================] - 0s 1ms/step - loss: -0.3634 - accuracy: 0.9434\n",
      "Epoch 54/100\n",
      "17/17 [==============================] - 0s 955us/step - loss: -0.3720 - accuracy: 0.9434\n",
      "Epoch 55/100\n",
      "17/17 [==============================] - 0s 1ms/step - loss: -0.3816 - accuracy: 0.9434\n",
      "Epoch 56/100\n",
      "17/17 [==============================] - 0s 1ms/step - loss: -0.3901 - accuracy: 0.9424\n",
      "Epoch 57/100\n",
      "17/17 [==============================] - 0s 1ms/step - loss: -0.3997 - accuracy: 0.9434\n",
      "Epoch 58/100\n",
      "17/17 [==============================] - 0s 986us/step - loss: -0.4086 - accuracy: 0.9424\n",
      "Epoch 59/100\n",
      "17/17 [==============================] - 0s 1ms/step - loss: -0.4184 - accuracy: 0.9424\n",
      "Epoch 60/100\n",
      "17/17 [==============================] - 0s 909us/step - loss: -0.4278 - accuracy: 0.9424\n",
      "Epoch 61/100\n",
      "17/17 [==============================] - 0s 1ms/step - loss: -0.4378 - accuracy: 0.9424\n",
      "Epoch 62/100\n",
      "17/17 [==============================] - 0s 1ms/step - loss: -0.4473 - accuracy: 0.9424\n",
      "Epoch 63/100\n",
      "17/17 [==============================] - 0s 1ms/step - loss: -0.4581 - accuracy: 0.9424\n",
      "Epoch 64/100\n",
      "17/17 [==============================] - 0s 1ms/step - loss: -0.4679 - accuracy: 0.9424\n",
      "Epoch 65/100\n",
      "17/17 [==============================] - 0s 1ms/step - loss: -0.4781 - accuracy: 0.9424\n",
      "Epoch 66/100\n",
      "17/17 [==============================] - 0s 1ms/step - loss: -0.4888 - accuracy: 0.9424\n",
      "Epoch 67/100\n",
      "17/17 [==============================] - 0s 1ms/step - loss: -0.4989 - accuracy: 0.9415\n",
      "Epoch 68/100\n",
      "17/17 [==============================] - 0s 1ms/step - loss: -0.5103 - accuracy: 0.9415\n",
      "Epoch 69/100\n",
      "17/17 [==============================] - 0s 1ms/step - loss: -0.5209 - accuracy: 0.9415\n",
      "Epoch 70/100\n",
      "17/17 [==============================] - 0s 1ms/step - loss: -0.5324 - accuracy: 0.9415\n",
      "Epoch 71/100\n",
      "17/17 [==============================] - 0s 1ms/step - loss: -0.5433 - accuracy: 0.9415\n",
      "Epoch 72/100\n",
      "17/17 [==============================] - 0s 1ms/step - loss: -0.5553 - accuracy: 0.9415\n",
      "Epoch 73/100\n",
      "17/17 [==============================] - 0s 1ms/step - loss: -0.5663 - accuracy: 0.9415\n",
      "Epoch 74/100\n",
      "17/17 [==============================] - 0s 1ms/step - loss: -0.5783 - accuracy: 0.9415\n",
      "Epoch 75/100\n",
      "17/17 [==============================] - 0s 1ms/step - loss: -0.5894 - accuracy: 0.9415\n",
      "Epoch 76/100\n",
      "17/17 [==============================] - 0s 1ms/step - loss: -0.6028 - accuracy: 0.9415\n",
      "Epoch 77/100\n",
      "17/17 [==============================] - 0s 1ms/step - loss: -0.6147 - accuracy: 0.9415\n",
      "Epoch 78/100\n",
      "17/17 [==============================] - 0s 1ms/step - loss: -0.6267 - accuracy: 0.9415\n",
      "Epoch 79/100\n",
      "17/17 [==============================] - 0s 1ms/step - loss: -0.6390 - accuracy: 0.9415\n",
      "Epoch 80/100\n",
      "17/17 [==============================] - 0s 942us/step - loss: -0.6520 - accuracy: 0.9415\n",
      "Epoch 81/100\n",
      "17/17 [==============================] - 0s 931us/step - loss: -0.6647 - accuracy: 0.9415\n",
      "Epoch 82/100\n",
      "17/17 [==============================] - 0s 916us/step - loss: -0.6723 - accuracy: 0.9415\n",
      "Epoch 83/100\n",
      "17/17 [==============================] - 0s 946us/step - loss: -0.6795 - accuracy: 0.9415\n",
      "Epoch 84/100\n",
      "17/17 [==============================] - 0s 925us/step - loss: -0.6903 - accuracy: 0.9415\n",
      "Epoch 85/100\n",
      "17/17 [==============================] - 0s 934us/step - loss: -0.7013 - accuracy: 0.9415\n",
      "Epoch 86/100\n",
      "17/17 [==============================] - 0s 948us/step - loss: -0.7137 - accuracy: 0.9415\n",
      "Epoch 87/100\n",
      "17/17 [==============================] - 0s 939us/step - loss: -0.7248 - accuracy: 0.9415\n",
      "Epoch 88/100\n",
      "17/17 [==============================] - 0s 880us/step - loss: -0.7373 - accuracy: 0.9415\n",
      "Epoch 89/100\n",
      "17/17 [==============================] - 0s 951us/step - loss: -0.7483 - accuracy: 0.9415\n",
      "Epoch 90/100\n",
      "17/17 [==============================] - 0s 1ms/step - loss: -0.7618 - accuracy: 0.9415\n",
      "Epoch 91/100\n",
      "17/17 [==============================] - 0s 1ms/step - loss: -0.7743 - accuracy: 0.9415\n",
      "Epoch 92/100\n",
      "17/17 [==============================] - 0s 946us/step - loss: -0.7866 - accuracy: 0.9415\n",
      "Epoch 93/100\n",
      "17/17 [==============================] - 0s 1ms/step - loss: -0.7994 - accuracy: 0.9415\n",
      "Epoch 94/100\n",
      "17/17 [==============================] - 0s 1ms/step - loss: -0.8130 - accuracy: 0.9415\n",
      "Epoch 95/100\n",
      "17/17 [==============================] - 0s 988us/step - loss: -0.8226 - accuracy: 0.9415\n",
      "Epoch 96/100\n",
      "17/17 [==============================] - 0s 1ms/step - loss: -0.8338 - accuracy: 0.9415\n",
      "Epoch 97/100\n",
      "17/17 [==============================] - 0s 1ms/step - loss: -0.8459 - accuracy: 0.9415\n",
      "Epoch 98/100\n",
      "17/17 [==============================] - 0s 1ms/step - loss: -0.8591 - accuracy: 0.9415\n",
      "Epoch 99/100\n",
      "17/17 [==============================] - 0s 1ms/step - loss: -0.8716 - accuracy: 0.9415\n",
      "Epoch 100/100\n",
      "17/17 [==============================] - 0s 1ms/step - loss: -0.8848 - accuracy: 0.9415\n"
     ]
    }
   ],
   "source": [
    "history = model.fit(X_train, y_train, epochs=100, batch_size=64)"
   ]
  },
  {
   "cell_type": "code",
   "execution_count": 36,
   "metadata": {},
   "outputs": [],
   "source": [
    "y_pred = model.predict(X_test)\n",
    "\n",
    "#Converting predictions to label\n",
    "pred = []\n",
    "for i in range(len(y_pred)):\n",
    "    pred.append(np.argmax(y_pred[i]))\n",
    "\n",
    "#Converting one hot encoded test label to label\n",
    "test = []\n",
    "for i in range(len(y_test)):\n",
    "    test.append(np.argmax(y_test[i]))"
   ]
  },
  {
   "cell_type": "code",
   "execution_count": 37,
   "metadata": {},
   "outputs": [
    {
     "name": "stdout",
     "output_type": "stream",
     "text": [
      "Accuracy is: 100.0\n"
     ]
    }
   ],
   "source": [
    "from sklearn.metrics import accuracy_score\n",
    "a = accuracy_score(pred, test)\n",
    "print('Accuracy is:', a*100)"
   ]
  }
 ],
 "metadata": {
  "kernelspec": {
   "display_name": "Python 3",
   "language": "python",
   "name": "python3"
  },
  "language_info": {
   "codemirror_mode": {
    "name": "ipython",
    "version": 3
   },
   "file_extension": ".py",
   "mimetype": "text/x-python",
   "name": "python",
   "nbconvert_exporter": "python",
   "pygments_lexer": "ipython3",
   "version": "3.8.3"
  }
 },
 "nbformat": 4,
 "nbformat_minor": 4
}
