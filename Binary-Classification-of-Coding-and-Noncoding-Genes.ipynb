{
 "cells": [
  {
   "cell_type": "markdown",
   "metadata": {
    "tags": []
   },
   "source": [
    "# Binary Classification of Coding and Noncoding Genes in Prokaryotic Genomes\n",
    "\n",
    "## Introduction\n",
    "\n",
    "This project was based on the 2008 paper ['Gene prediction in metagenomic fragments: A large scale machine learning approach'](https://bmcbioinformatics.biomedcentral.com/articles/10.1186/1471-2105-9-217) by Hoff et at. The goal of this notebook is to train the gene prediction algorithm using a 2-stage approach - linear discriminant and neural network. The linear discriminant model reduces high dimensional features and the neural network predicts if a given sequence is a gene or not. My intentions for starting this project were to gain a deeper understanding of machine learning approaches behind the `Orphelia gene prediction algorithm` and sharpen my programming skills. \n",
    "\n",
    "See the `examples` folder for example code.\n",
    "       \n",
    "## Background\n",
    "Genes are structured sequences of DNA that code for proteins. They begin with a start codon - ATG, CTG, GTG, or TTG - and end with an in-frame stop codon - TAG, TGA, or TAA. Noncoding sequences are sequences found in intergenic regions (space between genes) of the genome that also start with a start codon and end with an in-frame stop codon; however, these sequences do not code for proteins. \n",
    "\n",
    "Rather than training a predictive algorithm on the sequence itself, meaningful features can be extracted from genes to better determine if a given sequence is a gene or not. These features include `monocodon (tricodon) usage`, `dicodon (hexcodon) usage`, `translation initiation sites (TIS)`, and `GC` content. \n",
    "\n",
    "However, the first three features mentioned above contain a lot of information (high diminsionality), and therefore need to be dimensionally reduced. This is done by training a linear discriminant (or weights of a linear regression model) to reduce each of those features into a single value. \n",
    "\n",
    "Lastly, with the extracted/reduced features, a binary neural network can be trained to predict if a given sequence codes for a protein (gene) or not. \n",
    "\n",
    "## Content\n",
    "1. Preprocess Genome \n",
    "    * extract coding sequences (genes) and noncoding sequences, \n",
    "    * shuffle and split data\n",
    "2. Extract High Dimensional Features\n",
    "    * monocodon (tricodon) frequency, \n",
    "    * dicodon (hexcodon) frequency, \n",
    "    * translation initiation site (TIS)\n",
    "3. Train Linear Discriminant For Dimentional Reduction \n",
    "4. Train Binary Neural Network for Gene Prediction"
   ]
  },
  {
   "cell_type": "markdown",
   "metadata": {
    "tags": []
   },
   "source": [
    "# Google Colab Setup\n",
    "\n",
    "First clone the `gene-prediction` repository to Google Colab (see setup in `README.md`). Then install dependencies (see code below)."
   ]
  },
  {
   "cell_type": "code",
   "execution_count": null,
   "metadata": {},
   "outputs": [],
   "source": [
    "# Install dependencies\n",
    "!pip install -r requirements.txt\n",
    "\n",
    "# Install biopython library manually\n",
    "!pip3 install biopython\n",
    "\n",
    "# Pull latest code\n",
    "!git pull"
   ]
  },
  {
   "cell_type": "markdown",
   "metadata": {
    "tags": []
   },
   "source": [
    "# Import Packages"
   ]
  },
  {
   "cell_type": "code",
   "execution_count": 1,
   "metadata": {},
   "outputs": [],
   "source": [
    "# Enter your email for the Entrez API \n",
    "email = \"vignesh.ravindranath@gmail.com\""
   ]
  },
  {
   "cell_type": "code",
   "execution_count": 2,
   "metadata": {},
   "outputs": [
    {
     "name": "stderr",
     "output_type": "stream",
     "text": [
      "2021-09-06 02:03:59.375557: W tensorflow/stream_executor/platform/default/dso_loader.cc:64] Could not load dynamic library 'libcudart.so.11.0'; dlerror: libcudart.so.11.0: cannot open shared object file: No such file or directory; LD_LIBRARY_PATH: /usr/local/cuda-10.1/lib64\n",
      "2021-09-06 02:03:59.375645: I tensorflow/stream_executor/cuda/cudart_stub.cc:29] Ignore above cudart dlerror if you do not have a GPU set up on your machine.\n"
     ]
    }
   ],
   "source": [
    "import os\n",
    "import sys\n",
    "import numpy as np\n",
    "from scipy.sparse import csr_matrix\n",
    "from Bio import Entrez\n",
    "Entrez.email = email\n",
    "\n",
    "# will inform your notebook to actively reload all \n",
    "# imported modules and packages as they are modified\n",
    "%load_ext autoreload\n",
    "%autoreload\n",
    "\n",
    "# self defined functions\n",
    "from preprocess import preprocess_genome\n",
    "from fe import extract_features, extract_tis_training_feature, populate_codon_idx_dict\n",
    "from ld import train_linear_discriminant, prior_gaussian, X3, X4"
   ]
  },
  {
   "cell_type": "markdown",
   "metadata": {
    "tags": []
   },
   "source": [
    "# Preprocess Genome"
   ]
  },
  {
   "cell_type": "markdown",
   "metadata": {},
   "source": [
    "## Extract Positive/Negative ORFs\n",
    "Preprocessing a genome consists of finding all valid open reading frames (ORFs). ORFs start with a start codon (ATG, CTG, GTG, or TGT) and end with an in-frame stop codon (TAG, TGA, or TAA). To train our neural network, we need to find positive ORFs - sequencies that code for a protein (i.e. genes) -  and negative ORFs - sequencies in the genome that start with a start codon and end with an in-frame stop codon, but don't code for a protein. The negative ORFs can be found in the interregions of a genome or space between genes. \n",
    "\n",
    "For this project, positive ORFs will be referred to as CDS or **C**o**D**ing **S**equences, and negative ORFs will be referred to as NCS or **N**on **C**oding **S**equences."
   ]
  },
  {
   "cell_type": "code",
   "execution_count": 3,
   "metadata": {},
   "outputs": [
    {
     "name": "stdout",
     "output_type": "stream",
     "text": [
      "Successfully fetched NC_000917\n",
      "2478 CDS Records, 950 NCS Records\n",
      "\n",
      "Successfully fetched NC_003305\n",
      "1876 CDS Records, 892 NCS Records\n",
      "\n",
      "Successfully fetched NC_004842\n",
      "955 CDS Records, 578 NCS Records\n",
      "\n",
      "5309 Total CDS Records\n",
      "2420 Total NCS Records\n",
      "CPU times: user 1min 56s, sys: 1.16 s, total: 1min 57s\n",
      "Wall time: 2min 53s\n"
     ]
    }
   ],
   "source": [
    "# preprocess_genome takes an input TEXT file of \n",
    "# GenBank accession numbers from the `inputs` folder.\n",
    "#\n",
    "# See the `inputs` folder for examples. You can add \n",
    "# your own input text file with unique accession \n",
    "# numbers for preprocessing\n",
    "\n",
    "%time _cds, _ncs = preprocess_genome('input_test.txt')"
   ]
  },
  {
   "cell_type": "code",
   "execution_count": 4,
   "metadata": {},
   "outputs": [
    {
     "name": "stdout",
     "output_type": "stream",
     "text": [
      "47.88 kB\n",
      "21.88 kB\n"
     ]
    }
   ],
   "source": [
    "print(f'{sys.getsizeof(_cds) / 1000} kB')\n",
    "print(f'{sys.getsizeof(_ncs) / 1000} kB')"
   ]
  },
  {
   "cell_type": "markdown",
   "metadata": {
    "jp-MarkdownHeadingCollapsed": true,
    "tags": []
   },
   "source": [
    "### Biopython SeqRecord Structure Examples"
   ]
  },
  {
   "cell_type": "markdown",
   "metadata": {},
   "source": [
    "The CDS and NCS data above are lists of Biopython **SeqRecord** that contain information about each sequence, such as `ID`, `Name`, `Description`, `Number of features`, and `Seq`.\n",
    "\n",
    "* `ID` is the GenBank accession number for the prokaryotic genome the sequence was extracted from. \n",
    "* `Name` is a auto-generated identifier that the program creates for each sequence. \n",
    "* `Description` is blank. \n",
    "* `Number of features` includes another Biopython data structure called **SeqFeature** that contains information about the type (CDS or NCS), start location on the genome, the stop location on the genome, and what strand the gene originated from - (+) if it came from the template strand and (-) if it came from the coding strand. \n",
    "* `Seq` is another Biopython object that contains the sequence of the gene. \n",
    "\n",
    "**NOTE**: the sequence contains a buffer of *30 basepairs upstream of the start codon* and *30 basepairs downstream of the stop codon*. The additional information is necessary to extract the TIS feature."
   ]
  },
  {
   "cell_type": "code",
   "execution_count": 8,
   "metadata": {},
   "outputs": [
    {
     "name": "stdout",
     "output_type": "stream",
     "text": [
      "ID: NC_000917\n",
      "Name: AF_RS09825\n",
      "Description: <unknown description>\n",
      "Number of features: 1\n",
      "Seq('TTTTAATTTTTTAAGTTCGCAGAACACTCCATGAATGTTGGATATCTCTGCACT...GAA')\n"
     ]
    }
   ],
   "source": [
    "print(_cds[0])"
   ]
  },
  {
   "cell_type": "code",
   "execution_count": 15,
   "metadata": {},
   "outputs": [
    {
     "name": "stdout",
     "output_type": "stream",
     "text": [
      "NC_000917\n",
      "AF_RS09825\n",
      "<unknown description>\n",
      "type: CDS\n",
      "location: [1759795:1760785](+)\n",
      "qualifiers:\n",
      "\n",
      "ATGAATGTTGGATATCTCTGCACTTACACTCCAAAAGAGCTTATCGACGCTGCGGGCTTCACACCAATAAGGATTTTTGCTGGTGACATGCAAATCAGCCTCGCCACAGCACATATTCAGAGTTACGCCTGCTCTCAGGCAAGGGGGAGCCTTGAGAGGGCTCTAAGAGGAGAGCTAGATGTTCAGGCGGTTGTTTTCACGAGGTGCTGCGACACTCTCATGCGATTAGCCGACATCTGGGAGAGAAACACAGATATGAGAGTTTACAACATCGAATTCCCCACGAGGGTTGAGGAGAGAAGCAAGGATTACTACTTCAACGAGCTCAAGGACTTCGTCAAAGTTCTCGAAGAGTGGGGCGGTGGTGTTACACTCGAGAGTTTGAGGGAGAGTCTAAAACTTTATCACGAGCTTGAAGAGAAGCTTAAAAGGCTTTTCAGCCTCAAGCCTGACTACGAAGCAGCAAAGAGAGTTCAGGAGATGAATGTAAGAGAAGCGATAAAGTTCGTGGATGAGAGGCTGCGAAAAGCTGAAAGCGAAGGTGGAAAACCGAGGGTTCTGATTACCGGAAGCGTGTGTCCCTTTGTGGAAGTTTACACTCTGTTCGAGGAGGCGGGTTTTGCCCTTAAAGACGACATCTGCACGGGAACGAGGTTCTTCACCTTCAACACACCGCCGAGAGAAATAGGGTCGGTTGATGAGGGGTTGAGGTTTCTGGTGGACAAGTACTTTGAAAAAGCCCCCTGCCCGACGAAGCACTTCCCAAATGACGATAGATTCAAATATATCCTTGAAATGGCCAAGGATTGCGACGGGGTTGTGTTCCTGCTGCTCAAGTTCTGCGAGCCGCACTTCTACGATTACCCGCAGCTTAAAGAGAGGCTTGAAGAGATGGGCAAGAAAGTTCTCCTGCTCGAACTTGAATTTCCCATCGCTTCAATCGAGCAGTTGAGGACGAGGATTGAGGCTTTCTACGAGGTGATAGCATGA\n"
     ]
    }
   ],
   "source": [
    "# to view individual attributes by themselves\n",
    "print(_cds[0].id)\n",
    "print(_cds[0].name)\n",
    "print(_cds[0].description)\n",
    "print(_cds[0].features[0])\n",
    "print(_cds[0].seq[30:-30])"
   ]
  },
  {
   "cell_type": "markdown",
   "metadata": {},
   "source": [
    "## Shuffle and Split Data\n",
    "\n",
    "The data collected (CDS and NCS records) will be randomized and split into two even parts - one half for training the linear discriminant and the other for training the neural network. Since the TIS linear discriminant only relies on CDS records, it will contain the same CDS records that are in the codon linear discriminant dataset (`LD_Cod_Data`). "
   ]
  },
  {
   "cell_type": "code",
   "execution_count": 4,
   "metadata": {},
   "outputs": [
    {
     "name": "stdout",
     "output_type": "stream",
     "text": [
      "AF_RS09825 AC_NC01145\n",
      "AF_RS10255 AF_NC01968\n",
      "ACIAD_RS10625 AC_NC00556\n",
      "AF_RS09165 AC_NC02391\n",
      "ACIAD_RS13690 AC_NC03024\n"
     ]
    }
   ],
   "source": [
    "import random\n",
    "random.seed(8)\n",
    "random.shuffle(_cds)\n",
    "random.shuffle(_ncs)\n",
    "\n",
    "for i in range(5):\n",
    "    print(_cds[i].name, _ncs[i].name)"
   ]
  },
  {
   "cell_type": "code",
   "execution_count": 5,
   "metadata": {},
   "outputs": [
    {
     "name": "stdout",
     "output_type": "stream",
     "text": [
      "LD Dataset: 2859\n",
      "LD Dataset: 4212\n",
      "NN Dataset: 4214\n"
     ]
    }
   ],
   "source": [
    "a = int(len(_cds)/2)\n",
    "b = int(len(_ncs)/2)\n",
    "\n",
    "LD_Tis_Data = _cds[0:a]\n",
    "LD_Cod_Data = _cds[0:a] + _ncs[0:b]\n",
    "NN_Data = _cds[a:] + _ncs[b:]\n",
    "\n",
    "print(f'LD Dataset: {len(LD_Tis_Data)}')\n",
    "print(f'LD Dataset: {len(LD_Cod_Data)}')\n",
    "print(f'NN Dataset: {len(NN_Data)}')"
   ]
  },
  {
   "cell_type": "markdown",
   "metadata": {
    "tags": []
   },
   "source": [
    "# Extract Features"
   ]
  },
  {
   "cell_type": "markdown",
   "metadata": {},
   "source": [
    "## Extract Codon and TIS Features for LD Training\n",
    "\n",
    "The neural network won't be taking an entire ORF sequence as an input. Rather, we will first extract important features and train the neural network on those features. Important features include codon frequency (ex. ATGCCC... => 'ATG', 'CCC', ...) and translation initiation sites (tis). For codon frequency we can extract monocodon usage (what are all the codons in the sequence) and dicodon usage (what are all the dicodons in the sequence; ex. ATGCCCTTTGGG... => 'ATGCCC', 'TTTGGG', ...). Tis usually occur upstream of the start codon for a codon sequence (gene). So, for the tis feature, we will extract a frame that looks at 30 basepairs (bp) upstream and downstream of start codons (see heatmap below)."
   ]
  },
  {
   "cell_type": "code",
   "execution_count": 6,
   "metadata": {},
   "outputs": [
    {
     "name": "stdout",
     "output_type": "stream",
     "text": [
      "CPU times: user 15.2 s, sys: 438 ms, total: 15.6 s\n",
      "Wall time: 15.8 s\n",
      "CPU times: user 15.1 s, sys: 6.47 s, total: 21.6 s\n",
      "Wall time: 21.8 s\n"
     ]
    }
   ],
   "source": [
    "# features: tri, hex, tis_nn, gc, y\n",
    "%time LD_tri, LD_hex, _, _, LD_yc = extract_features(LD_Cod_Data, train_nn=False)\n",
    "\n",
    "# tis features: tis, yt\n",
    "%time LD_tis, LD_yt = extract_tis_training_feature(LD_Tis_Data)"
   ]
  },
  {
   "cell_type": "markdown",
   "metadata": {
    "tags": []
   },
   "source": [
    "# Train Linear Discriminant for Dimensional Reduction"
   ]
  },
  {
   "cell_type": "markdown",
   "metadata": {},
   "source": [
    "We need to minimize:\n",
    "\n",
    "$$ E(w_M) = \\frac{1}{n}\\sum_{i=0}^{n}(w_m \\cdot x_M^i - y_i)^2 + \\lambda w_M \\cdot w_M $$\n",
    "\n",
    "where $x_M^i \\in \\mathbb{R}^{64}$ is the $i-th$ column of the monocodon frequency matrix $\\textbf{X}_M$, $n=64$ monocodon possibilities, $y_M^i \\in (-1, 1)$ is the $i-th$ element of the label vector, and $w_M$ is the discriminant weight vector.\n",
    "\n",
    "We can minimize $E$ by:\n",
    "\n",
    "$$w_M = (X_MX_M^T +\\lambda n\\textbf{I})^{-1}X_My_M$$\n",
    "\n",
    "This can be generalized to train the discriminant vector $w$ for dicodon frequency and TIS. "
   ]
  },
  {
   "cell_type": "code",
   "execution_count": 7,
   "metadata": {},
   "outputs": [
    {
     "name": "stdout",
     "output_type": "stream",
     "text": [
      "CPU times: user 109 ms, sys: 31.2 ms, total: 141 ms\n",
      "Wall time: 143 ms\n",
      "CPU times: user 20.8 s, sys: 2.19 s, total: 23 s\n",
      "Wall time: 15.5 s\n",
      "CPU times: user 41.1 s, sys: 8.41 s, total: 49.5 s\n",
      "Wall time: 40.9 s\n",
      "(64,) (4096,) (3712,)\n"
     ]
    }
   ],
   "source": [
    "# train weight vectors - csr_matrix (sparse row matrix) is used to speed up calculation/reduce space of data \n",
    "%time wM = train_linear_discriminant(csr_matrix(LD_tri), LD_yc) # monocodon (tri)\n",
    "%time wD = train_linear_discriminant(csr_matrix(LD_hex), LD_yc) # dicodon (hex)\n",
    "%time wT = train_linear_discriminant(csr_matrix(LD_tis), LD_yt) # tis\n",
    "\n",
    "print(wM.shape, wD.shape, wT.shape)"
   ]
  },
  {
   "cell_type": "markdown",
   "metadata": {},
   "source": [
    "## Visualizing TIS Patterns"
   ]
  },
  {
   "cell_type": "code",
   "execution_count": 10,
   "metadata": {},
   "outputs": [
    {
     "name": "stdout",
     "output_type": "stream",
     "text": [
      "Loaded data from ./data/weights.\n"
     ]
    },
    {
     "data": {
      "text/plain": [
       "<AxesSubplot:>"
      ]
     },
     "execution_count": 10,
     "metadata": {},
     "output_type": "execute_result"
    },
    {
     "data": {
      "image/png": "[encoded data removed]",
      "text/plain": [
       "<Figure size 842.4x595.44 with 2 Axes>"
      ]
     },
     "metadata": {
      "needs_background": "light"
     },
     "output_type": "display_data"
    }
   ],
   "source": [
    "import pandas as pd\n",
    "import seaborn as sns\n",
    "import matplotlib.pyplot as plt\n",
    "\n",
    "w = np.array(wT).reshape(58,64).T\n",
    "\n",
    "y_axis_labels = populate_codon_idx_dict(nbases=3).keys()\n",
    "x_axis_labels = [i for i in range(-30,28)]\n",
    "\n",
    "df = pd.DataFrame(w, columns=x_axis_labels, index=y_axis_labels)\n",
    "\n",
    "a4_dims = (11.7, 8.27)\n",
    "fig, ax = plt.subplots(figsize=a4_dims)\n",
    "sns.heatmap(ax=ax, data=df, cmap=\"YlGnBu\")"
   ]
  },
  {
   "cell_type": "markdown",
   "metadata": {},
   "source": [
    "The heatmap represents the weight vector wT of the TIS linear discriminant. So, if wT is a 2D array\n",
    "\n",
    "$$\n",
    "\\begin{bmatrix}\n",
    "w_{1,1} & ... & w_{1,58} \\\\\n",
    "& \\ddots &  \\\\\n",
    "w_{64,1} & ... & w_{64,58}\n",
    "\\end{bmatrix}\n",
    "$$\n",
    "\n",
    "then we predict if a given sequence is a gene or not by computing the TIS linear regression\n",
    "\n",
    "$$y = w_{1,1} \\cdot AAA_{-30} + ... + w_{1,64} \\cdot AAA_28 + ... + w_{64,1} \\cdot TTT_{-30} + ... + w_{64,58} \\cdot TTT_{28}$$\n",
    "\n",
    "where y is -1 (not a gene) or 1 (is a gene). The weights are multiplied by a value 0 or 1 depending on if the codon is present at the position relative to the start codon. For example if $AAA_{-30} = 1$, then at the $-30^{th}$ frame you will find the codon $AAA$. \n",
    "\n",
    "These weight values do not represent the occurrences of the codons, rather they represent the importance of those codons for predicting if a given sequence is a gene or not. \n",
    "- If a particular weight value is <0, the codon at that particular position is commonly seen in sequences that are not genes (makes y more negative). \n",
    "- If a particular weight value is 0, the codon at that particular position does not help in predicting if a given sequence is a gene or not. \n",
    "- If a particular weight value is >0, the codon at that particular position is commonly seen in sequences that are genes (makes y more positive). \n",
    "\n",
    "So based on the heatmap, it looks like the stop codons (TAA, TAG, and TGA) upstream of the start codon are more important in determining if a given sequence is a gene or not. Also, the squares for each of the 4 start codons at the 0th position are weighted around between 0.0 and -0.2, indicating they are not too important for predicting if a given sequence is a gene or not (which makes sense since all sequences - CDS and NCS - have the same start codons). "
   ]
  },
  {
   "cell_type": "markdown",
   "metadata": {},
   "source": [
    "## Find Gaussian Distributions for Postive/Negative TIS Features\n",
    "\n",
    "Ideally, input sequences into the prediction algorithm will contain all the information we need to determine if the sequence is a gene or not. However, next-generation sequencing (NGS) tools often produce fragments of DNA that vary in length from 100 bp to 700 bp. Therefore, the entire TIS region (30 bp upstream of the start codon to 30 bp downstream of the start codon) may not be present in the input sequence. \n",
    "\n",
    "To overcome this, a Gaussian distribution can be trained on the training genomes provided. Then, we can predict how likely a given fragment of a TIS window is from a gene or not. "
   ]
  },
  {
   "cell_type": "code",
   "execution_count": 11,
   "metadata": {},
   "outputs": [
    {
     "data": {
      "text/plain": [
       "(70029,)"
      ]
     },
     "execution_count": 11,
     "metadata": {},
     "output_type": "execute_result"
    }
   ],
   "source": [
    "LD_tis_red = LD_tis @ wT\n",
    "LD_tis_red.shape"
   ]
  },
  {
   "cell_type": "code",
   "execution_count": 12,
   "metadata": {},
   "outputs": [
    {
     "name": "stdout",
     "output_type": "stream",
     "text": [
      "2856 67173\n"
     ]
    }
   ],
   "source": [
    "LD_tis_pos = []\n",
    "LD_tis_neg = []\n",
    "\n",
    "for element in zip(LD_tis_red, LD_yt):\n",
    "    if element[1] == 1:\n",
    "        LD_tis_pos.append(element[0])\n",
    "    else:\n",
    "        LD_tis_neg.append(element[0])\n",
    "        \n",
    "print(len(LD_tis_pos), len(LD_tis_neg))"
   ]
  },
  {
   "cell_type": "code",
   "execution_count": 13,
   "metadata": {},
   "outputs": [
    {
     "name": "stdout",
     "output_type": "stream",
     "text": [
      "Saved data to ./data/tis-stats.\n",
      "[0.040783104142569505, 0.9592168958574305]\n",
      "[0.03857002227914169, -0.9591166585647091]\n",
      "[0.6239910585623043, 0.15505792862395792]\n"
     ]
    }
   ],
   "source": [
    "pi, mu, sd = prior_gaussian(LD_tis_pos, LD_tis_neg)\n",
    "\n",
    "print(pi)\n",
    "print(mu)\n",
    "print(sd)"
   ]
  },
  {
   "cell_type": "code",
   "execution_count": 14,
   "metadata": {},
   "outputs": [
    {
     "name": "stdout",
     "output_type": "stream",
     "text": [
      "0.7795583050319752 -1.0162752548855885\n",
      "1.0\n",
      "9.545193701309249e-26\n"
     ]
    }
   ],
   "source": [
    "# test gaussian distribution output on known sequence\n",
    "pos_test = LD_tis_pos[1]\n",
    "neg_test = LD_tis_neg[1]\n",
    "print(pos_test, neg_test)\n",
    "\n",
    "print(X3(pos_test, pi, mu, sd))\n",
    "print(X4(pos_test, pi, mu, sd))"
   ]
  },
  {
   "cell_type": "markdown",
   "metadata": {},
   "source": [
    "# Train Neural Network for Gene Prediction"
   ]
  },
  {
   "cell_type": "code",
   "execution_count": 16,
   "metadata": {},
   "outputs": [],
   "source": [
    "from keras.models import Sequential\n",
    "from keras.layers import Dense"
   ]
  },
  {
   "cell_type": "markdown",
   "metadata": {},
   "source": [
    "## Extract Codon and TIS Features"
   ]
  },
  {
   "cell_type": "code",
   "execution_count": 19,
   "metadata": {},
   "outputs": [
    {
     "name": "stdout",
     "output_type": "stream",
     "text": [
      "CPU times: user 19.6 s, sys: 516 ms, total: 20.1 s\n",
      "Wall time: 20.5 s\n",
      "Saved data to ./data/NNFE.\n"
     ]
    }
   ],
   "source": [
    "# features: tri, hex, tis_nn, gc, y\n",
    "%time NN_tri, NN_hex, NN_tis, NN_gc, NN_y = extract_codon_tis_features(NN_Data, train_nn=True)"
   ]
  },
  {
   "cell_type": "markdown",
   "metadata": {},
   "source": [
    "## Reduce Feature Dimensions"
   ]
  },
  {
   "cell_type": "code",
   "execution_count": 21,
   "metadata": {},
   "outputs": [
    {
     "name": "stdout",
     "output_type": "stream",
     "text": [
      "(4208,) (4208,) (4208,) (4208,) (4208,) (4208,)\n"
     ]
    }
   ],
   "source": [
    "x1 = NN_tri @ wM\n",
    "x2 = NN_hex @ wD \n",
    "x3 = X3(NN_tis @ wT, pi, mu, sd)\n",
    "x4 = X4(NN_tis @ wT, pi, mu, sd)\n",
    "x7 = NN_gc\n",
    "y  = NN_y\n",
    "\n",
    "print(x1.shape, x2.shape, x3.shape, x4.shape, x7.shape, y.shape)"
   ]
  },
  {
   "cell_type": "markdown",
   "metadata": {},
   "source": [
    "## Shuffle and Split Data"
   ]
  },
  {
   "cell_type": "code",
   "execution_count": 22,
   "metadata": {},
   "outputs": [
    {
     "name": "stdout",
     "output_type": "stream",
     "text": [
      "(4208, 5) (4208,)\n"
     ]
    }
   ],
   "source": [
    "nn_data = np.stack((x1,x2,x3,x4,x7,y)).T\n",
    "\n",
    "random.seed(8)\n",
    "random.shuffle(nn_data)\n",
    "\n",
    "X = nn_data[:, :-1]\n",
    "y = nn_data[:, -1]\n",
    "\n",
    "print(X.shape, y.shape)"
   ]
  },
  {
   "cell_type": "code",
   "execution_count": 24,
   "metadata": {},
   "outputs": [],
   "source": [
    "from sklearn.model_selection import train_test_split\n",
    "X_train, X_test, y_train, y_test = train_test_split(X, y, test_size=0.2, random_state=1)\n",
    "X_train, X_val, y_train, y_val = train_test_split(X_train, y_train, test_size=0.25, random_state=1) # 0.25 x 0.8 = 0.2"
   ]
  },
  {
   "cell_type": "markdown",
   "metadata": {},
   "source": [
    "## Define Model"
   ]
  },
  {
   "cell_type": "code",
   "execution_count": 25,
   "metadata": {},
   "outputs": [
    {
     "name": "stderr",
     "output_type": "stream",
     "text": [
      "2021-08-21 15:33:09.372839: I tensorflow/core/platform/cpu_feature_guard.cc:142] This TensorFlow binary is optimized with oneAPI Deep Neural Network Library (oneDNN)to use the following CPU instructions in performance-critical operations:  SSE4.1 SSE4.2 AVX AVX2 FMA\n",
      "To enable them in other operations, rebuild TensorFlow with the appropriate compiler flags.\n",
      "2021-08-21 15:33:09.388168: I tensorflow/core/platform/profile_utils/cpu_utils.cc:104] CPU Frequency: 2592000000 Hz\n",
      "2021-08-21 15:33:09.391935: I tensorflow/compiler/xla/service/service.cc:168] XLA service 0x7fffdcfb7bf0 initialized for platform Host (this does not guarantee that XLA will be used). Devices:\n",
      "2021-08-21 15:33:09.392046: I tensorflow/compiler/xla/service/service.cc:176]   StreamExecutor device (0): Host, Default Version\n"
     ]
    }
   ],
   "source": [
    "model = Sequential()\n",
    "model.add(Dense(25, input_dim=5, activation='relu'))\n",
    "model.add(Dense(1, activation='sigmoid'))\n",
    "model.compile(loss='binary_crossentropy', optimizer='adam', metrics=['accuracy'])"
   ]
  },
  {
   "cell_type": "code",
   "execution_count": 26,
   "metadata": {},
   "outputs": [
    {
     "name": "stdout",
     "output_type": "stream",
     "text": [
      "Epoch 1/100\n",
      "40/40 [==============================] - 0s 1ms/step - loss: 0.5769 - accuracy: 0.8910\n",
      "Epoch 2/100\n",
      "40/40 [==============================] - 0s 1ms/step - loss: 0.3392 - accuracy: 0.9410\n",
      "Epoch 3/100\n",
      "40/40 [==============================] - 0s 1ms/step - loss: 0.2025 - accuracy: 0.9406\n",
      "Epoch 4/100\n",
      "40/40 [==============================] - 0s 1ms/step - loss: 0.1148 - accuracy: 0.9402\n",
      "Epoch 5/100\n",
      "40/40 [==============================] - 0s 1ms/step - loss: 0.0499 - accuracy: 0.9382\n",
      "Epoch 6/100\n",
      "40/40 [==============================] - 0s 1ms/step - loss: -0.0062 - accuracy: 0.9362\n",
      "Epoch 7/100\n",
      "40/40 [==============================] - 0s 1ms/step - loss: -0.0553 - accuracy: 0.9354\n",
      "Epoch 8/100\n",
      "40/40 [==============================] - 0s 1ms/step - loss: -0.1046 - accuracy: 0.9334\n",
      "Epoch 9/100\n",
      "40/40 [==============================] - 0s 1ms/step - loss: -0.1539 - accuracy: 0.9330\n",
      "Epoch 10/100\n",
      "40/40 [==============================] - 0s 1ms/step - loss: -0.2074 - accuracy: 0.9326\n",
      "Epoch 11/100\n",
      "40/40 [==============================] - 0s 1ms/step - loss: -0.2632 - accuracy: 0.9319\n",
      "Epoch 12/100\n",
      "40/40 [==============================] - 0s 991us/step - loss: -0.3228 - accuracy: 0.9307\n",
      "Epoch 13/100\n",
      "40/40 [==============================] - 0s 1ms/step - loss: -0.3872 - accuracy: 0.9295\n",
      "Epoch 14/100\n",
      "40/40 [==============================] - 0s 1ms/step - loss: -0.4562 - accuracy: 0.9279\n",
      "Epoch 15/100\n",
      "40/40 [==============================] - 0s 1ms/step - loss: -0.5303 - accuracy: 0.9263\n",
      "Epoch 16/100\n",
      "40/40 [==============================] - 0s 1ms/step - loss: -0.6110 - accuracy: 0.9251\n",
      "Epoch 17/100\n",
      "40/40 [==============================] - 0s 1ms/step - loss: -0.7011 - accuracy: 0.9219\n",
      "Epoch 18/100\n",
      "40/40 [==============================] - 0s 963us/step - loss: -0.8001 - accuracy: 0.9204\n",
      "Epoch 19/100\n",
      "40/40 [==============================] - 0s 1ms/step - loss: -0.9067 - accuracy: 0.9200\n",
      "Epoch 20/100\n",
      "40/40 [==============================] - 0s 1ms/step - loss: -1.0216 - accuracy: 0.9160\n",
      "Epoch 21/100\n",
      "40/40 [==============================] - 0s 1ms/step - loss: -1.1424 - accuracy: 0.9148\n",
      "Epoch 22/100\n",
      "40/40 [==============================] - 0s 1ms/step - loss: -1.2793 - accuracy: 0.9148\n",
      "Epoch 23/100\n",
      "40/40 [==============================] - 0s 1ms/step - loss: -1.4202 - accuracy: 0.9144\n",
      "Epoch 24/100\n",
      "40/40 [==============================] - 0s 1ms/step - loss: -1.5727 - accuracy: 0.9140\n",
      "Epoch 25/100\n",
      "40/40 [==============================] - 0s 1ms/step - loss: -1.7332 - accuracy: 0.9124\n",
      "Epoch 26/100\n",
      "40/40 [==============================] - 0s 1ms/step - loss: -1.8964 - accuracy: 0.9116\n",
      "Epoch 27/100\n",
      "40/40 [==============================] - 0s 1ms/step - loss: -2.0722 - accuracy: 0.9132\n",
      "Epoch 28/100\n",
      "40/40 [==============================] - 0s 1ms/step - loss: -2.2566 - accuracy: 0.9124\n",
      "Epoch 29/100\n",
      "40/40 [==============================] - 0s 1ms/step - loss: -2.4540 - accuracy: 0.9105\n",
      "Epoch 30/100\n",
      "40/40 [==============================] - 0s 1ms/step - loss: -2.6594 - accuracy: 0.9101\n",
      "Epoch 31/100\n",
      "40/40 [==============================] - 0s 1ms/step - loss: -2.8740 - accuracy: 0.9113\n",
      "Epoch 32/100\n",
      "40/40 [==============================] - 0s 1ms/step - loss: -3.1009 - accuracy: 0.9101\n",
      "Epoch 33/100\n",
      "40/40 [==============================] - 0s 1ms/step - loss: -3.3292 - accuracy: 0.9101\n",
      "Epoch 34/100\n",
      "40/40 [==============================] - 0s 1ms/step - loss: -3.5678 - accuracy: 0.9124\n",
      "Epoch 35/100\n",
      "40/40 [==============================] - 0s 1ms/step - loss: -3.8094 - accuracy: 0.9109\n",
      "Epoch 36/100\n",
      "40/40 [==============================] - 0s 1ms/step - loss: -4.0686 - accuracy: 0.9116\n",
      "Epoch 37/100\n",
      "40/40 [==============================] - 0s 1ms/step - loss: -4.3306 - accuracy: 0.9132\n",
      "Epoch 38/100\n",
      "40/40 [==============================] - 0s 1ms/step - loss: -4.5948 - accuracy: 0.9132\n",
      "Epoch 39/100\n",
      "40/40 [==============================] - 0s 1ms/step - loss: -4.8712 - accuracy: 0.9132\n",
      "Epoch 40/100\n",
      "40/40 [==============================] - 0s 1ms/step - loss: -5.1565 - accuracy: 0.9132\n",
      "Epoch 41/100\n",
      "40/40 [==============================] - 0s 1ms/step - loss: -5.4471 - accuracy: 0.9136\n",
      "Epoch 42/100\n",
      "40/40 [==============================] - 0s 1ms/step - loss: -5.7476 - accuracy: 0.9132\n",
      "Epoch 43/100\n",
      "40/40 [==============================] - 0s 1ms/step - loss: -6.0505 - accuracy: 0.9132\n",
      "Epoch 44/100\n",
      "40/40 [==============================] - 0s 1ms/step - loss: -6.3750 - accuracy: 0.9136\n",
      "Epoch 45/100\n",
      "40/40 [==============================] - 0s 1ms/step - loss: -6.6950 - accuracy: 0.9136\n",
      "Epoch 46/100\n",
      "40/40 [==============================] - 0s 1ms/step - loss: -7.0286 - accuracy: 0.9136\n",
      "Epoch 47/100\n",
      "40/40 [==============================] - 0s 1ms/step - loss: -7.3594 - accuracy: 0.9136\n",
      "Epoch 48/100\n",
      "40/40 [==============================] - 0s 1ms/step - loss: -7.6955 - accuracy: 0.9136\n",
      "Epoch 49/100\n",
      "40/40 [==============================] - 0s 1ms/step - loss: -8.0476 - accuracy: 0.9136\n",
      "Epoch 50/100\n",
      "40/40 [==============================] - 0s 1ms/step - loss: -8.4027 - accuracy: 0.9136\n",
      "Epoch 51/100\n",
      "40/40 [==============================] - 0s 990us/step - loss: -8.7586 - accuracy: 0.9140\n",
      "Epoch 52/100\n",
      "40/40 [==============================] - 0s 1ms/step - loss: -9.1306 - accuracy: 0.9140\n",
      "Epoch 53/100\n",
      "40/40 [==============================] - 0s 1ms/step - loss: -9.4995 - accuracy: 0.9144\n",
      "Epoch 54/100\n",
      "40/40 [==============================] - 0s 1ms/step - loss: -9.8848 - accuracy: 0.9144\n",
      "Epoch 55/100\n",
      "40/40 [==============================] - 0s 1ms/step - loss: -10.2713 - accuracy: 0.9144\n",
      "Epoch 56/100\n",
      "40/40 [==============================] - 0s 1ms/step - loss: -10.6778 - accuracy: 0.9144\n",
      "Epoch 57/100\n",
      "40/40 [==============================] - 0s 1ms/step - loss: -11.0783 - accuracy: 0.9144\n",
      "Epoch 58/100\n",
      "40/40 [==============================] - 0s 1ms/step - loss: -11.4868 - accuracy: 0.9144\n",
      "Epoch 59/100\n",
      "40/40 [==============================] - 0s 1ms/step - loss: -11.9015 - accuracy: 0.9144\n",
      "Epoch 60/100\n",
      "40/40 [==============================] - 0s 1ms/step - loss: -12.3192 - accuracy: 0.9144\n",
      "Epoch 61/100\n",
      "40/40 [==============================] - 0s 1ms/step - loss: -12.7353 - accuracy: 0.9144\n",
      "Epoch 62/100\n",
      "40/40 [==============================] - 0s 1ms/step - loss: -13.1694 - accuracy: 0.9144\n",
      "Epoch 63/100\n",
      "40/40 [==============================] - 0s 1ms/step - loss: -13.5918 - accuracy: 0.9144\n",
      "Epoch 64/100\n",
      "40/40 [==============================] - 0s 1ms/step - loss: -14.0498 - accuracy: 0.9148\n",
      "Epoch 65/100\n",
      "40/40 [==============================] - 0s 1ms/step - loss: -14.4991 - accuracy: 0.9148\n",
      "Epoch 66/100\n",
      "40/40 [==============================] - 0s 1ms/step - loss: -14.9523 - accuracy: 0.9152\n",
      "Epoch 67/100\n",
      "40/40 [==============================] - 0s 1ms/step - loss: -15.4141 - accuracy: 0.9148\n",
      "Epoch 68/100\n",
      "40/40 [==============================] - 0s 1ms/step - loss: -15.8733 - accuracy: 0.9152\n",
      "Epoch 69/100\n",
      "40/40 [==============================] - 0s 2ms/step - loss: -16.3440 - accuracy: 0.9156\n",
      "Epoch 70/100\n",
      "40/40 [==============================] - 0s 940us/step - loss: -16.8089 - accuracy: 0.9156\n",
      "Epoch 71/100\n",
      "40/40 [==============================] - 0s 1ms/step - loss: -17.2937 - accuracy: 0.9160\n",
      "Epoch 72/100\n",
      "40/40 [==============================] - 0s 1ms/step - loss: -17.7677 - accuracy: 0.9164\n",
      "Epoch 73/100\n",
      "40/40 [==============================] - 0s 1ms/step - loss: -18.2659 - accuracy: 0.9172\n",
      "Epoch 74/100\n",
      "40/40 [==============================] - 0s 1ms/step - loss: -18.7597 - accuracy: 0.9168\n",
      "Epoch 75/100\n",
      "40/40 [==============================] - 0s 1ms/step - loss: -19.2736 - accuracy: 0.9172\n",
      "Epoch 76/100\n",
      "40/40 [==============================] - 0s 1ms/step - loss: -19.7736 - accuracy: 0.9172\n",
      "Epoch 77/100\n",
      "40/40 [==============================] - 0s 1ms/step - loss: -20.3031 - accuracy: 0.9172\n",
      "Epoch 78/100\n",
      "40/40 [==============================] - 0s 1ms/step - loss: -20.8128 - accuracy: 0.9172\n",
      "Epoch 79/100\n",
      "40/40 [==============================] - 0s 1ms/step - loss: -21.3516 - accuracy: 0.9172\n",
      "Epoch 80/100\n",
      "40/40 [==============================] - 0s 1ms/step - loss: -21.8762 - accuracy: 0.9172\n",
      "Epoch 81/100\n",
      "40/40 [==============================] - 0s 1ms/step - loss: -22.4222 - accuracy: 0.9172\n",
      "Epoch 82/100\n",
      "40/40 [==============================] - 0s 1ms/step - loss: -22.9528 - accuracy: 0.9172\n",
      "Epoch 83/100\n",
      "40/40 [==============================] - 0s 954us/step - loss: -23.4989 - accuracy: 0.9172\n",
      "Epoch 84/100\n",
      "40/40 [==============================] - 0s 1ms/step - loss: -24.0541 - accuracy: 0.9172\n",
      "Epoch 85/100\n",
      "40/40 [==============================] - 0s 982us/step - loss: -24.6063 - accuracy: 0.9172\n",
      "Epoch 86/100\n",
      "40/40 [==============================] - 0s 955us/step - loss: -25.1624 - accuracy: 0.9172\n",
      "Epoch 87/100\n",
      "40/40 [==============================] - 0s 1ms/step - loss: -25.7303 - accuracy: 0.9172\n",
      "Epoch 88/100\n",
      "40/40 [==============================] - 0s 1ms/step - loss: -26.3096 - accuracy: 0.9172\n",
      "Epoch 89/100\n",
      "40/40 [==============================] - 0s 964us/step - loss: -26.8797 - accuracy: 0.9172\n",
      "Epoch 90/100\n",
      "40/40 [==============================] - 0s 1ms/step - loss: -27.4733 - accuracy: 0.9172\n",
      "Epoch 91/100\n",
      "40/40 [==============================] - 0s 1ms/step - loss: -28.0554 - accuracy: 0.9172\n",
      "Epoch 92/100\n",
      "40/40 [==============================] - 0s 1ms/step - loss: -28.6464 - accuracy: 0.9172\n",
      "Epoch 93/100\n",
      "40/40 [==============================] - 0s 1ms/step - loss: -29.2487 - accuracy: 0.9172\n",
      "Epoch 94/100\n",
      "40/40 [==============================] - 0s 1ms/step - loss: -29.8589 - accuracy: 0.9172\n",
      "Epoch 95/100\n",
      "40/40 [==============================] - 0s 896us/step - loss: -30.4662 - accuracy: 0.9172\n",
      "Epoch 96/100\n",
      "40/40 [==============================] - 0s 1ms/step - loss: -31.0693 - accuracy: 0.9172\n",
      "Epoch 97/100\n",
      "40/40 [==============================] - 0s 1ms/step - loss: -31.6800 - accuracy: 0.9172\n",
      "Epoch 98/100\n",
      "40/40 [==============================] - 0s 1ms/step - loss: -32.2956 - accuracy: 0.9172\n",
      "Epoch 99/100\n",
      "40/40 [==============================] - 0s 1ms/step - loss: -32.9237 - accuracy: 0.9172\n",
      "Epoch 100/100\n",
      "40/40 [==============================] - 0s 1ms/step - loss: -33.5693 - accuracy: 0.9172\n"
     ]
    }
   ],
   "source": [
    "history = model.fit(X_train, y_train, epochs=100, batch_size=64)"
   ]
  },
  {
   "cell_type": "markdown",
   "metadata": {},
   "source": [
    "## Save Model"
   ]
  },
  {
   "cell_type": "code",
   "execution_count": null,
   "metadata": {},
   "outputs": [],
   "source": [
    "# TODO"
   ]
  },
  {
   "cell_type": "code",
   "execution_count": 30,
   "metadata": {},
   "outputs": [],
   "source": [
    "y_pred = model.predict(X_test)\n",
    "\n",
    "#Converting predictions to label\n",
    "pred = []\n",
    "for i in range(len(y_pred)):\n",
    "    pred.append(np.argmax(y_pred[i]))\n",
    "\n",
    "#Converting one hot encoded test label to label\n",
    "test = []\n",
    "for i in range(len(y_test)):\n",
    "    test.append(np.argmax(y_test[i]))"
   ]
  }
 ],
 "metadata": {
  "kernelspec": {
   "display_name": "Python 3 (ipykernel)",
   "language": "python",
   "name": "python3"
  },
  "language_info": {
   "codemirror_mode": {
    "name": "ipython",
    "version": 3
   },
   "file_extension": ".py",
   "mimetype": "text/x-python",
   "name": "python",
   "nbconvert_exporter": "python",
   "pygments_lexer": "ipython3",
   "version": "3.8.8"
  }
 },
 "nbformat": 4,
 "nbformat_minor": 4
}
