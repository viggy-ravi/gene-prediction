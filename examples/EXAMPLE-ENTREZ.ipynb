{
 "cells": [
  {
   "cell_type": "code",
   "execution_count": 1,
   "metadata": {},
   "outputs": [],
   "source": [
    "from Bio import Entrez\n",
    "from Bio import SeqIO\n",
    "Entrez.email = \"vignesh.ravindranath@gmail.com\""
   ]
  },
  {
   "cell_type": "markdown",
   "metadata": {},
   "source": [
    "# Get Coding Sequences from GenBank file"
   ]
  },
  {
   "cell_type": "code",
   "execution_count": 2,
   "metadata": {},
   "outputs": [],
   "source": [
    "# prok_id = 'NC_000917.1'\n",
    "prok_id = 'NZ_KK211333.1'\n",
    "# prok_id = 'NZ_KN050820.1'\n",
    "# prok_id = 'CCX57206.1'\n",
    "# prok_id = 'NZ_UETD01000019.1'"
   ]
  },
  {
   "cell_type": "code",
   "execution_count": 3,
   "metadata": {},
   "outputs": [],
   "source": [
    "handle = Entrez.efetch(db='sequences', id=prok_id, rettype='gbwithparts', retmode='text')\n",
    "record = SeqIO.read(handle, 'gb')\n",
    "handle.close()"
   ]
  },
  {
   "cell_type": "code",
   "execution_count": 4,
   "metadata": {},
   "outputs": [
    {
     "name": "stdout",
     "output_type": "stream",
     "text": [
      "NZ_KK211333.1\n",
      "NZ_KK211333\n",
      "Prevotella brevis ATCC 19188 T433DRAFT_scaffold00005.5, whole genome shotgun sequence\n",
      "435\n",
      "255078\n"
     ]
    }
   ],
   "source": [
    "print(record.id)\n",
    "print(record.name)\n",
    "print(record.description)    # description of ID\n",
    "print(len(record.features))  # number of features (gene, CDS, rRNA, tRNA, ncRNA, repeat_region)\n",
    "print(len(record.seq))       # length of entire genome sequence"
   ]
  },
  {
   "cell_type": "code",
   "execution_count": 5,
   "metadata": {},
   "outputs": [
    {
     "name": "stdout",
     "output_type": "stream",
     "text": [
      "213 coding sequences (CDS) - genes\n"
     ]
    }
   ],
   "source": [
    "# find number of CDSs only\n",
    "count = 0\n",
    "for feature in record.features:\n",
    "    if feature.type == 'CDS':\n",
    "        count += 1\n",
    "print(f'{count} coding sequences (CDS) - genes')"
   ]
  },
  {
   "cell_type": "markdown",
   "metadata": {},
   "source": [
    "# Get full sequence from FASTA file"
   ]
  },
  {
   "cell_type": "code",
   "execution_count": 6,
   "metadata": {
    "tags": []
   },
   "outputs": [
    {
     "name": "stdout",
     "output_type": "stream",
     "text": [
      "255078\n"
     ]
    }
   ],
   "source": [
    "# FASTA file to get sequence/genome only\n",
    "handle = Entrez.efetch(db='sequences', id=prok_id, rettype='fasta', retmode='text')\n",
    "sequence = SeqIO.read(handle, 'fasta')\n",
    "handle.close()\n",
    "\n",
    "print(len(record.seq))"
   ]
  }
 ],
 "metadata": {
  "kernelspec": {
   "display_name": "Python 3 (ipykernel)",
   "language": "python",
   "name": "python3"
  },
  "language_info": {
   "codemirror_mode": {
    "name": "ipython",
    "version": 3
   },
   "file_extension": ".py",
   "mimetype": "text/x-python",
   "name": "python",
   "nbconvert_exporter": "python",
   "pygments_lexer": "ipython3",
   "version": "3.8.8"
  }
 },
 "nbformat": 4,
 "nbformat_minor": 4
}
