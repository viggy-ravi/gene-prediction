{
 "cells": [
  {
   "cell_type": "code",
   "execution_count": 1,
   "id": "25910574-759d-46bd-9c5d-08c35c105ba1",
   "metadata": {},
   "outputs": [],
   "source": [
    "email = \"vignesh.ravindranath@gmail.com\"\n",
    "\n",
    "import os\n",
    "import sys\n",
    "import numpy as np\n",
    "from scipy.sparse import csr_matrix\n",
    "from Bio import Entrez\n",
    "Entrez.email = email\n",
    "\n",
    "import re\n",
    "import itertools\n",
    "import textwrap\n",
    "\n",
    "from Bio import SeqIO\n",
    "from Bio.SeqRecord import SeqRecord\n",
    "from Bio.SeqFeature import SeqFeature, FeatureLocation"
   ]
  },
  {
   "cell_type": "code",
   "execution_count": 8,
   "id": "c08acfd4-7c2e-4c6e-9346-68ebb0f6c06c",
   "metadata": {},
   "outputs": [],
   "source": [
    "START_CODONS = ['ATG','CTG','GTG','TTG']\n",
    "STOP_CODONS = ['TAG','TGA','TAA']\n",
    "\n",
    "def preprocess_genome(prokaryote_ids, OFFSET=30):\n",
    "    _cds, _ncs = [], []\n",
    "\n",
    "    for prokaryote_id in prokaryote_ids:\n",
    "        try:\n",
    "            seq_record = fetch_genome(prokaryote_id)                           # fetch genome\n",
    "            print(f'Successfully fetched {prokaryote_id}')\n",
    "        except Exception:\n",
    "            print(f'Invalid accession number: {prokaryote_id}')\n",
    "            continue\n",
    "    \n",
    "    return _cds, _ncs\n",
    "\n",
    "def fetch_genome(prokaryote_id):\n",
    "    # seq_records (features) from GenBank file\n",
    "    handle = Entrez.efetch(db=\"sequences\", id=prokaryote_id, rettype=\"gbwithparts\", retmode=\"text\")\n",
    "    seq_record = SeqIO.read(handle, \"gb\")\n",
    "    handle.close()\n",
    "    \n",
    "    return seq_record"
   ]
  },
  {
   "cell_type": "code",
   "execution_count": 9,
   "id": "b684975e-19b4-4b83-a832-c93db199663d",
   "metadata": {},
   "outputs": [
    {
     "name": "stdout",
     "output_type": "stream",
     "text": [
      "Invalid accession number: NZ_UETD0100019.1\n",
      "Successfully fetched NZ_KK211333.1\n",
      "Successfully fetched NZ_KN050820.1\n",
      "Successfully fetched CCX57206.1\n",
      "CPU times: user 359 ms, sys: 156 ms, total: 516 ms\n",
      "Wall time: 7.04 s\n"
     ]
    }
   ],
   "source": [
    "prokaryote_ids = ['NZ_UETD0100019.1', 'NZ_KK211333.1', 'NZ_KN050820.1', 'CCX57206.1']\n",
    "\n",
    "# preprocess_genome takes an input list of GenBank prokaryote ids\n",
    "%time _cds, _ncs = preprocess_genome(prokaryote_ids)"
   ]
  }
 ],
 "metadata": {
  "kernelspec": {
   "display_name": "Python 3 (ipykernel)",
   "language": "python",
   "name": "python3"
  },
  "language_info": {
   "codemirror_mode": {
    "name": "ipython",
    "version": 3
   },
   "file_extension": ".py",
   "mimetype": "text/x-python",
   "name": "python",
   "nbconvert_exporter": "python",
   "pygments_lexer": "ipython3",
   "version": "3.8.8"
  }
 },
 "nbformat": 4,
 "nbformat_minor": 5
}
