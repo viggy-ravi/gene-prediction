{
 "cells": [
  {
   "cell_type": "code",
   "execution_count": 2,
   "metadata": {},
   "outputs": [],
   "source": [
    "import numpy as np\n",
    "import sys\n",
    "%load_ext memory_profiler"
   ]
  },
  {
   "cell_type": "code",
   "execution_count": 7,
   "metadata": {},
   "outputs": [
    {
     "name": "stdout",
     "output_type": "stream",
     "text": [
      "peak memory: 88.39 MiB, increment: 7.63 MiB\n",
      "28.1 ms ± 698 µs per loop (mean ± std. dev. of 7 runs, 10 loops each)\n",
      "peak memory: 88.45 MiB, increment: 0.05 MiB\n",
      "26.3 ms ± 685 µs per loop (mean ± std. dev. of 7 runs, 10 loops each)\n"
     ]
    }
   ],
   "source": [
    "N = 1000\n",
    "A = np.random.random((N,N)).astype(np.float32)\n",
    "print(sys.getsizeof(A))\n",
    "\n",
    "%memit (A.T).dot(A)\n",
    "%timeit (A.T).dot(A)\n",
    "\n",
    "%memit (A.T) @ (A)\n",
    "%timeit (A.T) @ (A)"
   ]
  },
  {
   "cell_type": "code",
   "execution_count": 10,
   "metadata": {},
   "outputs": [
    {
     "name": "stdout",
     "output_type": "stream",
     "text": [
      "400.00112 MB\n"
     ]
    }
   ],
   "source": [
    "A = np.random.random((4000,5000)).astype(np.float16)\n",
    "print(f'{sys.getsizeof(A) / 100000} MB')"
   ]
  },
  {
   "cell_type": "code",
   "execution_count": 11,
   "metadata": {},
   "outputs": [],
   "source": [
    "from tempfile import mkdtemp\n",
    "import os.path as path\n",
    "filename = path.join(mkdtemp(), 'newfile.dat')"
   ]
  },
  {
   "cell_type": "code",
   "execution_count": 12,
   "metadata": {},
   "outputs": [
    {
     "data": {
      "text/plain": [
       "memmap([[0., 0., 0., ..., 0., 0., 0.],\n",
       "        [0., 0., 0., ..., 0., 0., 0.],\n",
       "        [0., 0., 0., ..., 0., 0., 0.],\n",
       "        ...,\n",
       "        [0., 0., 0., ..., 0., 0., 0.],\n",
       "        [0., 0., 0., ..., 0., 0., 0.],\n",
       "        [0., 0., 0., ..., 0., 0., 0.]], dtype=float16)"
      ]
     },
     "execution_count": 12,
     "metadata": {},
     "output_type": "execute_result"
    }
   ],
   "source": [
    "fp = np.memmap(filename, dtype='float16', mode='w+', shape=(4000,5000))\n",
    "fp"
   ]
  },
  {
   "cell_type": "code",
   "execution_count": 13,
   "metadata": {},
   "outputs": [
    {
     "data": {
      "text/plain": [
       "memmap([[0.4575  , 0.558   , 0.454   , ..., 0.2937  , 0.007286, 0.7227  ],\n",
       "        [0.1063  , 0.2023  , 0.2542  , ..., 0.93    , 0.3708  , 0.3896  ],\n",
       "        [0.3838  , 0.62    , 0.5483  , ..., 0.8374  , 0.748   , 0.1126  ],\n",
       "        ...,\n",
       "        [0.953   , 0.87    , 0.217   , ..., 0.9414  , 0.6006  , 0.902   ],\n",
       "        [0.9517  , 0.493   , 0.641   , ..., 0.182   , 0.09863 , 0.4988  ],\n",
       "        [0.6846  , 0.66    , 0.957   , ..., 0.603   , 0.803   , 0.1381  ]],\n",
       "       dtype=float16)"
      ]
     },
     "execution_count": 13,
     "metadata": {},
     "output_type": "execute_result"
    }
   ],
   "source": [
    "fp[:] = A[:]\n",
    "fp"
   ]
  },
  {
   "cell_type": "code",
   "execution_count": 14,
   "metadata": {},
   "outputs": [
    {
     "data": {
      "text/plain": [
       "True"
      ]
     },
     "execution_count": 14,
     "metadata": {},
     "output_type": "execute_result"
    }
   ],
   "source": [
    "fp.filename == path.abspath(filename)"
   ]
  },
  {
   "cell_type": "code",
   "execution_count": 15,
   "metadata": {},
   "outputs": [],
   "source": [
    "fp.flush()"
   ]
  },
  {
   "cell_type": "code",
   "execution_count": 17,
   "metadata": {},
   "outputs": [
    {
     "data": {
      "text/plain": [
       "memmap([[0.4575  , 0.558   , 0.454   , ..., 0.2937  , 0.007286, 0.7227  ],\n",
       "        [0.1063  , 0.2023  , 0.2542  , ..., 0.93    , 0.3708  , 0.3896  ],\n",
       "        [0.3838  , 0.62    , 0.5483  , ..., 0.8374  , 0.748   , 0.1126  ],\n",
       "        ...,\n",
       "        [0.953   , 0.87    , 0.217   , ..., 0.9414  , 0.6006  , 0.902   ],\n",
       "        [0.9517  , 0.493   , 0.641   , ..., 0.182   , 0.09863 , 0.4988  ],\n",
       "        [0.6846  , 0.66    , 0.957   , ..., 0.603   , 0.803   , 0.1381  ]],\n",
       "       dtype=float16)"
      ]
     },
     "execution_count": 17,
     "metadata": {},
     "output_type": "execute_result"
    }
   ],
   "source": [
    "newfp = np.memmap(filename, dtype='float16', mode='r', shape=(4000,5000))\n",
    "newfp"
   ]
  }
 ],
 "metadata": {
  "kernelspec": {
   "display_name": "Python 3",
   "language": "python",
   "name": "python3"
  },
  "language_info": {
   "codemirror_mode": {
    "name": "ipython",
    "version": 3
   },
   "file_extension": ".py",
   "mimetype": "text/x-python",
   "name": "python",
   "nbconvert_exporter": "python",
   "pygments_lexer": "ipython3",
   "version": "3.8.3"
  }
 },
 "nbformat": 4,
 "nbformat_minor": 4
}
